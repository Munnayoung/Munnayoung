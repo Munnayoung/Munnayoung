{
  "nbformat": 4,
  "nbformat_minor": 0,
  "metadata": {
    "colab": {
      "name": "211126_python과제",
      "provenance": [],
      "authorship_tag": "ABX9TyMsKGkrnEmaUMlpaAstdmaV",
      "include_colab_link": true
    },
    "kernelspec": {
      "name": "python3",
      "display_name": "Python 3"
    },
    "language_info": {
      "name": "python"
    }
  },
  "cells": [
    {
      "cell_type": "markdown",
      "metadata": {
        "id": "view-in-github",
        "colab_type": "text"
      },
      "source": [
        "<a href=\"https://colab.research.google.com/github/Munnayoung/Munnayoung/blob/%EC%97%B0%EC%8A%B5%EB%AC%B8%EC%A0%9C-1%EC%9E%A5%2Ba/211126_python%EA%B3%BC%EC%A0%9C.ipynb\" target=\"_parent\"><img src=\"https://colab.research.google.com/assets/colab-badge.svg\" alt=\"Open In Colab\"/></a>"
      ]
    },
    {
      "cell_type": "code",
      "metadata": {
        "colab": {
          "base_uri": "https://localhost:8080/"
        },
        "id": "h43pc_myuj61",
        "outputId": "5f2cc59f-6fc6-4b91-abc9-cbed1fed7a1a"
      },
      "source": [
        "import random                             #random module 을 불러옵니다.\n",
        "\n",
        "solution = random.randint(0,99)           #solution 값을 random 정수형태로 0에서 99사이의 값을 임의로 받습니다.\n",
        "\n",
        "user = int(input(\"복권번호를 입력하시오(0에서 99사이)\"))    #0에서 99사이 복권번호를 입력합니다\n",
        "\n",
        "digit1 = solution // 10\n",
        "digit2 = solution % 10\n",
        "\n",
        "u_digit1 = user // 10\n",
        "u_digit2 = user % 10\n",
        "\n",
        "print(\"당첨번호는\",solution,\"입니다\")               #당첨 번호가 나옵니다\n",
        "\n",
        "if (digit1 == u_digit1 and digit2 == u_digit2):     #만약에 ()사이 주어진 글이 맞다면\n",
        "  print(\"상금은 100만원 입니다.\")                   #상금은 100만원으로 출력됩니다\n",
        "elif (digit1 == u_digit1 \n",
        "      or digit1 == u_digit2\n",
        "      or digit2 == u_digit1\n",
        "      or digit2 == u_digit2):\n",
        "  print(\"상금은 50만원입니다.\")                   #상금 50만원이 출력됩니다\n",
        "else:\n",
        "  print(\"상금은 없습니다.\")                       #그렇지 않다면 상금은 없습니다."
      ],
      "execution_count": 2,
      "outputs": [
        {
          "output_type": "stream",
          "name": "stdout",
          "text": [
            "복권번호를 입력하시오(0에서 99사이)90\n",
            "당첨번호는 85 입니다\n",
            "상금은 없습니다.\n"
          ]
        }
      ]
    },
    {
      "cell_type": "code",
      "metadata": {
        "colab": {
          "base_uri": "https://localhost:8080/"
        },
        "id": "Fig5DdPh0rQb",
        "outputId": "05141b40-d239-4d2c-f308-c4c21339c9ec"
      },
      "source": [
        "n = int(input(\"정수를 입력하시오: \"))                    #정수를 입력합니다.\n",
        "if n%2==0 and n%3==0:                                    #2와 3으로 계산해서 0이 되는 식이다. and 두조건이 모두 참일때 실행합니다\n",
        "  print(\"2와 3으로 나누어 떨어집니다.\")                  #참이면 여기서 실행이됩니다.\n",
        "else:\n",
        "  print(\"2와 3으로 나누어 떨어지지 않습니다.\")           #그렇지 않으면 여기서 출력이 됩니다."
      ],
      "execution_count": 10,
      "outputs": [
        {
          "output_type": "stream",
          "name": "stdout",
          "text": [
            "정수를 입력하시오: 50\n",
            "2와 3으로 나누어 떨어지지 않습니다.\n"
          ]
        }
      ]
    },
    {
      "cell_type": "code",
      "metadata": {
        "colab": {
          "base_uri": "https://localhost:8080/"
        },
        "id": "7EwFCxb91o5f",
        "outputId": "a50b2fa3-74ce-402d-a881-061d064253fa"
      },
      "source": [
        "year = int(input(\"연도를 입력하시오: \"))                 #연도를 입력합니다.\n",
        "if ((year % 4==0 and year % 10 !=0) or year %400 ==0):   #운년을 판단하는 조건식으로 계산합니다.\n",
        "  print(year,\"년은 윤년입니다\")                          #결괏값이 참이면 윤년이라고 출력합니다.\n",
        "else:          \n",
        "  print(year,\"년은 윤년이 아닙니다.\")                    #그렇지 않으면 여기서 출력됩니다."
      ],
      "execution_count": 11,
      "outputs": [
        {
          "output_type": "stream",
          "name": "stdout",
          "text": [
            "연도를 입력하시오: 2021\n",
            "2021 년은 윤년이 아닙니다.\n"
          ]
        }
      ]
    }
  ]
}