{
  "nbformat": 4,
  "nbformat_minor": 0,
  "metadata": {
    "colab": {
      "name": "211122_python도전문제3장",
      "provenance": [],
      "authorship_tag": "ABX9TyOu/T8E5ZGzSt14ief4cSQS",
      "include_colab_link": true
    },
    "kernelspec": {
      "name": "python3",
      "display_name": "Python 3"
    },
    "language_info": {
      "name": "python"
    }
  },
  "cells": [
    {
      "cell_type": "markdown",
      "metadata": {
        "id": "view-in-github",
        "colab_type": "text"
      },
      "source": [
        "<a href=\"https://colab.research.google.com/github/Munnayoung/Munnayoung/blob/%EC%97%B0%EC%8A%B5%EB%AC%B8%EC%A0%9C-3%EC%9E%A5%EC%9D%B4%ED%9B%84%EB%B6%80%ED%84%B0%EB%9E%91-%EB%8F%84%EC%A0%84%EB%AC%B8%EC%A0%9C%EC%8B%9C%EB%A6%AC%EC%A6%88/211122_python%EB%8F%84%EC%A0%84%EB%AC%B8%EC%A0%9C3%EC%9E%A5.ipynb\" target=\"_parent\"><img src=\"https://colab.research.google.com/assets/colab-badge.svg\" alt=\"Open In Colab\"/></a>"
      ]
    },
    {
      "cell_type": "code",
      "metadata": {
        "colab": {
          "base_uri": "https://localhost:8080/"
        },
        "id": "IgYaLgzCAyAI",
        "outputId": "db47a761-b168-4ab6-df5a-bcab2102ae93"
      },
      "source": [
        "total = 100000 #총 재료비용\n",
        "americano_price = 2000\n",
        "cafelatte_price = 3000\n",
        "capucino_price = 3500\n",
        "\n",
        "americanos = int(input(\"아메리카노 판매 개수: \"))\n",
        "cafelattes = int(input(\"카페라떼 판매 개수: \"))\n",
        "capucinos = int(input(\"카푸치노 판매 개수: \"))\n",
        "\n",
        "sales = americanos*americano_price\n",
        "sales = sales + cafelattes*cafelatte_price\n",
        "sales = sales + capucinos*capucino_price\n",
        "print(\"총 매출은\",sales,\"입니다.\")\n",
        "\n",
        "if (total < sales) : print(\"흑자입니다.\")\n",
        "else: print(\"적자입니다.\")"
      ],
      "execution_count": 1,
      "outputs": [
        {
          "output_type": "stream",
          "name": "stdout",
          "text": [
            "아메리카노 판매 개수: 10\n",
            "카페라떼 판매 개수: 20\n",
            "카푸치노 판매 개수: 30\n",
            "총 매출은 185000 입니다.\n",
            "흑자입니다.\n"
          ]
        }
      ]
    },
    {
      "cell_type": "code",
      "metadata": {
        "colab": {
          "base_uri": "https://localhost:8080/"
        },
        "id": "mKsDP5EODBvA",
        "outputId": "f2814485-8f1b-4fc1-8fdf-c42137f1d8d6"
      },
      "source": [
        "ctemp = int(input(\"섭씨온도: \"))\n",
        "ftemp = 9/5*ctemp+32\n",
        "print(\"화씨온도: \",ftemp )"
      ],
      "execution_count": 9,
      "outputs": [
        {
          "output_type": "stream",
          "name": "stdout",
          "text": [
            "섭씨온도: 36\n",
            "화씨온도:  96.8\n"
          ]
        }
      ]
    },
    {
      "cell_type": "code",
      "metadata": {
        "colab": {
          "base_uri": "https://localhost:8080/"
        },
        "id": "8fR4iBO6Dl3I",
        "outputId": "61d8c04e-0f4e-46e6-e006-4a41c4c8de13"
      },
      "source": [
        "ftemp = int(input(\"화씨온도: \"))\n",
        "ctemp = (ftemp-32.0)*5.0/9.0\n",
        "print(\"섭씨온도: \",ctemp)"
      ],
      "execution_count": 5,
      "outputs": [
        {
          "output_type": "stream",
          "name": "stdout",
          "text": [
            "화씨온도: 100\n",
            "섭씨온도:  37.77777777777778\n"
          ]
        }
      ]
    },
    {
      "cell_type": "code",
      "metadata": {
        "colab": {
          "base_uri": "https://localhost:8080/"
        },
        "id": "gtdUElEBEZQu",
        "outputId": "11439e0a-1ef4-40f7-e8bd-6843b3a9c670"
      },
      "source": [
        "money = int(input(\"투입한 돈:\"))\n",
        "price = int(input(\"물건 값:\"))\n",
        "\n",
        "change = money - price\n",
        "print(\"거스름돈:\",change)\n",
        "coin500s = change // 500       #500으로 나누어서 몫이 500짜리 개수\n",
        "change = change % 500         #500으로 나눈 나머지를 계산한다\n",
        "coin100s = change // 100      #100으로 나누어서 몫이 100짜리 개수\n",
        "change = change % 100         #100으로 나눈 나머지를 계산한다\n",
        "coin50s = change // 50        #50으로 나누어서 몫이 50짜리 개수\n",
        "change = change % 50          #50으로 나눈 나머지를 계산한다\n",
        "coin10s = change //10         #10으로 나누어서 몫이 10짜리 개수\n",
        "change = change % 10          #10으로 나눈 나머지를 계산한다\n",
        "print(\"500원 동전의 개수:\",coin500s)\n",
        "print(\"100원 동전의 개수:\",coin100s)\n",
        "print(\"50원 동전의 개수:\",coin50s)\n",
        "print(\"10원 동전의 개수:\",coin10s)"
      ],
      "execution_count": 15,
      "outputs": [
        {
          "output_type": "stream",
          "name": "stdout",
          "text": [
            "투입한 돈:5000\n",
            "물건 값:2600\n",
            "거스름돈: 2400\n",
            "500원 동전의 개수: 4\n",
            "100원 동전의 개수: 4\n",
            "50원 동전의 개수: 0\n",
            "10원 동전의 개수: 0\n"
          ]
        }
      ]
    },
    {
      "cell_type": "code",
      "metadata": {
        "colab": {
          "base_uri": "https://localhost:8080/",
          "height": 137
        },
        "id": "rD55Fof1HZFZ",
        "outputId": "acbbb44e-4539-4c7b-c620-c7d8debf7b39"
      },
      "source": [
        "# 사용자로부터 투입한 금액과 물건 값을 입력받는다.\n",
        "money = int(input(\"투입한 돈: \")\n",
        "price = int(input(\"물건 값: \"))\n",
        "\n",
        "change = money - price   #거스름돈을 계산한다.\n",
        "coin500s = change // 500 #500으로 나누어서 몫이 500짜리의 개수이다\n",
        "change = change % 500원  #500으로 나눈 나머지를 계산한다.\n",
        "coin100s = change // 100 #100으로 나누어서 몫이 100짜리의 개수이다.\n",
        "print(\"500원 동전의 개수:\",coin500s) #거슬러줄 500원짜리의 개수를 출력한다\n",
        "print(\"100원 동전의 개수:\",coin100s) #거슬러줄 100원짜리의 개수를 출력한다"
      ],
      "execution_count": 27,
      "outputs": [
        {
          "output_type": "error",
          "ename": "SyntaxError",
          "evalue": "ignored",
          "traceback": [
            "\u001b[0;36m  File \u001b[0;32m\"<ipython-input-27-2f1b831b091a>\"\u001b[0;36m, line \u001b[0;32m3\u001b[0m\n\u001b[0;31m    price = int(input(\"물건 값: \"))\u001b[0m\n\u001b[0m        ^\u001b[0m\n\u001b[0;31mSyntaxError\u001b[0m\u001b[0;31m:\u001b[0m invalid syntax\n"
          ]
        }
      ]
    }
  ]
}