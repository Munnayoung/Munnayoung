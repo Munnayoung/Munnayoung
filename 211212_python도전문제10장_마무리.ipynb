{
  "nbformat": 4,
  "nbformat_minor": 0,
  "metadata": {
    "colab": {
      "name": "211212_python도전문제10장 마무리",
      "provenance": [],
      "authorship_tag": "ABX9TyNragU9Blge97R1z5kmshRK",
      "include_colab_link": true
    },
    "kernelspec": {
      "name": "python3",
      "display_name": "Python 3"
    },
    "language_info": {
      "name": "python"
    }
  },
  "cells": [
    {
      "cell_type": "markdown",
      "metadata": {
        "id": "view-in-github",
        "colab_type": "text"
      },
      "source": [
        "<a href=\"https://colab.research.google.com/github/Munnayoung/Munnayoung/blob/%EC%97%B0%EC%8A%B5%EB%AC%B8%EC%A0%9C-3%EC%9E%A5%EC%9D%B4%ED%9B%84%EB%B6%80%ED%84%B0%EB%9E%91-%EB%8F%84%EC%A0%84%EB%AC%B8%EC%A0%9C%EC%8B%9C%EB%A6%AC%EC%A6%88/211212_python%EB%8F%84%EC%A0%84%EB%AC%B8%EC%A0%9C10%EC%9E%A5_%EB%A7%88%EB%AC%B4%EB%A6%AC.ipynb\" target=\"_parent\"><img src=\"https://colab.research.google.com/assets/colab-badge.svg\" alt=\"Open In Colab\"/></a>"
      ]
    },
    {
      "cell_type": "code",
      "execution_count": null,
      "metadata": {
        "id": "Z_cUmCJ2UpVb"
      },
      "outputs": [],
      "source": [
        "from tkinter import* #tkinter 모듈에 있는 모든 함수를 포함시키라는의미\n",
        "mycolor = \"blue\" #파랑색\n",
        "def paint(event): #이벤트함수\n",
        "  x1,y1 = (event.x-1),(event.y+1)\n",
        "  x2,y2 = (event.x-1),(event.y+1)\n",
        "  canvas.create_oval(x1,y1,x2,y2,fill=mycolor)\n",
        "\n",
        "def change_color_red(): \n",
        "  global mycolor\n",
        "  mycolor=\"red\" #색깔은 빨강색\n",
        "\n",
        "def change_color_green():\n",
        "  global mycolor\n",
        "  mycolor=\"green\" #색깔은 초록색\n",
        "\n",
        "def change_color_yellow():\n",
        "  global mycolor\n",
        "  mycolor = \"yellow\" #색깔은 노란색\n",
        "\n",
        "window = Tk() #최상위 윈도우를 생성하여야한다\n",
        "canvas = Canvas(window) \n",
        "canvas.pack() #pack() 메소드가 호출된다\n",
        "canvas.bind(\"<B1-Motion>\",paint)\n",
        "button = Button(window,text=\"빨간색\",command=change_color_red) #버튼위젯을 생성한다\n",
        "button.pack() #pack() 메소드가 호출된다\n",
        "button = Button(window,text=\"녹색\",command=change_color_green) #버튼위젯을 생성한다\n",
        "button.pack() #pack() 메소드가 호출된다\n",
        "button = Button(window,text=\"노란색\",command=change_color_yellow) #버튼위젯을 생성한다\n",
        "button.pack() #pack() 메소드가 호출된다\n",
        "window.mainloop() #여러가지 이벤트를 처리하는 함수이다"
      ]
    }
  ]
}