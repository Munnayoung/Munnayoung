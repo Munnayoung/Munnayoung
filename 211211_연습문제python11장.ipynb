{
  "nbformat": 4,
  "nbformat_minor": 0,
  "metadata": {
    "colab": {
      "name": "211211_연습문제python11장",
      "provenance": [],
      "authorship_tag": "ABX9TyORwj3RtG1SWiYO6CUpidRY",
      "include_colab_link": true
    },
    "kernelspec": {
      "name": "python3",
      "display_name": "Python 3"
    },
    "language_info": {
      "name": "python"
    }
  },
  "cells": [
    {
      "cell_type": "markdown",
      "metadata": {
        "id": "view-in-github",
        "colab_type": "text"
      },
      "source": [
        "<a href=\"https://colab.research.google.com/github/Munnayoung/Munnayoung/blob/%EC%97%B0%EC%8A%B5%EB%AC%B8%EC%A0%9C-3%EC%9E%A5%EC%9D%B4%ED%9B%84%EB%B6%80%ED%84%B0%EB%9E%91-%EB%8F%84%EC%A0%84%EB%AC%B8%EC%A0%9C%EC%8B%9C%EB%A6%AC%EC%A6%88/211211_%EC%97%B0%EC%8A%B5%EB%AC%B8%EC%A0%9Cpython11%EC%9E%A5.ipynb\" target=\"_parent\"><img src=\"https://colab.research.google.com/assets/colab-badge.svg\" alt=\"Open In Colab\"/></a>"
      ]
    },
    {
      "cell_type": "code",
      "execution_count": 2,
      "metadata": {
        "colab": {
          "base_uri": "https://localhost:8080/",
          "height": 266
        },
        "id": "jV3qC5SUL6A1",
        "outputId": "f65a8dec-1c7c-4958-bf49-5951cb1202cd"
      },
      "outputs": [
        {
          "name": "stdout",
          "output_type": "stream",
          "text": [
            "파일 이름을 입력하세요: d:/words.txt\n"
          ]
        },
        {
          "output_type": "error",
          "ename": "FileNotFoundError",
          "evalue": "ignored",
          "traceback": [
            "\u001b[0;31m---------------------------------------------------------------------------\u001b[0m",
            "\u001b[0;31mFileNotFoundError\u001b[0m                         Traceback (most recent call last)",
            "\u001b[0;32m<ipython-input-2-90737f8afe53>\u001b[0m in \u001b[0;36m<module>\u001b[0;34m()\u001b[0m\n\u001b[1;32m      1\u001b[0m \u001b[0mfilename\u001b[0m \u001b[0;34m=\u001b[0m \u001b[0minput\u001b[0m\u001b[0;34m(\u001b[0m\u001b[0;34m\"파일 이름을 입력하세요: \"\u001b[0m\u001b[0;34m)\u001b[0m\u001b[0;34m.\u001b[0m\u001b[0mstrip\u001b[0m\u001b[0;34m(\u001b[0m\u001b[0;34m)\u001b[0m\u001b[0;34m\u001b[0m\u001b[0;34m\u001b[0m\u001b[0m\n\u001b[0;32m----> 2\u001b[0;31m \u001b[0minfile\u001b[0m \u001b[0;34m=\u001b[0m \u001b[0mopen\u001b[0m\u001b[0;34m(\u001b[0m\u001b[0mfilename\u001b[0m\u001b[0;34m,\u001b[0m\u001b[0;34m\"r\"\u001b[0m\u001b[0;34m)\u001b[0m\u001b[0;34m\u001b[0m\u001b[0;34m\u001b[0m\u001b[0m\n\u001b[0m\u001b[1;32m      3\u001b[0m \u001b[0mcount\u001b[0m\u001b[0;34m=\u001b[0m\u001b[0;36m0\u001b[0m\u001b[0;34m\u001b[0m\u001b[0;34m\u001b[0m\u001b[0m\n\u001b[1;32m      4\u001b[0m \u001b[0;34m\u001b[0m\u001b[0m\n\u001b[1;32m      5\u001b[0m \u001b[0;32mfor\u001b[0m \u001b[0mline\u001b[0m \u001b[0;32min\u001b[0m \u001b[0minfile\u001b[0m\u001b[0;34m:\u001b[0m\u001b[0;34m\u001b[0m\u001b[0;34m\u001b[0m\u001b[0m\n",
            "\u001b[0;31mFileNotFoundError\u001b[0m: [Errno 2] No such file or directory: 'd:/words.txt'"
          ]
        }
      ],
      "source": [
        "1\n",
        "filename = input(\"파일 이름을 입력하세요: \").strip() #파일 이름 입력하기\n",
        "infile = open(filename,\"r\") #입력을 위한 파일을 연다\n",
        "count=0\n",
        "\n",
        "for line in infile:\n",
        "  for ch in line:\n",
        "    count +=1\n",
        "\n",
        "print(\"파일 안에는 총\",count,\"개의 글자가 있습니다.\") #파일 안에는 총 몇개의 글자가 있다고 출력된다\n",
        "infile.close() #파일을 닫는다."
      ]
    },
    {
      "cell_type": "code",
      "source": [
        "2\n",
        "infilename = input(\"파일 이름을 입력하시오: \").strip() #입력 파일을 입력한다\n",
        "infile = open(infilename,\"r\") #입력을 위한 파일을 연다 \n",
        "file_s = infile.read() #파일을 읽는다\n",
        "removed_s = input(\"삭제할 문자열을 입력하시오: \").strip() #삭제할 문자열을 입력한다\n",
        "modified_s = file_s.replace(removed_s,\"\") \n",
        "\n",
        "infile.close() #파일을 닫는다\n",
        "outfile = open(infilename,\"w\") #출력을 위한 파일을 연다\n",
        "\n",
        "print(modified_s, file = outfile,end = \"\")\n",
        "print(\"변경된 파일이 저장되었습니다\") #변경된 파일이 저장되었다고 입력이 된다\n",
        "outfile.close() #파일을 닫는다"
      ],
      "metadata": {
        "colab": {
          "base_uri": "https://localhost:8080/",
          "height": 266
        },
        "id": "SugLY7GEOAJh",
        "outputId": "b8b3a961-0e01-41bf-f79f-408e284fd3b7"
      },
      "execution_count": 3,
      "outputs": [
        {
          "name": "stdout",
          "output_type": "stream",
          "text": [
            "파일 이름을 입력하시오: d:/words.txt\n"
          ]
        },
        {
          "output_type": "error",
          "ename": "FileNotFoundError",
          "evalue": "ignored",
          "traceback": [
            "\u001b[0;31m---------------------------------------------------------------------------\u001b[0m",
            "\u001b[0;31mFileNotFoundError\u001b[0m                         Traceback (most recent call last)",
            "\u001b[0;32m<ipython-input-3-296b0f1902dc>\u001b[0m in \u001b[0;36m<module>\u001b[0;34m()\u001b[0m\n\u001b[1;32m      1\u001b[0m \u001b[0;36m2\u001b[0m\u001b[0;34m\u001b[0m\u001b[0;34m\u001b[0m\u001b[0m\n\u001b[1;32m      2\u001b[0m \u001b[0minfilename\u001b[0m \u001b[0;34m=\u001b[0m \u001b[0minput\u001b[0m\u001b[0;34m(\u001b[0m\u001b[0;34m\"파일 이름을 입력하시오: \"\u001b[0m\u001b[0;34m)\u001b[0m\u001b[0;34m.\u001b[0m\u001b[0mstrip\u001b[0m\u001b[0;34m(\u001b[0m\u001b[0;34m)\u001b[0m\u001b[0;34m\u001b[0m\u001b[0;34m\u001b[0m\u001b[0m\n\u001b[0;32m----> 3\u001b[0;31m \u001b[0minfile\u001b[0m \u001b[0;34m=\u001b[0m \u001b[0mopen\u001b[0m\u001b[0;34m(\u001b[0m\u001b[0minfilename\u001b[0m\u001b[0;34m,\u001b[0m\u001b[0;34m\"r\"\u001b[0m\u001b[0;34m)\u001b[0m\u001b[0;34m\u001b[0m\u001b[0;34m\u001b[0m\u001b[0m\n\u001b[0m\u001b[1;32m      4\u001b[0m \u001b[0mfile_s\u001b[0m \u001b[0;34m=\u001b[0m \u001b[0minfile\u001b[0m\u001b[0;34m.\u001b[0m\u001b[0mread\u001b[0m\u001b[0;34m(\u001b[0m\u001b[0;34m)\u001b[0m\u001b[0;34m\u001b[0m\u001b[0;34m\u001b[0m\u001b[0m\n\u001b[1;32m      5\u001b[0m \u001b[0mremoved_s\u001b[0m \u001b[0;34m=\u001b[0m \u001b[0minput\u001b[0m\u001b[0;34m(\u001b[0m\u001b[0;34m\"삭제할 문자열을 입력하시오: \"\u001b[0m\u001b[0;34m)\u001b[0m\u001b[0;34m.\u001b[0m\u001b[0mstrip\u001b[0m\u001b[0;34m(\u001b[0m\u001b[0;34m)\u001b[0m\u001b[0;34m\u001b[0m\u001b[0;34m\u001b[0m\u001b[0m\n",
            "\u001b[0;31mFileNotFoundError\u001b[0m: [Errno 2] No such file or directory: 'd:/words.txt'"
          ]
        }
      ]
    },
    {
      "cell_type": "code",
      "source": [
        "3\n",
        "infile = open(filename,\"r\") #입력을 위한 파일을 연다\n",
        "for line in infile:\n",
        "          \n",
        "def countLine(line,counter):\n",
        "   for ch in line:\n",
        "      if ch.isalpha(): \n",
        "            if ch in counter:\n",
        "                  counter[ch] = counter[ch] +1 #counter[ch]변수를 1증가 시킨다\n",
        "      else: #그렇지않으면\n",
        "                  counter[ch] =1\n",
        "\n",
        "fname = input(\"입력 파일 이름:\").strip() #입력 파일 이름이 나온다\n",
        "infile = open(fname,\"r\") #입력을 위한 파일을 연다\n",
        "\n",
        "my_dict = {}\n",
        "for line in infile:\n",
        "  countLine(line,my_dict)\n",
        "\n",
        "print(my_dict)\n",
        "infile.close() #파일을 닫는다"
      ],
      "metadata": {
        "colab": {
          "base_uri": "https://localhost:8080/",
          "height": 137
        },
        "id": "yAtcCq-5QGtR",
        "outputId": "3053062f-e611-4866-881c-e934f499052d"
      },
      "execution_count": 13,
      "outputs": [
        {
          "output_type": "error",
          "ename": "IndentationError",
          "evalue": "ignored",
          "traceback": [
            "\u001b[0;36m  File \u001b[0;32m\"<ipython-input-13-2360753c8e74>\"\u001b[0;36m, line \u001b[0;32m5\u001b[0m\n\u001b[0;31m    def countLine(line,counter):\u001b[0m\n\u001b[0m      ^\u001b[0m\n\u001b[0;31mIndentationError\u001b[0m\u001b[0;31m:\u001b[0m expected an indented block\n"
          ]
        }
      ]
    },
    {
      "cell_type": "code",
      "source": [
        "4\n",
        "import pickle #pickle모듈 함수를 불러온다\n",
        "\n",
        "outfile = open(\"test.dat\",\"wb\") #출력파일을 연다\n",
        "pickle.dump(12,outfile)\n",
        "pickle.dump(3.14,outfile)\n",
        "pickle.dump([1,2,3,4,5],outfile)\n",
        "outfile.close() #출력파일을 닫는다\n",
        "\n",
        "infile = open(\"test.dat\",\"rb\") #입력파일을 연다\n",
        "print(pickle.load(infile))\n",
        "print(pickle.load(infile))\n",
        "print(pickle.load(infile))\n",
        "infile.close() #입력파일을 닫는다"
      ],
      "metadata": {
        "colab": {
          "base_uri": "https://localhost:8080/"
        },
        "id": "r_dt1WJ6Sffu",
        "outputId": "cce70639-19e5-40f4-c885-0e01d504fdd8"
      },
      "execution_count": 15,
      "outputs": [
        {
          "output_type": "stream",
          "name": "stdout",
          "text": [
            "12\n",
            "3.14\n",
            "[1, 2, 3, 4, 5]\n"
          ]
        }
      ]
    },
    {
      "cell_type": "code",
      "source": [
        "5\n",
        "inFileName = input(\"입력파일 이름:\") #입력파일이름\n",
        "outFileName = input(\"출력파일 이름:\") #출력파일이름\n",
        "\n",
        "infile = open(inFileName,\"r\") #입력파일 이름을 받는다\n",
        "outfile = open(outFileName,\"w\") #출력파일 이름을 받는다\n",
        "\n",
        "total =0.0\n",
        "count=0\n",
        "\n",
        "line = infile.readline() #전체파일을 읽는다\n",
        "while line !=\"\":\n",
        "  value = float(line)\n",
        "  total = total +value\n",
        "  count = count + 1\n",
        "  line = infile.readline()\n",
        "\n",
        "outfile.write(\"합계=\"+str(total)+\"|n\")\n",
        "\n",
        "avg = total / count\n",
        "outfile.write(\"평균=\"+str(avg)+\"|n\")\n",
        "\n",
        "infile.close()  #입력파일을 닫는다\n",
        "outfile.close() #출력파일을 닫는다\n",
        "\n"
      ],
      "metadata": {
        "colab": {
          "base_uri": "https://localhost:8080/",
          "height": 284
        },
        "id": "rbZX8NcOUS1C",
        "outputId": "83100a12-28b0-4943-9983-316bf76c9718"
      },
      "execution_count": 17,
      "outputs": [
        {
          "name": "stdout",
          "output_type": "stream",
          "text": [
            "입력파일 이름:d:/data.txt\n",
            "출력파일 이름:d:/output.txt\n"
          ]
        },
        {
          "output_type": "error",
          "ename": "FileNotFoundError",
          "evalue": "ignored",
          "traceback": [
            "\u001b[0;31m---------------------------------------------------------------------------\u001b[0m",
            "\u001b[0;31mFileNotFoundError\u001b[0m                         Traceback (most recent call last)",
            "\u001b[0;32m<ipython-input-17-371e9fdb4bbb>\u001b[0m in \u001b[0;36m<module>\u001b[0;34m()\u001b[0m\n\u001b[1;32m      3\u001b[0m \u001b[0moutFileName\u001b[0m \u001b[0;34m=\u001b[0m \u001b[0minput\u001b[0m\u001b[0;34m(\u001b[0m\u001b[0;34m\"출력파일 이름:\"\u001b[0m\u001b[0;34m)\u001b[0m\u001b[0;34m\u001b[0m\u001b[0;34m\u001b[0m\u001b[0m\n\u001b[1;32m      4\u001b[0m \u001b[0;34m\u001b[0m\u001b[0m\n\u001b[0;32m----> 5\u001b[0;31m \u001b[0minfile\u001b[0m \u001b[0;34m=\u001b[0m \u001b[0mopen\u001b[0m\u001b[0;34m(\u001b[0m\u001b[0minFileName\u001b[0m\u001b[0;34m,\u001b[0m\u001b[0;34m\"r\"\u001b[0m\u001b[0;34m)\u001b[0m\u001b[0;34m\u001b[0m\u001b[0;34m\u001b[0m\u001b[0m\n\u001b[0m\u001b[1;32m      6\u001b[0m \u001b[0moutfile\u001b[0m \u001b[0;34m=\u001b[0m \u001b[0mopen\u001b[0m\u001b[0;34m(\u001b[0m\u001b[0moutFileName\u001b[0m\u001b[0;34m,\u001b[0m\u001b[0;34m\"w\"\u001b[0m\u001b[0;34m)\u001b[0m\u001b[0;34m\u001b[0m\u001b[0;34m\u001b[0m\u001b[0m\n\u001b[1;32m      7\u001b[0m \u001b[0;34m\u001b[0m\u001b[0m\n",
            "\u001b[0;31mFileNotFoundError\u001b[0m: [Errno 2] No such file or directory: 'd:/data.txt'"
          ]
        }
      ]
    },
    {
      "cell_type": "code",
      "source": [
        "6\n",
        "import pickle #pickle모듈 함수를 불러온다\n",
        "from tkinter import* #tkinter함수 모듈을 불러온다\n",
        "\n",
        "phone_book= {}\n",
        "current = 0\n",
        "name = \"\"\n",
        "phone = \"\"\n",
        "\n",
        "window = TK() #최상위 윈도우를 생성한다\n",
        "\n",
        "frame1 = Frame(window)\n",
        "frame1.pack()\n",
        "Label(frame1,text = \"이름\").grid(row=1,column=1,sticky=W)\n",
        "nameEntry = Entry(frame1,textvariable = name,width = 30)\n",
        "nameEntry.grid(row=1,column=2)\n",
        "\n",
        "frame2 = Frame(window)\n",
        "frame2.pack()\n",
        "Label(frame2,text = \"전화번호\").grid(row=1,column=1,sticky=W)\n",
        "phoneEntry = Entry(frame2,textvariable = phone,width =30)\n",
        "phoneEntry.grid(row=1,column=2)\n",
        "\n",
        "frame3 =Frame(window)\n",
        "frame3.pack()\n",
        "\n",
        "def save():\n",
        "  outfile = open(\"phonenook.dat\",\"wb\")\n",
        "  pickle.dump(phone_book,outfile)\n",
        "  print(\"주소들이 파일에 저장되었습니다\") #파일에 저장되었다는게 출력된다\n",
        "  outfile.close() #파일이 닫는다\n",
        "\n",
        "def load():\n",
        "  infile = open(\"phonebook.dat\",\"rb\") #파일이 열린다\n",
        "  phone_book = pickle.load(infile)\n",
        "  infile.close() #파일이 닫는다\n",
        "  print(\"파일에서 주소를 읽었습니다.\") #파일에서 주소를 읽었다\n",
        "  go_first()\n",
        "\n",
        "def add():\n",
        "  phone_book[nameEntry.get()] = phoneEntry.get()\n",
        "  print(phone_book)\n",
        "  save()\n",
        "\n",
        "def go_first():\n",
        "  global current\n",
        "  current = 0\n",
        "  ks = list(phone_book)\n",
        "  print(phone_book)\n",
        "  nameEntry.delete(0,END)\n",
        "  nameEntry.insert(0,ks[current])\n",
        "  phoneEntry.delete(0,END)\n",
        "  phoneEntry.insert(0,phone_book[ks[current]])\n",
        "\n",
        "def go_next():\n",
        "  global current\n",
        "  current +=1\n",
        "\n",
        "  ks = list(phone_book)\n",
        "  nameEntry.delete(0,END)\n",
        "  nameEntry.insert(0,ks[current])\n",
        "  phoneEntry.delete(0,END)\n",
        "  phoneEntry.insert(0,phone_book[ks[current]])\n",
        "\n",
        "def go_previous():\n",
        "  print(\"구현되지 않았음\") #구현되지 않았다는게 출력된다\n",
        "\n",
        "def go_last():\n",
        "  print(\"구현되지 않았음\") #구현되지 않았음이 출력된다\n",
        "\n",
        "b1 = Button(frame3,text=\"추가\",command=add).grid(row=1,column=1)\n",
        "b2 = Button(frame3,text=\"처음\",command=go_first).grid(row=1,column=2)\n",
        "b3 = Button(frame3,text=\"다음\",command=go_next).grid(row=1,column=3)\n",
        "b4 = Button(frame3,text=\"이전\",command=go_previous).grid(row=1,column=4)\n",
        "b5 = Button(frame3,text=\"마지막\",command=go_last).grid(row=1,column=5)\n",
        "b6 = Button(frame3,text=\"파일읽기\",command=load).grid(row=1,column=6)\n",
        "\n",
        "window.mainloop() #여러가지 이벤트 함수를 처리하는 함수다"
      ],
      "metadata": {
        "id": "RTKwl7dtXSFV"
      },
      "execution_count": null,
      "outputs": []
    }
  ]
}