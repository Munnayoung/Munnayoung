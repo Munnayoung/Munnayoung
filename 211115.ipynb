{
  "nbformat": 4,
  "nbformat_minor": 0,
  "metadata": {
    "colab": {
      "name": "211115",
      "provenance": [],
      "authorship_tag": "ABX9TyMWQJfnrkSAA3p9fPnZ6CzU",
      "include_colab_link": true
    },
    "kernelspec": {
      "name": "python3",
      "display_name": "Python 3"
    },
    "language_info": {
      "name": "python"
    }
  },
  "cells": [
    {
      "cell_type": "markdown",
      "metadata": {
        "id": "view-in-github",
        "colab_type": "text"
      },
      "source": [
        "<a href=\"https://colab.research.google.com/github/Munnayoung/Munnayoung/blob/%EC%97%B0%EC%8A%B5%EB%AC%B8%EC%A0%9C-1%EC%9E%A5%2Ba/211115.ipynb\" target=\"_parent\"><img src=\"https://colab.research.google.com/assets/colab-badge.svg\" alt=\"Open In Colab\"/></a>"
      ]
    },
    {
      "cell_type": "code",
      "metadata": {
        "colab": {
          "base_uri": "https://localhost:8080/"
        },
        "id": "Q7T_C4VEu5dW",
        "outputId": "21293376-fbf5-4a38-914c-4fe26f81da76"
      },
      "source": [
        "score = int(input(\"성적을 입력하시오.: \"))\n",
        "\n",
        "if score >= 90:\n",
        "  print(\"A학점 입니다.\")\n",
        "elif score >=80:\n",
        "  print(\"B학점 입니다.\")\n",
        "elif score >=70:\n",
        "  print(\"C학점 입니다.\")\n",
        "elif score >=60:\n",
        "  print(\"D학점 입니다.\")\n",
        "else:\n",
        "  print(\"F학점입니다.\")"
      ],
      "execution_count": 1,
      "outputs": [
        {
          "output_type": "stream",
          "name": "stdout",
          "text": [
            "성적을 입력하시오.: 50\n",
            "F학점입니다.\n"
          ]
        }
      ]
    }
  ]
}