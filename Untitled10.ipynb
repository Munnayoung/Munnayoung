{
  "nbformat": 4,
  "nbformat_minor": 0,
  "metadata": {
    "colab": {
      "name": "Untitled10.ipynb",
      "provenance": [],
      "authorship_tag": "ABX9TyPeqq5qjrmPRmKJ57PiX19u",
      "include_colab_link": true
    },
    "kernelspec": {
      "name": "python3",
      "display_name": "Python 3"
    },
    "language_info": {
      "name": "python"
    }
  },
  "cells": [
    {
      "cell_type": "markdown",
      "metadata": {
        "id": "view-in-github",
        "colab_type": "text"
      },
      "source": [
        "<a href=\"https://colab.research.google.com/github/Munnayoung/Munnayoung/blob/%EC%97%B0%EC%8A%B5%EB%AC%B8%EC%A0%9C-2%EC%9E%A5/Untitled10.ipynb\" target=\"_parent\"><img src=\"https://colab.research.google.com/assets/colab-badge.svg\" alt=\"Open In Colab\"/></a>"
      ]
    },
    {
      "cell_type": "code",
      "metadata": {
        "colab": {
          "base_uri": "https://localhost:8080/"
        },
        "id": "59T2G5vwf6ey",
        "outputId": "12233585-8bd6-46db-c229-e91403abeb69"
      },
      "source": [
        "1.\n",
        "name = input(\"이름을 입력하시오:\")\n",
        "age = int(input(\"나이를 입력하시오: \"))\n",
        "year = 2021-age+100\n",
        "print(name + \"씨는\" + str(year) + \"년에 100살이시네요!\")"
      ],
      "execution_count": 5,
      "outputs": [
        {
          "output_type": "stream",
          "name": "stdout",
          "text": [
            "이름을 입력하시오:홍길동  \n",
            "나이를 입력하시오: 20\n",
            "홍길동  씨는2101년에 100살이시네요!\n"
          ]
        }
      ]
    },
    {
      "cell_type": "code",
      "metadata": {
        "colab": {
          "base_uri": "https://localhost:8080/"
        },
        "id": "xMWDvEnGiPtV",
        "outputId": "08eb6ae4-0bd1-4211-adb3-05bb3ef75081"
      },
      "source": [
        "2.\n",
        "n1 = int(input(\"첫 번째 숫자를 입력하세요:\"))\n",
        "n2 = int(input(\"두 번째 숫자를 입력하세요:\"))\n",
        "n3 = int(input(\"세 번째 숫자를 입력하세요:\"))\n",
        "\n",
        "average = (n1 + n2 + n3) / 3\n",
        "\n",
        "print (n1,n2,n3, \"의 평균은\" , average , \"입니다.\")"
      ],
      "execution_count": 6,
      "outputs": [
        {
          "output_type": "stream",
          "name": "stdout",
          "text": [
            "첫 번째 숫자를 입력하세요:10\n",
            "두 번째 숫자를 입력하세요:20\n",
            "세 번째 숫자를 입력하세요:30\n",
            "10 20 30 의 평균은 20.0 입니다.\n"
          ]
        }
      ]
    },
    {
      "cell_type": "code",
      "metadata": {
        "colab": {
          "base_uri": "https://localhost:8080/"
        },
        "id": "4VRmfRBojuDo",
        "outputId": "1835952d-4298-42c9-ee6c-bfc714e18777"
      },
      "source": [
        "3.\n",
        "radius = int(input(\"반지름을 입력하시오: \"))\n",
        "area = 3.141592*radius*radius\n",
        "print(\"반지름이\", radius , \"인 원의 넓이 =\", area)"
      ],
      "execution_count": 19,
      "outputs": [
        {
          "output_type": "stream",
          "name": "stdout",
          "text": [
            "반지름을 입력하시오: 10\n",
            "반지름이 10 인 원의 넓이 = 314.1592\n"
          ]
        }
      ]
    },
    {
      "cell_type": "code",
      "metadata": {
        "colab": {
          "base_uri": "https://localhost:8080/",
          "height": 136
        },
        "id": "AAzrOYkKl3jO",
        "outputId": "772baea2-2b91-4f4b-f696-3d1d0517a265"
      },
      "source": [
        "4.\n",
        "import turtle\n",
        "t = turtle.Turtle()\n",
        "t.shape(\"turtle\")\n",
        "\n",
        "radius = 50\n",
        "t.up()\n",
        "t.goto(0,0)\n",
        "t.down()\n",
        "t.circle(radius)\n",
        "\n",
        "radius = radius + 20\n",
        "t.up()\n",
        "t.goto(100,0)\n",
        "t.down()\n",
        "t.circle(radius)\n",
        "\n",
        "radius = radius + 20\n",
        "t.up()\n",
        "t.goto(200,0\n",
        "t.down()\n",
        "t.circle(radius)\n",
        "t._screen.exitonclick()"
      ],
      "execution_count": 20,
      "outputs": [
        {
          "output_type": "error",
          "ename": "SyntaxError",
          "evalue": "ignored",
          "traceback": [
            "\u001b[0;36m  File \u001b[0;32m\"<ipython-input-20-8fcfc12cff44>\"\u001b[0;36m, line \u001b[0;32m21\u001b[0m\n\u001b[0;31m    t.down()\u001b[0m\n\u001b[0m    ^\u001b[0m\n\u001b[0;31mSyntaxError\u001b[0m\u001b[0;31m:\u001b[0m invalid syntax\n"
          ]
        }
      ]
    }
  ]
}