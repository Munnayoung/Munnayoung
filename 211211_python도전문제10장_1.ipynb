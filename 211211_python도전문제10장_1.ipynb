{
  "nbformat": 4,
  "nbformat_minor": 0,
  "metadata": {
    "colab": {
      "name": "211211_python도전문제10장-1",
      "provenance": [],
      "authorship_tag": "ABX9TyORRaUZErQeKimOX1NMImd0",
      "include_colab_link": true
    },
    "kernelspec": {
      "name": "python3",
      "display_name": "Python 3"
    },
    "language_info": {
      "name": "python"
    }
  },
  "cells": [
    {
      "cell_type": "markdown",
      "metadata": {
        "id": "view-in-github",
        "colab_type": "text"
      },
      "source": [
        "<a href=\"https://colab.research.google.com/github/Munnayoung/Munnayoung/blob/%EC%97%B0%EC%8A%B5%EB%AC%B8%EC%A0%9C-3%EC%9E%A5%EC%9D%B4%ED%9B%84%EB%B6%80%ED%84%B0%EB%9E%91-%EB%8F%84%EC%A0%84%EB%AC%B8%EC%A0%9C%EC%8B%9C%EB%A6%AC%EC%A6%88/211211_python%EB%8F%84%EC%A0%84%EB%AC%B8%EC%A0%9C10%EC%9E%A5_1.ipynb\" target=\"_parent\"><img src=\"https://colab.research.google.com/assets/colab-badge.svg\" alt=\"Open In Colab\"/></a>"
      ]
    },
    {
      "cell_type": "code",
      "execution_count": null,
      "metadata": {
        "id": "KuFkExkj_C79"
      },
      "outputs": [],
      "source": [
        "from tkinter import* #tkinter 모듈에 있는 모든 함수 포함시키기\n",
        "\n",
        "def process():\n",
        "  temperature = float(e1.get())\n",
        "  mytemp = (temperature-32)*5/9\n",
        "  e2.insert(0,str(mytemp))\n",
        "\n",
        "def process2():\n",
        "  temperature = float(e2.get())\n",
        "  mytemp = (temperature*(9/5))+32\n",
        "  el.insert(0,str(mytemp))\n",
        "\n",
        "window = Tk() #최상위 윈도우를 생성해야한다\n",
        "\n",
        "11=Label(window,text = \"화씨\") \n",
        "12=Label(window,text=\"섭씨\")\n",
        "11.grid(row=0,column=0)\n",
        "12.grid(row=1,column=0)\n",
        "\n",
        "el = Entry(window)\n",
        "e2 = Entry(window)\n",
        "el.grid(row=0,column=1)\n",
        "e2.grid(row=1,column=1)\n",
        "\n",
        "b1 = Button(window,text=\"화씨\"->\"섭씨\",command=process) #버튼위젯을 생성한다\n",
        "b2 = Button(window,text=\"섭씨\"-> \"화씨\",command=process2) #버튼위젯을 생성한다\n",
        "bl.grid(row=2,column=0) \n",
        "b2.grid(row=2,column=1)\n",
        "\n",
        "window.mainloop() #여러가지 이벤트 함수를 처리하는 함수이다"
      ]
    }
  ]
}