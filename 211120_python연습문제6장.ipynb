{
  "nbformat": 4,
  "nbformat_minor": 0,
  "metadata": {
    "colab": {
      "name": "211120_python연습문제6장",
      "provenance": [],
      "authorship_tag": "ABX9TyM1OEKRo6LPpEbQTP2niWEV",
      "include_colab_link": true
    },
    "kernelspec": {
      "name": "python3",
      "display_name": "Python 3"
    },
    "language_info": {
      "name": "python"
    }
  },
  "cells": [
    {
      "cell_type": "markdown",
      "metadata": {
        "id": "view-in-github",
        "colab_type": "text"
      },
      "source": [
        "<a href=\"https://colab.research.google.com/github/Munnayoung/Munnayoung/blob/%EC%97%B0%EC%8A%B5%EB%AC%B8%EC%A0%9C-3%EC%9E%A5%EC%9D%B4%ED%9B%84%EB%B6%80%ED%84%B0%EB%9E%91-%EB%8F%84%EC%A0%84%EB%AC%B8%EC%A0%9C%EC%8B%9C%EB%A6%AC%EC%A6%88/211120_python%EC%97%B0%EC%8A%B5%EB%AC%B8%EC%A0%9C6%EC%9E%A5.ipynb\" target=\"_parent\"><img src=\"https://colab.research.google.com/assets/colab-badge.svg\" alt=\"Open In Colab\"/></a>"
      ]
    },
    {
      "cell_type": "code",
      "metadata": {
        "colab": {
          "base_uri": "https://localhost:8080/"
        },
        "id": "Ki9mFUiYmsig",
        "outputId": "89240933-ace6-4bd2-9c63-cf5f652f05d2"
      },
      "source": [
        "1.\n",
        "for i in range(2,101,2):\n",
        "  print(i,end= \"\")"
      ],
      "execution_count": 1,
      "outputs": [
        {
          "output_type": "stream",
          "name": "stdout",
          "text": [
            "2468101214161820222426283032343638404244464850525456586062646668707274767880828486889092949698100"
          ]
        }
      ]
    },
    {
      "cell_type": "code",
      "metadata": {
        "colab": {
          "base_uri": "https://localhost:8080/"
        },
        "id": "37IwE_i0nrYD",
        "outputId": "9915e042-2590-469b-9f3b-903a1b7bef71"
      },
      "source": [
        "2.\n",
        "year = 0\n",
        "balance = 1000\n",
        "\n",
        "while balance <= 2000:\n",
        "     year + year +1\n",
        "     interest = balance *0.07\n",
        "     balance = balance + interest\n",
        "print(year, \"년 걸립니다.\")"
      ],
      "execution_count": 2,
      "outputs": [
        {
          "output_type": "stream",
          "name": "stdout",
          "text": [
            "0 년 걸립니다.\n"
          ]
        }
      ]
    },
    {
      "cell_type": "code",
      "metadata": {
        "colab": {
          "base_uri": "https://localhost:8080/"
        },
        "id": "UcMwcLm9o1-2",
        "outputId": "59fb578f-71ef-473f-fd11-04b30e265571"
      },
      "source": [
        "3. \n",
        "n = 1234\n",
        "sum = 0\n",
        "while n >0:\n",
        "    digit = n% 10\n",
        "    sum = sum + digit\n",
        "    n = n //10\n",
        "print(sum)"
      ],
      "execution_count": 3,
      "outputs": [
        {
          "output_type": "stream",
          "name": "stdout",
          "text": [
            "10\n"
          ]
        }
      ]
    },
    {
      "cell_type": "code",
      "metadata": {
        "colab": {
          "base_uri": "https://localhost:8080/"
        },
        "id": "WiE_fJYNpX-l",
        "outputId": "8b036f4e-886a-45cc-faba-59d5bd59c614"
      },
      "source": [
        "4.\n",
        "import random\n",
        "a = random.randint(1,10)\n",
        "b = random.randint(1,10)\n",
        "com =a*b\n",
        "\n",
        "while True:\n",
        "  usr = int(input(str(a)+ \"*\" +str(b) + \"는\"))\n",
        "  if (usr == com):\n",
        "    print(\"맞았습니다.\")\n",
        "    break;\n"
      ],
      "execution_count": 7,
      "outputs": [
        {
          "output_type": "stream",
          "name": "stdout",
          "text": [
            "5*5는56\n",
            "5*5는80\n",
            "5*5는25\n",
            "맞았습니다.\n"
          ]
        }
      ]
    },
    {
      "cell_type": "code",
      "metadata": {
        "colab": {
          "base_uri": "https://localhost:8080/"
        },
        "id": "kSCuvOx_qwkD",
        "outputId": "711f2445-e9c7-4e31-9495-393b18c81ed7"
      },
      "source": [
        "5.\n",
        "sum = 0\n",
        "while True:\n",
        "  a = int(input(\"정수를 입력하시오: \"))\n",
        "  if (a==0):\n",
        "    print(\"합은\",sum,\"입니다.\")\n",
        "    break\n",
        "  sum += a"
      ],
      "execution_count": 8,
      "outputs": [
        {
          "output_type": "stream",
          "name": "stdout",
          "text": [
            "정수를 입력하시오: 1\n",
            "정수를 입력하시오: 2\n",
            "정수를 입력하시오: 3\n",
            "정수를 입력하시오: 0\n",
            "합은 6 입니다.\n"
          ]
        }
      ]
    }
  ]
}