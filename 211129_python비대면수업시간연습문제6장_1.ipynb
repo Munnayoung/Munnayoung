{
  "nbformat": 4,
  "nbformat_minor": 0,
  "metadata": {
    "colab": {
      "name": "211129_python비대면수업시간연습문제6장-1",
      "provenance": [],
      "authorship_tag": "ABX9TyPtjUnJSGwkyPQXTnPI40FZ",
      "include_colab_link": true
    },
    "kernelspec": {
      "name": "python3",
      "display_name": "Python 3"
    },
    "language_info": {
      "name": "python"
    }
  },
  "cells": [
    {
      "cell_type": "markdown",
      "metadata": {
        "id": "view-in-github",
        "colab_type": "text"
      },
      "source": [
        "<a href=\"https://colab.research.google.com/github/Munnayoung/Munnayoung/blob/%EC%97%B0%EC%8A%B5%EB%AC%B8%EC%A0%9C-3%EC%9E%A5%EC%9D%B4%ED%9B%84%EB%B6%80%ED%84%B0%EB%9E%91-%EB%8F%84%EC%A0%84%EB%AC%B8%EC%A0%9C%EC%8B%9C%EB%A6%AC%EC%A6%88/211129_python%EB%B9%84%EB%8C%80%EB%A9%B4%EC%88%98%EC%97%85%EC%8B%9C%EA%B0%84%EC%97%B0%EC%8A%B5%EB%AC%B8%EC%A0%9C6%EC%9E%A5_1.ipynb\" target=\"_parent\"><img src=\"https://colab.research.google.com/assets/colab-badge.svg\" alt=\"Open In Colab\"/></a>"
      ]
    },
    {
      "cell_type": "code",
      "metadata": {
        "colab": {
          "base_uri": "https://localhost:8080/"
        },
        "id": "6kOnhswB288R",
        "outputId": "451675f1-0f21-4728-9abd-83012f85734d"
      },
      "source": [
        "1\n",
        "#x%2한 결과가 0이면 x는 짝수이다\n",
        "for i in range(2,101):\n",
        "  if i%2==0:\n",
        "    print(i,end=\"\")"
      ],
      "execution_count": 1,
      "outputs": [
        {
          "output_type": "stream",
          "name": "stdout",
          "text": [
            "2468101214161820222426283032343638404244464850525456586062646668707274767880828486889092949698100"
          ]
        }
      ]
    },
    {
      "cell_type": "code",
      "metadata": {
        "colab": {
          "base_uri": "https://localhost:8080/"
        },
        "id": "bX_7rWeu4fYm",
        "outputId": "2828c3eb-8562-4624-c252-a66fa0e19b46"
      },
      "source": [
        "2\n",
        "year = 0\n",
        "balance = 1000\n",
        "\n",
        "while balance<= 2000:        #변수 balance가 2000보다 같거나 작을때까지 반복한다\n",
        "  year = year+1              #year를 1 만큼 증가시킨다\n",
        "  interest = balance * 0.07 \n",
        "  balance = balance + interest\n",
        "print(year,\"년이 걸립니다\") #연도가 나온다"
      ],
      "execution_count": 2,
      "outputs": [
        {
          "output_type": "stream",
          "name": "stdout",
          "text": [
            "11 년이 걸립니다\n"
          ]
        }
      ]
    },
    {
      "cell_type": "code",
      "metadata": {
        "colab": {
          "base_uri": "https://localhost:8080/"
        },
        "id": "53ZsCU9n5yRZ",
        "outputId": "58af6175-32ea-4165-f448-c5c4a7860105"
      },
      "source": [
        "3\n",
        "#%는 나머지를 계산하는 연산자,//는 나눗셈에서 몫을 계산하는것이다\n",
        "n = 1234\n",
        "sum = 0\n",
        "while n > 0: #변수 n이 0보다 클때까지 반복한다\n",
        "  digit = n % 10\n",
        "  sum = sum +digit\n",
        "  n = n //10\n",
        "print(sum)"
      ],
      "execution_count": 4,
      "outputs": [
        {
          "output_type": "stream",
          "name": "stdout",
          "text": [
            "10\n"
          ]
        }
      ]
    },
    {
      "cell_type": "code",
      "metadata": {
        "colab": {
          "base_uri": "https://localhost:8080/"
        },
        "id": "8LE72aH56Zwc",
        "outputId": "42c70516-92c9-453e-d997-a523437a67c9"
      },
      "source": [
        "4\n",
        "ans = 0\n",
        "while ans!= 3*9:\n",
        "  ans = int(input(\"3 x 9는?\"))\n",
        "print(\"맞았습니다.\") "
      ],
      "execution_count": 5,
      "outputs": [
        {
          "output_type": "stream",
          "name": "stdout",
          "text": [
            "3 x 9는?27\n",
            "맞았습니다.\n"
          ]
        }
      ]
    },
    {
      "cell_type": "code",
      "metadata": {
        "colab": {
          "base_uri": "https://localhost:8080/"
        },
        "id": "bwfb6D1y60iG",
        "outputId": "064bfa4f-051a-405a-e0e8-d8d9716a1f73"
      },
      "source": [
        "5\n",
        "sum = 0\n",
        "while True:                             #무한루프\n",
        "  x = int(input(\"정수를 입력하시오: \")) #정수입력\n",
        "  if x ==0:                             #만약에 x랑0이 같다면\n",
        "    break;\n",
        "  sum = sum + x                         #sum변수에 x만큼 증가시킨다\n",
        "print(\"합은\",sum,\"입니다.\")             #합이 나온다\n",
        "\n"
      ],
      "execution_count": 7,
      "outputs": [
        {
          "output_type": "stream",
          "name": "stdout",
          "text": [
            "정수를 입력하시오: 1\n",
            "정수를 입력하시오: 2\n",
            "정수를 입력하시오: 3\n",
            "정수를 입력하시오: 0\n",
            "합은 6 입니다.\n"
          ]
        }
      ]
    },
    {
      "cell_type": "code",
      "metadata": {
        "colab": {
          "base_uri": "https://localhost:8080/"
        },
        "id": "_GX2knp47-X5",
        "outputId": "b5263880-1dab-4d9d-b530-37d758d6c09a"
      },
      "source": [
        "6\n",
        "from random import randint                       #랜덤 모듈을 불러온다\n",
        "for i in range(3):                               #3번을 반복한다\n",
        "  d1 = randint(1,6) \n",
        "  d2 = randint(1,6)\n",
        "  print(\"첫번째 주사위=\",d1,\"두번째 주사위=\",d2) #첫번째 주사위, 두번째 주사위가 입력된다\n"
      ],
      "execution_count": 12,
      "outputs": [
        {
          "output_type": "stream",
          "name": "stdout",
          "text": [
            "첫번째 주사위= 5 두번째 주사위= 4\n",
            "첫번째 주사위= 6 두번째 주사위= 3\n",
            "첫번째 주사위= 5 두번째 주사위= 3\n"
          ]
        }
      ]
    },
    {
      "cell_type": "code",
      "metadata": {
        "colab": {
          "base_uri": "https://localhost:8080/",
          "height": 400
        },
        "id": "CwnZOLZI9L5W",
        "outputId": "46f2e4e5-76f6-47b2-ced1-e7e62682b52d"
      },
      "source": [
        "7\n",
        "import turtle #터틀 그래픽 모듈을 불러온다\n",
        "t = turtle.Turtle() #거북이를 만든다\n",
        "t.shape(\"turtle\") #커서의 모양을 거북이로 한다\n",
        "t.lt(90) #왼쪽으로 90만큼 회전한다\n",
        "\n",
        "for i in range(1,7): \n",
        "  t.fd(100) #100만큼 직진한다\n",
        "  t.fd(-30) #-30만큼 직진한다\n",
        "  t.lt(60)  #60만큼 좌회전한다\n",
        "  t.fd(60)  #60만큼 직진한다\n",
        "  t.fd(30)  #30만큼 직진한다\n",
        "  t.fd(-30) #-30만큼 직진한다\n",
        "\n",
        "  t.lt(60)   #60만큼 좌회전한다\n",
        "  t.fd(-70)  #-70만큼 직진한다\n",
        "  t.left(60) #60만큼 좌회전한다\n",
        "  t._streen.exitonclick()\n"
      ],
      "execution_count": 13,
      "outputs": [
        {
          "output_type": "error",
          "ename": "TclError",
          "evalue": "ignored",
          "traceback": [
            "\u001b[0;31m---------------------------------------------------------------------------\u001b[0m",
            "\u001b[0;31mTclError\u001b[0m                                  Traceback (most recent call last)",
            "\u001b[0;32m<ipython-input-13-f5488253a8ec>\u001b[0m in \u001b[0;36m<module>\u001b[0;34m()\u001b[0m\n\u001b[1;32m      1\u001b[0m \u001b[0;36m7\u001b[0m\u001b[0;34m\u001b[0m\u001b[0;34m\u001b[0m\u001b[0m\n\u001b[1;32m      2\u001b[0m \u001b[0;32mimport\u001b[0m \u001b[0mturtle\u001b[0m\u001b[0;34m\u001b[0m\u001b[0;34m\u001b[0m\u001b[0m\n\u001b[0;32m----> 3\u001b[0;31m \u001b[0mt\u001b[0m \u001b[0;34m=\u001b[0m \u001b[0mturtle\u001b[0m\u001b[0;34m.\u001b[0m\u001b[0mTurtle\u001b[0m\u001b[0;34m(\u001b[0m\u001b[0;34m)\u001b[0m\u001b[0;34m\u001b[0m\u001b[0;34m\u001b[0m\u001b[0m\n\u001b[0m\u001b[1;32m      4\u001b[0m \u001b[0mt\u001b[0m\u001b[0;34m.\u001b[0m\u001b[0mshape\u001b[0m\u001b[0;34m(\u001b[0m\u001b[0;34m\"turtle\"\u001b[0m\u001b[0;34m)\u001b[0m\u001b[0;34m\u001b[0m\u001b[0;34m\u001b[0m\u001b[0m\n\u001b[1;32m      5\u001b[0m \u001b[0mt\u001b[0m\u001b[0;34m.\u001b[0m\u001b[0mlt\u001b[0m\u001b[0;34m(\u001b[0m\u001b[0;36m90\u001b[0m\u001b[0;34m)\u001b[0m\u001b[0;34m\u001b[0m\u001b[0;34m\u001b[0m\u001b[0m\n",
            "\u001b[0;32m/usr/lib/python3.7/turtle.py\u001b[0m in \u001b[0;36m__init__\u001b[0;34m(self, shape, undobuffersize, visible)\u001b[0m\n\u001b[1;32m   3810\u001b[0m                  visible=_CFG[\"visible\"]):\n\u001b[1;32m   3811\u001b[0m         \u001b[0;32mif\u001b[0m \u001b[0mTurtle\u001b[0m\u001b[0;34m.\u001b[0m\u001b[0m_screen\u001b[0m \u001b[0;32mis\u001b[0m \u001b[0;32mNone\u001b[0m\u001b[0;34m:\u001b[0m\u001b[0;34m\u001b[0m\u001b[0;34m\u001b[0m\u001b[0m\n\u001b[0;32m-> 3812\u001b[0;31m             \u001b[0mTurtle\u001b[0m\u001b[0;34m.\u001b[0m\u001b[0m_screen\u001b[0m \u001b[0;34m=\u001b[0m \u001b[0mScreen\u001b[0m\u001b[0;34m(\u001b[0m\u001b[0;34m)\u001b[0m\u001b[0;34m\u001b[0m\u001b[0;34m\u001b[0m\u001b[0m\n\u001b[0m\u001b[1;32m   3813\u001b[0m         RawTurtle.__init__(self, Turtle._screen,\n\u001b[1;32m   3814\u001b[0m                            \u001b[0mshape\u001b[0m\u001b[0;34m=\u001b[0m\u001b[0mshape\u001b[0m\u001b[0;34m,\u001b[0m\u001b[0;34m\u001b[0m\u001b[0;34m\u001b[0m\u001b[0m\n",
            "\u001b[0;32m/usr/lib/python3.7/turtle.py\u001b[0m in \u001b[0;36mScreen\u001b[0;34m()\u001b[0m\n\u001b[1;32m   3660\u001b[0m     else return the existing one.\"\"\"\n\u001b[1;32m   3661\u001b[0m     \u001b[0;32mif\u001b[0m \u001b[0mTurtle\u001b[0m\u001b[0;34m.\u001b[0m\u001b[0m_screen\u001b[0m \u001b[0;32mis\u001b[0m \u001b[0;32mNone\u001b[0m\u001b[0;34m:\u001b[0m\u001b[0;34m\u001b[0m\u001b[0;34m\u001b[0m\u001b[0m\n\u001b[0;32m-> 3662\u001b[0;31m         \u001b[0mTurtle\u001b[0m\u001b[0;34m.\u001b[0m\u001b[0m_screen\u001b[0m \u001b[0;34m=\u001b[0m \u001b[0m_Screen\u001b[0m\u001b[0;34m(\u001b[0m\u001b[0;34m)\u001b[0m\u001b[0;34m\u001b[0m\u001b[0;34m\u001b[0m\u001b[0m\n\u001b[0m\u001b[1;32m   3663\u001b[0m     \u001b[0;32mreturn\u001b[0m \u001b[0mTurtle\u001b[0m\u001b[0;34m.\u001b[0m\u001b[0m_screen\u001b[0m\u001b[0;34m\u001b[0m\u001b[0;34m\u001b[0m\u001b[0m\n\u001b[1;32m   3664\u001b[0m \u001b[0;34m\u001b[0m\u001b[0m\n",
            "\u001b[0;32m/usr/lib/python3.7/turtle.py\u001b[0m in \u001b[0;36m__init__\u001b[0;34m(self)\u001b[0m\n\u001b[1;32m   3676\u001b[0m         \u001b[0;31m# preserved (perhaps by passing it as an optional parameter)\u001b[0m\u001b[0;34m\u001b[0m\u001b[0;34m\u001b[0m\u001b[0;34m\u001b[0m\u001b[0m\n\u001b[1;32m   3677\u001b[0m         \u001b[0;32mif\u001b[0m \u001b[0m_Screen\u001b[0m\u001b[0;34m.\u001b[0m\u001b[0m_root\u001b[0m \u001b[0;32mis\u001b[0m \u001b[0;32mNone\u001b[0m\u001b[0;34m:\u001b[0m\u001b[0;34m\u001b[0m\u001b[0;34m\u001b[0m\u001b[0m\n\u001b[0;32m-> 3678\u001b[0;31m             \u001b[0m_Screen\u001b[0m\u001b[0;34m.\u001b[0m\u001b[0m_root\u001b[0m \u001b[0;34m=\u001b[0m \u001b[0mself\u001b[0m\u001b[0;34m.\u001b[0m\u001b[0m_root\u001b[0m \u001b[0;34m=\u001b[0m \u001b[0m_Root\u001b[0m\u001b[0;34m(\u001b[0m\u001b[0;34m)\u001b[0m\u001b[0;34m\u001b[0m\u001b[0;34m\u001b[0m\u001b[0m\n\u001b[0m\u001b[1;32m   3679\u001b[0m             \u001b[0mself\u001b[0m\u001b[0;34m.\u001b[0m\u001b[0m_root\u001b[0m\u001b[0;34m.\u001b[0m\u001b[0mtitle\u001b[0m\u001b[0;34m(\u001b[0m\u001b[0m_Screen\u001b[0m\u001b[0;34m.\u001b[0m\u001b[0m_title\u001b[0m\u001b[0;34m)\u001b[0m\u001b[0;34m\u001b[0m\u001b[0;34m\u001b[0m\u001b[0m\n\u001b[1;32m   3680\u001b[0m             \u001b[0mself\u001b[0m\u001b[0;34m.\u001b[0m\u001b[0m_root\u001b[0m\u001b[0;34m.\u001b[0m\u001b[0mondestroy\u001b[0m\u001b[0;34m(\u001b[0m\u001b[0mself\u001b[0m\u001b[0;34m.\u001b[0m\u001b[0m_destroy\u001b[0m\u001b[0;34m)\u001b[0m\u001b[0;34m\u001b[0m\u001b[0;34m\u001b[0m\u001b[0m\n",
            "\u001b[0;32m/usr/lib/python3.7/turtle.py\u001b[0m in \u001b[0;36m__init__\u001b[0;34m(self)\u001b[0m\n\u001b[1;32m    432\u001b[0m     \u001b[0;34m\"\"\"Root class for Screen based on Tkinter.\"\"\"\u001b[0m\u001b[0;34m\u001b[0m\u001b[0;34m\u001b[0m\u001b[0m\n\u001b[1;32m    433\u001b[0m     \u001b[0;32mdef\u001b[0m \u001b[0m__init__\u001b[0m\u001b[0;34m(\u001b[0m\u001b[0mself\u001b[0m\u001b[0;34m)\u001b[0m\u001b[0;34m:\u001b[0m\u001b[0;34m\u001b[0m\u001b[0;34m\u001b[0m\u001b[0m\n\u001b[0;32m--> 434\u001b[0;31m         \u001b[0mTK\u001b[0m\u001b[0;34m.\u001b[0m\u001b[0mTk\u001b[0m\u001b[0;34m.\u001b[0m\u001b[0m__init__\u001b[0m\u001b[0;34m(\u001b[0m\u001b[0mself\u001b[0m\u001b[0;34m)\u001b[0m\u001b[0;34m\u001b[0m\u001b[0;34m\u001b[0m\u001b[0m\n\u001b[0m\u001b[1;32m    435\u001b[0m \u001b[0;34m\u001b[0m\u001b[0m\n\u001b[1;32m    436\u001b[0m     \u001b[0;32mdef\u001b[0m \u001b[0msetupcanvas\u001b[0m\u001b[0;34m(\u001b[0m\u001b[0mself\u001b[0m\u001b[0;34m,\u001b[0m \u001b[0mwidth\u001b[0m\u001b[0;34m,\u001b[0m \u001b[0mheight\u001b[0m\u001b[0;34m,\u001b[0m \u001b[0mcwidth\u001b[0m\u001b[0;34m,\u001b[0m \u001b[0mcheight\u001b[0m\u001b[0;34m)\u001b[0m\u001b[0;34m:\u001b[0m\u001b[0;34m\u001b[0m\u001b[0;34m\u001b[0m\u001b[0m\n",
            "\u001b[0;32m/usr/lib/python3.7/tkinter/__init__.py\u001b[0m in \u001b[0;36m__init__\u001b[0;34m(self, screenName, baseName, className, useTk, sync, use)\u001b[0m\n\u001b[1;32m   2021\u001b[0m                 \u001b[0mbaseName\u001b[0m \u001b[0;34m=\u001b[0m \u001b[0mbaseName\u001b[0m \u001b[0;34m+\u001b[0m \u001b[0mext\u001b[0m\u001b[0;34m\u001b[0m\u001b[0;34m\u001b[0m\u001b[0m\n\u001b[1;32m   2022\u001b[0m         \u001b[0minteractive\u001b[0m \u001b[0;34m=\u001b[0m \u001b[0;36m0\u001b[0m\u001b[0;34m\u001b[0m\u001b[0;34m\u001b[0m\u001b[0m\n\u001b[0;32m-> 2023\u001b[0;31m         \u001b[0mself\u001b[0m\u001b[0;34m.\u001b[0m\u001b[0mtk\u001b[0m \u001b[0;34m=\u001b[0m \u001b[0m_tkinter\u001b[0m\u001b[0;34m.\u001b[0m\u001b[0mcreate\u001b[0m\u001b[0;34m(\u001b[0m\u001b[0mscreenName\u001b[0m\u001b[0;34m,\u001b[0m \u001b[0mbaseName\u001b[0m\u001b[0;34m,\u001b[0m \u001b[0mclassName\u001b[0m\u001b[0;34m,\u001b[0m \u001b[0minteractive\u001b[0m\u001b[0;34m,\u001b[0m \u001b[0mwantobjects\u001b[0m\u001b[0;34m,\u001b[0m \u001b[0museTk\u001b[0m\u001b[0;34m,\u001b[0m \u001b[0msync\u001b[0m\u001b[0;34m,\u001b[0m \u001b[0muse\u001b[0m\u001b[0;34m)\u001b[0m\u001b[0;34m\u001b[0m\u001b[0;34m\u001b[0m\u001b[0m\n\u001b[0m\u001b[1;32m   2024\u001b[0m         \u001b[0;32mif\u001b[0m \u001b[0museTk\u001b[0m\u001b[0;34m:\u001b[0m\u001b[0;34m\u001b[0m\u001b[0;34m\u001b[0m\u001b[0m\n\u001b[1;32m   2025\u001b[0m             \u001b[0mself\u001b[0m\u001b[0;34m.\u001b[0m\u001b[0m_loadtk\u001b[0m\u001b[0;34m(\u001b[0m\u001b[0;34m)\u001b[0m\u001b[0;34m\u001b[0m\u001b[0;34m\u001b[0m\u001b[0m\n",
            "\u001b[0;31mTclError\u001b[0m: no display name and no $DISPLAY environment variable"
          ]
        }
      ]
    },
    {
      "cell_type": "code",
      "metadata": {
        "id": "ggK5OuOU-5rX"
      },
      "source": [
        "8\n",
        "#별을 그리는 코드를 반복한다. 하나의 별을 그리는 반복이 끝나면 left*10을 실행한다\n",
        "import turtle           #터틀 그래픽 모듈을 불러온다\n",
        "\n",
        "myPen = turtle.Turtle() #거북이를 만든다\n",
        "my.Pen.speed(0)         #펜의 속도를 0으로 한다\n",
        "my.Pen.color(\"ff0000\")  #색깔을ff0000으로 한다\n",
        "\n",
        "for j in range(1,10):\n",
        "  for i in range(1,6):\n",
        "    myPen.left(144)    #펜을 144만큼 좌회전한다\n",
        "    myPen.forward(200) #펜을 200만큼 직진한다\n",
        " myPen.left(10)        #펜을 10만큼 왼쪽으로 회전한다\n",
        "\n",
        "myPen._screen.exitonclick()"
      ],
      "execution_count": null,
      "outputs": []
    },
    {
      "cell_type": "code",
      "metadata": {
        "id": "lQe_tM_yAXew"
      },
      "source": [
        "9\n",
        "#1부터 100사이 난수를 발생하려면 r = random.randint(1,100)을 사용, 첫부분에 random도 import 해야함 원의 중심과 반지름을 난수로 설정한다\n",
        "import turtle         #터틀그래픽 모듈을 불러온다\n",
        "import random         #랜덤 모듈을 불러온다\n",
        "  \n",
        "t = turtle.Turtle()   #거북이를 만든다\n",
        "t.shape(\"turtle\")     #커서의 모양을 거북이로 한다\n",
        "\n",
        "for j in range(1,10): \n",
        "  t.up() \n",
        "  x = random.randint(-200,200) #-200사이에서 200의 난수를 생성하여 x변수에 저장한다\n",
        "  y = random.randint(-200,200) #-200사이에서 200의 난수를 생성하여 y변수에 저장한다\n",
        "  r = random.randint(10,200)   #10에서 200사이의 난수를 생성하여 r변수에 저장한다\n",
        "  t.goto(x,y)                  #x,y\n",
        "  t.down()\n",
        "  t.circle(r) \n",
        "  t._screen.exitonclick()"
      ],
      "execution_count": null,
      "outputs": []
    }
  ]
}