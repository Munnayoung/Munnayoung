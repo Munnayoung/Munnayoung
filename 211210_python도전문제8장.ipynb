{
  "nbformat": 4,
  "nbformat_minor": 0,
  "metadata": {
    "colab": {
      "name": "211210_python도전문제8장",
      "provenance": [],
      "authorship_tag": "ABX9TyNVtfhPkPyGUPsIU7Im1PaW",
      "include_colab_link": true
    },
    "kernelspec": {
      "name": "python3",
      "display_name": "Python 3"
    },
    "language_info": {
      "name": "python"
    }
  },
  "cells": [
    {
      "cell_type": "markdown",
      "metadata": {
        "id": "view-in-github",
        "colab_type": "text"
      },
      "source": [
        "<a href=\"https://colab.research.google.com/github/Munnayoung/Munnayoung/blob/%EC%97%B0%EC%8A%B5%EB%AC%B8%EC%A0%9C-3%EC%9E%A5%EC%9D%B4%ED%9B%84%EB%B6%80%ED%84%B0%EB%9E%91-%EB%8F%84%EC%A0%84%EB%AC%B8%EC%A0%9C%EC%8B%9C%EB%A6%AC%EC%A6%88/211210_python%EB%8F%84%EC%A0%84%EB%AC%B8%EC%A0%9C8%EC%9E%A5.ipynb\" target=\"_parent\"><img src=\"https://colab.research.google.com/assets/colab-badge.svg\" alt=\"Open In Colab\"/></a>"
      ]
    },
    {
      "cell_type": "code",
      "execution_count": null,
      "metadata": {
        "id": "OGi2eoLpuTsd"
      },
      "outputs": [],
      "source": [
        "import turtle #터틀 그래픽 모듈을 불러온다\n",
        "import random #랜덤난수 모듈을 불러온다\n",
        "\n",
        "screen = turtle.Screen() #거북이를 화면에 그린다\n",
        "image1=\"D:/rabbit.gif\"\n",
        "image2=\"D:/turtle.gif\"\n",
        "image3 =\"D:/turtle2.gif\"\n",
        "screen.addshape(image1)\n",
        "screen.addshape(image2)\n",
        "screen.addshape(image3)\n",
        "\n",
        "t1 =turtle.Turtle() #첫 번째 거북이를 생성한다\n",
        "tl.shape(image1)\n",
        "tl.pensize(5) #펜의 두꼐를 5로 한다\n",
        "t1.penup() #펜을 올린다\n",
        "t1.goto(-300,0) #(-300,0)으로 이동한다\n",
        "\n",
        "t2 = turtle.Turtle() # 두 번째 거북이를 생성한다\n",
        "t2.shape(image2)\n",
        "t2.pensize(5) #펜을 두꼐를 5로 한다\n",
        "t2.penup() #펜을 올린다\n",
        "t2.goto(-300,-100) #(-300,-100)으로 이동한다\n",
        "\n",
        "t3 = turtle.Turtle() #세번쨰 거북이를 생성한다\n",
        "t3.shape(image2)\n",
        "t3.pensize(5) #펜의 두께를 5로 한다\n",
        "t3.penup() #펜을 든다\n",
        "t3.goto(-300,-200) #(-300,-200)위치로 한다\n",
        "\n",
        "tl.pendown() #첫 번쨰 거북이의 펜을 내린다\n",
        "t2.pendown() #두 번째 거북이의 펜을 내린다\n",
        "t3.pendown() #세 번째 거북이의 펜을 내린다\n",
        "tl.speed(1) #첫 번째 거북이의 속도를 1로한다\n",
        "t2.speed(1) #두 번째 거북이의 속도를 1로한다\n",
        "t3.speed(1) #세 번째 거북이의 속도를 1로한다\n",
        "\n",
        "for i in range(100): #100번 반복한다\n",
        "  d1 = random.randint(1,60) #1부터 100까지 사이의 난수를 생성하여 d1변수에 저장한다\n",
        "  tl.forward(d1) #d1만큼 전진한다\n",
        "  d2 =random.randint(1,60) #1부터 60까지의 랜덤난수를 생성하여 d2변수에 저정한다\n",
        "  t2.forward(d2) #d2만큼 전진한다\n",
        "  d3 = random.randint(1,60) #1부터 60까지의 랜덤난수를 생성하여 d3변수에 저장한다\n",
        "  t3.forward[(d3)] #d3만큼 전진한다"
      ]
    }
  ]
}