{
  "nbformat": 4,
  "nbformat_minor": 0,
  "metadata": {
    "colab": {
      "name": "211122_python수업시간",
      "provenance": [],
      "authorship_tag": "ABX9TyP30S3TSdmRsr+gdjARHD1a",
      "include_colab_link": true
    },
    "kernelspec": {
      "name": "python3",
      "display_name": "Python 3"
    },
    "language_info": {
      "name": "python"
    }
  },
  "cells": [
    {
      "cell_type": "markdown",
      "metadata": {
        "id": "view-in-github",
        "colab_type": "text"
      },
      "source": [
        "<a href=\"https://colab.research.google.com/github/Munnayoung/Munnayoung/blob/%EC%97%B0%EC%8A%B5%EB%AC%B8%EC%A0%9C-1%EC%9E%A5%2Ba/211122_python%EC%88%98%EC%97%85%EC%8B%9C%EA%B0%84.ipynb\" target=\"_parent\"><img src=\"https://colab.research.google.com/assets/colab-badge.svg\" alt=\"Open In Colab\"/></a>"
      ]
    },
    {
      "cell_type": "code",
      "metadata": {
        "colab": {
          "base_uri": "https://localhost:8080/"
        },
        "id": "DVz8Zr9mCYb5",
        "outputId": "d48cf9ec-fb82-4965-bb01-4a71e226a900"
      },
      "source": [
        "age = 20\n",
        "if age < 20 :\n",
        "  print('20살 미만')\n",
        "else:\n",
        "  print ('20살 이상')"
      ],
      "execution_count": 6,
      "outputs": [
        {
          "output_type": "stream",
          "name": "stdout",
          "text": [
            "20살 이상\n"
          ]
        }
      ]
    },
    {
      "cell_type": "code",
      "metadata": {
        "colab": {
          "base_uri": "https://localhost:8080/"
        },
        "id": "rr0DGWP7EABW",
        "outputId": "c948a394-a54a-41ea-fe74-c173e40ea3e9"
      },
      "source": [
        "age = 20\n",
        "if age >= 30 and age <= 50:\n",
        "   print('20살 미만')\n",
        "else:\n",
        "  print('20살 이상')"
      ],
      "execution_count": 9,
      "outputs": [
        {
          "output_type": "stream",
          "name": "stdout",
          "text": [
            "20살 이상\n"
          ]
        }
      ]
    },
    {
      "cell_type": "code",
      "metadata": {
        "colab": {
          "base_uri": "https://localhost:8080/"
        },
        "id": "8QC7tDwQEitj",
        "outputId": "e1d79d52-5f99-46ce-c251-35df4bd5c45a"
      },
      "source": [
        "temp = int(input(\"현재 온도를 입력하세요: \"))\n",
        "\n",
        "if temp >= 25:\n",
        "  print(\"반바지를 입으세요.\")\n",
        "else:\n",
        "  print(\"긴바지를 입으세요.\")"
      ],
      "execution_count": 10,
      "outputs": [
        {
          "output_type": "stream",
          "name": "stdout",
          "text": [
            "현재 온도를 입력하세요: 40\n",
            "반바지를 입으세요.\n"
          ]
        }
      ]
    },
    {
      "cell_type": "code",
      "metadata": {
        "colab": {
          "base_uri": "https://localhost:8080/"
        },
        "id": "HiTM7NQlFDN1",
        "outputId": "6be4008d-f972-4991-fd38-8d0e2abf9eaf"
      },
      "source": [
        "score = int(input(\"성적을 입력하세요: \"))\n",
        "\n",
        "if score >= 90:\n",
        "  print(\"A학점 입니다.\")\n",
        "elif score >=80:\n",
        "  print(\"B학점 입니다.\")\n",
        "elif score >= 70:\n",
        "  print(\"C학점 입니다.\")\n",
        "elif score >= 60:\n",
        "  primt(\"D학점 입니다.\")\n",
        "else:\n",
        "  print(\"F학점 입니다. 내년에 또 봐요\")"
      ],
      "execution_count": 12,
      "outputs": [
        {
          "output_type": "stream",
          "name": "stdout",
          "text": [
            "성적을 입력하세요: 55\n",
            "F학점 입니다. 내년에 또 봐요\n"
          ]
        }
      ]
    },
    {
      "cell_type": "code",
      "metadata": {
        "colab": {
          "base_uri": "https://localhost:8080/"
        },
        "id": "WfPtFPVmGBAe",
        "outputId": "542f9281-4109-49ae-b064-c6e490b5fb3a"
      },
      "source": [
        "import random\n",
        "x = random.randint(1,100)\n",
        "y = random.randint(1,100)\n",
        "\n",
        "answer = int(input(str(x)+\"-\"+str(y)+\"=\"))\n",
        "\n",
        "if answer == x-y :\n",
        "  print(\"맞았습니다.\")\n",
        "else:\n",
        "  print(\"틀렸습니다.\")"
      ],
      "execution_count": 32,
      "outputs": [
        {
          "output_type": "stream",
          "name": "stdout",
          "text": [
            "61-3=58\n",
            "맞았습니다.\n"
          ]
        }
      ]
    },
    {
      "cell_type": "code",
      "metadata": {
        "colab": {
          "base_uri": "https://localhost:8080/"
        },
        "id": "0jA4JnIHHC73",
        "outputId": "07ff88de-485f-446e-a26c-24a5ddc52557"
      },
      "source": [
        "n = int(input(\"정수를 입력하시오: \"))\n",
        "\n",
        "if n%2==0 and n%3==0:\n",
        "   print(\"2와3으로 나누어 떨어집니다.\")\n",
        "else:\n",
        "    print(\"2와3으로 나누어 떨어지지 않습니다.\")"
      ],
      "execution_count": 36,
      "outputs": [
        {
          "output_type": "stream",
          "name": "stdout",
          "text": [
            "정수를 입력하시오: 10\n",
            "2와3으로 나누어 떨어지지 않습니다.\n"
          ]
        }
      ]
    },
    {
      "cell_type": "code",
      "metadata": {
        "colab": {
          "base_uri": "https://localhost:8080/"
        },
        "id": "QHqabHoKI8fK",
        "outputId": "11e9515f-729e-434b-8603-23960542d601"
      },
      "source": [
        "for  i in range(2,101):\n",
        "  if i%2==0:\n",
        "    print(i,end = \"\")"
      ],
      "execution_count": 38,
      "outputs": [
        {
          "output_type": "stream",
          "name": "stdout",
          "text": [
            "2468101214161820222426283032343638404244464850525456586062646668707274767880828486889092949698100"
          ]
        }
      ]
    },
    {
      "cell_type": "code",
      "metadata": {
        "id": "dFLXlRQ4MVbM"
      },
      "source": [
        ""
      ],
      "execution_count": null,
      "outputs": []
    }
  ]
}