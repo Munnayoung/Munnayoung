{
  "nbformat": 4,
  "nbformat_minor": 0,
  "metadata": {
    "colab": {
      "name": "211130_python연습문제7장-1",
      "provenance": [],
      "authorship_tag": "ABX9TyPuGqk8X6fgg1Hu5s1UKzMV",
      "include_colab_link": true
    },
    "kernelspec": {
      "name": "python3",
      "display_name": "Python 3"
    },
    "language_info": {
      "name": "python"
    }
  },
  "cells": [
    {
      "cell_type": "markdown",
      "metadata": {
        "id": "view-in-github",
        "colab_type": "text"
      },
      "source": [
        "<a href=\"https://colab.research.google.com/github/Munnayoung/Munnayoung/blob/%EC%97%B0%EC%8A%B5%EB%AC%B8%EC%A0%9C-3%EC%9E%A5%EC%9D%B4%ED%9B%84%EB%B6%80%ED%84%B0%EB%9E%91-%EB%8F%84%EC%A0%84%EB%AC%B8%EC%A0%9C%EC%8B%9C%EB%A6%AC%EC%A6%88/211130_python%EC%97%B0%EC%8A%B5%EB%AC%B8%EC%A0%9C7%EC%9E%A5_1.ipynb\" target=\"_parent\"><img src=\"https://colab.research.google.com/assets/colab-badge.svg\" alt=\"Open In Colab\"/></a>"
      ]
    },
    {
      "cell_type": "code",
      "metadata": {
        "id": "SAqnLLGrjKzx"
      },
      "source": [
        "1\n",
        "#draw_snowman(x,y)함수를 작성하고 테스트, 터틀그래픽에서 배경을 하는색으로 변경하려면 s = turtle.screen(); s.bgcolor(\"skyblue\");로 처리한다\n",
        "import turtle              #터틀 그래픽 모듈을 불러온다\n",
        "t = turtle.Turtle()        #거북이를 만든다\n",
        "t.color(\"black\",\"white\")   #거북이의 색깔을 검정색과 하얀색으로 설정한다\n",
        "s = turtle.Screen(); s.bgcolor(\"skyblue\"); #거북이 배경을 스카이블루로 설정한다\n",
        "\n",
        "def draw_snowman(x,y):\n",
        "  t.up() \n",
        "  t.goto(x,y) \n",
        "  t.begin_fill()  #채우기시작한다\n",
        "  t.circle(20)    #원을 20만큼\n",
        "  t.end_fill()    #채우기가 끝이났다\n",
        "  t.goto(x,y-25)\n",
        "  t.setheading(135)\n",
        "  t.forward(50)  #50만큼 직진한다\n",
        "  t.backward(50  #50만큼 뒤로간다\n",
        "\n",
        "  t.setheading(30)\n",
        "  t.forward(50)  #50만큼 앞으로 간다\n",
        "  t.backward(50) #50만큼 뒤로 간다\n",
        "  t.setheading(0)\n",
        "\n",
        "  t.begin_fill() #채우기 시작한다\n",
        "  t.circle(15)   #원을 15만큼\n",
        "  t.end_fill()   #채우기가 끝이났다\n",
        "  t.goto(x,y-70)\n",
        "  t.begin_fill() #채우기 시작한다\n",
        "  t.circle(30)   #30만큼인 원\n",
        "  t.end_fill()   #채우기가 끝이났다\n",
        "\n",
        "draw_snowman(0,0)\n",
        "draw_snowman(100,0)\n",
        "draw_snowman(200,0)\n",
        "t._screen.exitonclick()"
      ],
      "execution_count": null,
      "outputs": []
    }
  ]
}