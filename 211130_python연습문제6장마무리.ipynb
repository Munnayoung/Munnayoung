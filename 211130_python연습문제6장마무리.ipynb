{
  "nbformat": 4,
  "nbformat_minor": 0,
  "metadata": {
    "colab": {
      "name": "211130_python연습문제6장마무리",
      "provenance": [],
      "authorship_tag": "ABX9TyP+QuFDO7ePI1MaR+R4qyOf",
      "include_colab_link": true
    },
    "kernelspec": {
      "name": "python3",
      "display_name": "Python 3"
    },
    "language_info": {
      "name": "python"
    }
  },
  "cells": [
    {
      "cell_type": "markdown",
      "metadata": {
        "id": "view-in-github",
        "colab_type": "text"
      },
      "source": [
        "<a href=\"https://colab.research.google.com/github/Munnayoung/Munnayoung/blob/%EC%97%B0%EC%8A%B5%EB%AC%B8%EC%A0%9C-3%EC%9E%A5%EC%9D%B4%ED%9B%84%EB%B6%80%ED%84%B0%EB%9E%91-%EB%8F%84%EC%A0%84%EB%AC%B8%EC%A0%9C%EC%8B%9C%EB%A6%AC%EC%A6%88/211130_python%EC%97%B0%EC%8A%B5%EB%AC%B8%EC%A0%9C6%EC%9E%A5%EB%A7%88%EB%AC%B4%EB%A6%AC.ipynb\" target=\"_parent\"><img src=\"https://colab.research.google.com/assets/colab-badge.svg\" alt=\"Open In Colab\"/></a>"
      ]
    },
    {
      "cell_type": "code",
      "metadata": {
        "id": "bRfCFZhVcyni"
      },
      "source": [
        "10\n",
        "#거북이가 왕복달리게 하는것이다. 거북이가 현재 바라보고 있는 방향을 잘 설정하여야한다\n",
        "import turtle       #터틀그래픽 모듈을 불러온다\n",
        "t = turtle.Turtle() #거북이를 만든다\n",
        "t.shape(\"turtle\")   #커서의 모양을 거북이로 설정한다\n",
        "\n",
        "for i in range (5): #5번 반복한다\n",
        "  t.fd(200);        #200만큼 전진한다\n",
        "  t.rt(90)          #90만큼 우회전한다\n",
        "  t.fd(20);         #20만큼 전진한다\n",
        "  t.rt(90)          #90만큼 우회전한다\n",
        "  t.fd(200);        #200만큼 직진한다\n",
        "  t.lt(90)          #90만큼 좌회전한다\n",
        "  t.fd(20);         #20만큼 직진한다\n",
        "  t.left(90)        #90만큼 좌회전한다\n",
        "  t._screen.exitonclick()"
      ],
      "execution_count": null,
      "outputs": []
    },
    {
      "cell_type": "code",
      "metadata": {
        "id": "JPq0MFNIe8oF"
      },
      "source": [
        "11\n",
        "import turtle           #터틀그래픽 모듈을 불러온다\n",
        "t = turtle.Turtle()     #거북이를 만든다\n",
        "t.shape(\"turtle\")       #커서의 모양을 거북이로 한다\n",
        "t.color(\"red\",\"yellow\") #색깔을 빨강색과 노란색으로 한다\n",
        "t.begin_fill()          #색깔을 채운다\n",
        "while True:             #반복루프\n",
        "  t.fd(200)             #200만큼 직진한다\n",
        "  t.lt(170)             #170만큼 좌회전 한다\n",
        "  if abs(t.pos()) < 1:  #만약에 abs(t.pos())가 1보다 작다면\n",
        "    break               #멈춘다\n",
        "t.end_fill()            #채우기가 끝이 났다\n",
        "t._screen.exitonclick()\n",
        "#color(cl,c2)함수는 도형의 선 색상과 채우기 색상을 cl과 c2로 설정 begin_fill()를 호출하면 속이 채워진 도형이 그려진다\n",
        "#pos()함수는 거북이의 좌표로 반환한다. abs()는 절대값으로 계산한다 break는 반복루프를 빠져나오도록 하게된다\n"
      ],
      "execution_count": null,
      "outputs": []
    },
    {
      "cell_type": "code",
      "metadata": {
        "id": "OtkjPavFhWhZ"
      },
      "source": [
        "12\n",
        "#싸인값은 sin()함수로 계산한다. 프로그램의 첫부분에 import math를 추가한다. 각도를 라디안으로 변환하여야 한다\n",
        "#radian = 3.14*degree/180.0 수식을 사용한다\n",
        "import turtle           #터틀그래픽 모듈을 불러낸다\n",
        "import math             #터틀 수학 모듈을 불러낸다\n",
        "t = turtle.Turtle()     #거북이를 만든다\n",
        "t.shape(\"turtle\")       #커서의 모양을 거북이로 한다\n",
        "t.color(\"red\",\"yellow\") #색깔을 빨강색 과 노랑색으로 정한다\n",
        "\n",
        "for x in range(0,360):\n",
        "  t.goto(x,200*math.sin(x*3.14/180))\n",
        "t._screen.exitonclick()\n"
      ],
      "execution_count": null,
      "outputs": []
    }
  ]
}