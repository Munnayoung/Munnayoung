{
  "nbformat": 4,
  "nbformat_minor": 0,
  "metadata": {
    "colab": {
      "name": "211207_python연습문제9장-2",
      "provenance": [],
      "authorship_tag": "ABX9TyOrNms4L+iPUkttuvuAnZQs",
      "include_colab_link": true
    },
    "kernelspec": {
      "name": "python3",
      "display_name": "Python 3"
    },
    "language_info": {
      "name": "python"
    }
  },
  "cells": [
    {
      "cell_type": "markdown",
      "metadata": {
        "id": "view-in-github",
        "colab_type": "text"
      },
      "source": [
        "<a href=\"https://colab.research.google.com/github/Munnayoung/Munnayoung/blob/%EC%97%B0%EC%8A%B5%EB%AC%B8%EC%A0%9C-3%EC%9E%A5%EC%9D%B4%ED%9B%84%EB%B6%80%ED%84%B0%EB%9E%91-%EB%8F%84%EC%A0%84%EB%AC%B8%EC%A0%9C%EC%8B%9C%EB%A6%AC%EC%A6%88/211207_python%EC%97%B0%EC%8A%B5%EB%AC%B8%EC%A0%9C9%EC%9E%A5_2.ipynb\" target=\"_parent\"><img src=\"https://colab.research.google.com/assets/colab-badge.svg\" alt=\"Open In Colab\"/></a>"
      ]
    },
    {
      "cell_type": "code",
      "metadata": {
        "id": "5GA2_ZKCbYIS"
      },
      "source": [
        "5\n",
        "#화면의(x,y) 위치에 다각형을  그리는 함수 def draw_shape(t,c,length,sides,x,y)를 작성한다\n",
        "#색상을 리스트에 저장하고 하나씩 꺼내서 거북이의 색상을 설정한다\n",
        "#난수를 발생하여 랜덤한 위치에 랜덤한 크기에 다각형을 그려보자\n",
        "import turtle #터틀 그래픽을 모듈을 불러온다\n",
        "import random #랜덤 모듈을 불러온다\n",
        "\n",
        "t = turtle.Turtle() #거북이를 만든다\n",
        "s = turtle.Screen() #거북이를 화면에 그린다\n",
        "\n",
        "def draw_shape(t,c,length,sides,x,y):#다각형을 그리는 함수\n",
        "  t.up()         #펜을 든다\n",
        "  t.goto(x,y)    #(x,y)로 이동한다\n",
        "  t.down()       #펜을 내린다\n",
        "  t.fillcolor(c) #c로 색깔을 채운다\n",
        "  angle = 360.0/sides \n",
        "  t.begin_fill() #채우기 시작한다\n",
        "  for dist in range(sides): \n",
        "    t.forward(length) #변의 길이만큼 전진한다\n",
        "    t.left(angle)     #각도만큼 좌회전 한다\n",
        "  t.end_fill()        #채우기를 끝낸다\n",
        "\n",
        "for i in range(10): #10번 반복한다\n",
        "  color = random.choice([\"white\",\"yellow\",\"blue\",\"skyblue\",\"orange\",\"green\"]) #하얀색,노랑색,파랑색,스카이블루색,오렌지색,초록색 중에서 랜덤색깔을 선택한다\n",
        "  side_length = random.randint(10,100) #10부터 100까지 랜덤난수를 생성하여 side_length변수에 저장한다\n",
        "  sides = random.randint(3,10)         #3부터 10까지의 랜덤난수를 생성하여 sides라는 변수에 저장한다\n",
        "  x = random.randint(-200,200)         #-200부터 200까지 랜덤난수를 생성하여 x변수에 저장한다\n",
        "  y = random.randint(-200,200)         #-200부터200까지의 랜덤난수를 생성하여 y변수에 저장한다\n",
        "  draw_shape(t,color,side_length,sides,x,y) #다각형을 그리는 함수\n"
      ],
      "execution_count": null,
      "outputs": []
    },
    {
      "cell_type": "code",
      "metadata": {
        "id": "b-ozFz3cfpjQ"
      },
      "source": [
        "6\n",
        "#화면의 (x,y) 위치에 별을 그리는 함수 draw_star(color,length,x,y)를 작성한다\n",
        "#색상을 리스트에 저장하고 하나씩 꺼내서 거북이의 색상으로 설정한다. 난수를 발생하여 랜덤한 위치에 랜덤한 크기의 별을 그려보자\n",
        "#화면의 배경색을 검정으로 하려면 s = turtle.screen(); s.bgcolor(\"black\");을 실행한다\n",
        "\n",
        "import turtle #터틀 그래픽 모듈을 불러온다\n",
        "import random #랜덤 모듈을 불러온다\n",
        "\n",
        "t = turtle.Turtle   #거북이를 만든다\n",
        "s = turtle.Screen() #화면에 거북이를 그린다\n",
        "s.bgcolor(\"black\")  #색배경은 검정색으로 한다\n",
        "\n",
        "def draw_star(aturtle,color,side_length,x,v): #별을 그리는 함수\n",
        "  aturtle.color(color)                        #거북이의 색깔\n",
        "  aturtle.begin_fill()                        #채우기 시작한다\n",
        "  aturtle.penup()                             #펜을 든다\n",
        "  aturtle.goto(x,y)                           #(x,y)로 이동한다\n",
        "  aturtle.pendown()                           #펜을 내린다\n",
        "  for i in range(5):                          #5번 반복한다\n",
        "    aturtle.forward(side_length)              #side_length만큼 전진한다\n",
        "    aturtle.right(144)                        #144만큼 우회전한다\n",
        "    aturtle.forward(side_length)              #side_length만큼 전진한다\n",
        "   aturtle.end_fill()                         #채우기를 끝낸다\n",
        "\n",
        "for i in range(20): #20만큼 반복한다\n",
        "  color = random.choice([\"white\",\"yellow\",\"blue\",\"skyblue\",\"orange\",\"green\"]) #하얀색,빨강색,파랑색,스카이블루색,오렌지색,초록색등 랜덤색깔을 고른다\n",
        "  side_length = random.randint(10,100)                                        #10부터 100까지 랜덤난수를 생성하여 side_length변수에 저장한다\n",
        "  x = random.randint(-200,200)                                                #-200부터 200까지의 랜덤난수를 생성하여 x변수에 저장한다\n",
        "  y = random.randint(-200,200)                                                #-200부터 200까지의 랜덤난수를 생성하여 y변수에 저장한다\n",
        "  draw_star(t,color,side_length,x,y) #별을 그리는 함수\n"
      ],
      "execution_count": null,
      "outputs": []
    },
    {
      "cell_type": "code",
      "metadata": {
        "colab": {
          "base_uri": "https://localhost:8080/"
        },
        "id": "Gnfk920akNnS",
        "outputId": "57a65426-bb10-4ea5-b1fe-f8a1cc7e38b6"
      },
      "source": [
        "7\n",
        "domains = {\"kr\":\"대한민국\",\"us\":\"미국\",\"jp\":\"jp\",\"de\":\"독일\",\"sk\":\"스로바키아\",\"hu\":\"헝가리\",\"no\":\"노르웨이\"} #인터넷 도메인의 약자와 해당되는 국가를 딕셔어리에 저장한다\n",
        "\n",
        "for k,v in domains.items(): #딕셔너리에서 키와 값을 모두 꺼내서 출력한다\n",
        "  print(k,\":\",v)"
      ],
      "execution_count": 3,
      "outputs": [
        {
          "output_type": "stream",
          "name": "stdout",
          "text": [
            "kr : 대한민국\n",
            "us : 미국\n",
            "jp : jp\n",
            "de : 독일\n",
            "sk : 스로바키아\n",
            "hu : 헝가리\n",
            "no : 노르웨이\n"
          ]
        }
      ]
    },
    {
      "cell_type": "code",
      "metadata": {
        "colab": {
          "base_uri": "https://localhost:8080/"
        },
        "id": "MRcOMgv6lwFQ",
        "outputId": "3482fd4f-0d37-4358-84a4-0b4fc608a7b0"
      },
      "source": [
        "8\n",
        "#사용자는 문자열로 답해야한다,번호로는 답할 수 없다\n",
        "\n",
        "problems = {\"파이썬\": \"최근에 가장 떠오르는 프로그래임 언어\", #딕셔너리 키만을 꺼낼때 사용\n",
        "                \"변수\": \"데이터를 저장하는 메모리 공간\",\n",
        "                \"함수\": \"작업을 수행하는 문장들의 집합에 이름을 붙인것\",\n",
        "                \"리스트\": \"서로 관련이 없는 항목들의 모임\",\n",
        "                 }\n",
        "def show_words(problems): #문제의 단어를 보여달라\n",
        "    display_message = \"\"\n",
        "    i = 1\n",
        "    for word in problems.keys():\n",
        "        display_message += \"(\"+str(i)+\")\"\n",
        "        display_message += word + \"\"\n",
        "        i=+1\n",
        "        print(display_message)\n",
        "\n",
        "for meaning in problems.values():\n",
        "  print(\"다음은 어떤 단어에 대한 설명일까요? 주관식 입니다.\")\n",
        "  print(\"\\\"\"+meaning+\"\\\"\")\n",
        "  correct = False\n",
        "  while not correct:\n",
        "    show_words(problems)\n",
        "    guessed_word = input(\"\") #추측단어 입력하기\n",
        "    if problems[guessed_word]== meaning: #추측한 글자가 의미가 맞다면\n",
        "      print(\"정답입니다.!\") #정답으로 출력이 된다\n",
        "      correct = True\n",
        "    else: #그렇지 않다면 정답이 아니라고 출력이 된다\n",
        "      print(\"정답이 아닙니다.\")\n"
      ],
      "execution_count": 17,
      "outputs": [
        {
          "output_type": "stream",
          "name": "stdout",
          "text": [
            "다음은 어떤 단어에 대한 설명일까요? 주관식 입니다.\n",
            "\"최근에 가장 떠오르는 프로그래임 언어\"\n",
            "(1)파이썬\n",
            "(1)파이썬(1)변수\n",
            "(1)파이썬(1)변수(1)함수\n",
            "(1)파이썬(1)변수(1)함수(1)리스트\n",
            "파이썬\n",
            "정답입니다.!\n",
            "다음은 어떤 단어에 대한 설명일까요? 주관식 입니다.\n",
            "\"데이터를 저장하는 메모리 공간\"\n",
            "(1)파이썬\n",
            "(1)파이썬(1)변수\n",
            "(1)파이썬(1)변수(1)함수\n",
            "(1)파이썬(1)변수(1)함수(1)리스트\n",
            "변수\n",
            "정답입니다.!\n",
            "다음은 어떤 단어에 대한 설명일까요? 주관식 입니다.\n",
            "\"작업을 수행하는 문장들의 집합에 이름을 붙인것\"\n",
            "(1)파이썬\n",
            "(1)파이썬(1)변수\n",
            "(1)파이썬(1)변수(1)함수\n",
            "(1)파이썬(1)변수(1)함수(1)리스트\n",
            "함수\n",
            "정답입니다.!\n",
            "다음은 어떤 단어에 대한 설명일까요? 주관식 입니다.\n",
            "\"서로 관련이 없는 항목들의 모임\"\n",
            "(1)파이썬\n",
            "(1)파이썬(1)변수\n",
            "(1)파이썬(1)변수(1)함수\n",
            "(1)파이썬(1)변수(1)함수(1)리스트\n",
            "리스트\n",
            "정답입니다.!\n"
          ]
        }
      ]
    }
  ]
}