{
  "nbformat": 4,
  "nbformat_minor": 0,
  "metadata": {
    "colab": {
      "name": "211210_python도전문제9장",
      "provenance": [],
      "authorship_tag": "ABX9TyOBm+ahHabD+WA41tAY+5c0",
      "include_colab_link": true
    },
    "kernelspec": {
      "name": "python3",
      "display_name": "Python 3"
    },
    "language_info": {
      "name": "python"
    }
  },
  "cells": [
    {
      "cell_type": "markdown",
      "metadata": {
        "id": "view-in-github",
        "colab_type": "text"
      },
      "source": [
        "<a href=\"https://colab.research.google.com/github/Munnayoung/Munnayoung/blob/%EC%97%B0%EC%8A%B5%EB%AC%B8%EC%A0%9C-3%EC%9E%A5%EC%9D%B4%ED%9B%84%EB%B6%80%ED%84%B0%EB%9E%91-%EB%8F%84%EC%A0%84%EB%AC%B8%EC%A0%9C%EC%8B%9C%EB%A6%AC%EC%A6%88/211210_python%EB%8F%84%EC%A0%84%EB%AC%B8%EC%A0%9C9%EC%9E%A5.ipynb\" target=\"_parent\"><img src=\"https://colab.research.google.com/assets/colab-badge.svg\" alt=\"Open In Colab\"/></a>"
      ]
    },
    {
      "cell_type": "code",
      "execution_count": 1,
      "metadata": {
        "colab": {
          "base_uri": "https://localhost:8080/"
        },
        "id": "d2LGxW6S0joY",
        "outputId": "7302ef5f-5ae5-43e3-93dc-5d1fe919f778"
      },
      "outputs": [
        {
          "output_type": "stream",
          "name": "stdout",
          "text": [
            "###########################\n",
            "#오늘의 산수 문제#\n",
            "###########################\n",
            "\n",
            "56/8\n"
          ]
        }
      ],
      "source": [
        "import random #랜덤 모듈을 불러온다\n",
        "\n",
        "question = [\"56/8\",\"8*9\",\"50-25\",\"1+6\",\"81/9\",\"22+10\",\"8/4\",\"9*7\",\"17-4\",\"3+5\"] #질문\n",
        "dailyQuestion = random.choice(question) #랜덤 질문\n",
        "print(\"###########################\")\n",
        "print(\"#오늘의 산수 문제#\")\n",
        "print(\"###########################\")\n",
        "print(\"\")\n",
        "print(dailyQuestion) #오늘의 문제가 출력된다"
      ]
    },
    {
      "cell_type": "code",
      "source": [
        "items = {\"커피음료\":7,\"펜\":3,\"종이컵\":2,\"우유\":1,\"콜라\":4,\"책\":5}\n",
        "\n",
        "while True: #무한 루프\n",
        "  print(\"\")\n",
        "  print(\"# 재고 목록 #\") #재고 목록\n",
        "  for key in sorted(items.keys()):\n",
        "    print(key,items[key])\n",
        "\n",
        "  print(\"\\n***************\")\n",
        "  print(\"0.종료\")\n",
        "  print(\"1,재고추가\")\n",
        "  print(\"*****************\\n\")\n",
        "  a = int(input(\"무엇을 하시겟습니까?: \")) #무엇인지 출력하기\n",
        "\n",
        "  if a ==1: #a랑 1이랑 같다면\n",
        "    item = input(\"물건의 이름을 입력하시오:\") #물건 입력하기\n",
        "    num = input(\"몇개를 추가하시겠습니다? :\") #물건 추가하기\n",
        "    items[item] = int(items[item]) + int(num)\n",
        "  elif a ==2: #a랑 2랑 같다면\n",
        "    item = input(\"물건의 이름을 입력하시오: \") #물건 이름 입력하기\n",
        "    num = input(\"몇개를 삭제하시겠습니까?: \") #물건 삭제하기\n",
        "    items[item] = int(items[item])-int(num)\n",
        "  else: #그렇지 않다면\n",
        "   break #멈춘다"
      ],
      "metadata": {
        "colab": {
          "base_uri": "https://localhost:8080/",
          "height": 523
        },
        "id": "kztEHY3e2gSt",
        "outputId": "3f7d2ce2-c8f5-4b96-d904-e63fed841158"
      },
      "execution_count": 9,
      "outputs": [
        {
          "name": "stdout",
          "output_type": "stream",
          "text": [
            "\n",
            "# 재고 목록 #\n",
            "우유 1\n",
            "종이컵 2\n",
            "책 5\n",
            "커피음료 7\n",
            "콜라 4\n",
            "펜 3\n",
            "\n",
            "***************\n",
            "0.종료\n",
            "1,재고추가\n",
            "*****************\n",
            "\n",
            "무엇을 하시겟습니까?: 콜라\n"
          ]
        },
        {
          "output_type": "error",
          "ename": "ValueError",
          "evalue": "ignored",
          "traceback": [
            "\u001b[0;31m---------------------------------------------------------------------------\u001b[0m",
            "\u001b[0;31mValueError\u001b[0m                                Traceback (most recent call last)",
            "\u001b[0;32m<ipython-input-9-ea1ce6ce20d8>\u001b[0m in \u001b[0;36m<module>\u001b[0;34m()\u001b[0m\n\u001b[1;32m     11\u001b[0m   \u001b[0mprint\u001b[0m\u001b[0;34m(\u001b[0m\u001b[0;34m\"1,재고추가\"\u001b[0m\u001b[0;34m)\u001b[0m\u001b[0;34m\u001b[0m\u001b[0;34m\u001b[0m\u001b[0m\n\u001b[1;32m     12\u001b[0m   \u001b[0mprint\u001b[0m\u001b[0;34m(\u001b[0m\u001b[0;34m\"*****************\\n\"\u001b[0m\u001b[0;34m)\u001b[0m\u001b[0;34m\u001b[0m\u001b[0;34m\u001b[0m\u001b[0m\n\u001b[0;32m---> 13\u001b[0;31m   \u001b[0ma\u001b[0m \u001b[0;34m=\u001b[0m \u001b[0mint\u001b[0m\u001b[0;34m(\u001b[0m\u001b[0minput\u001b[0m\u001b[0;34m(\u001b[0m\u001b[0;34m\"무엇을 하시겟습니까?: \"\u001b[0m\u001b[0;34m)\u001b[0m\u001b[0;34m)\u001b[0m\u001b[0;34m\u001b[0m\u001b[0;34m\u001b[0m\u001b[0m\n\u001b[0m\u001b[1;32m     14\u001b[0m \u001b[0;34m\u001b[0m\u001b[0m\n\u001b[1;32m     15\u001b[0m   \u001b[0;32mif\u001b[0m \u001b[0ma\u001b[0m \u001b[0;34m==\u001b[0m\u001b[0;36m1\u001b[0m\u001b[0;34m:\u001b[0m\u001b[0;34m\u001b[0m\u001b[0;34m\u001b[0m\u001b[0m\n",
            "\u001b[0;31mValueError\u001b[0m: invalid literal for int() with base 10: '콜라'"
          ]
        }
      ]
    },
    {
      "cell_type": "code",
      "source": [
        "english_dict = dict() #한영사전\n",
        "\n",
        "english_dict['하나']='one'\n",
        "english_dict['둘']='two'\n",
        "english_dict['셋']='three'\n",
        "\n",
        "word = input(\"단어를 입력하시오: \") #단어를 입력한다\n",
        "print (english_dict[word]) #한글이 출력된다"
      ],
      "metadata": {
        "colab": {
          "base_uri": "https://localhost:8080/"
        },
        "id": "htpFMuDk6O2n",
        "outputId": "892536fe-7fa4-49fa-c69a-a46a9f42a593"
      },
      "execution_count": 16,
      "outputs": [
        {
          "output_type": "stream",
          "name": "stdout",
          "text": [
            "단어를 입력하시오: 하나\n",
            "one\n"
          ]
        }
      ]
    },
    {
      "cell_type": "code",
      "source": [
        "import smtplib #stmplib 모듈 불러오기\n",
        "from email.mime.text import MIMEText\n",
        "\n",
        "me = 'abc@server.kr' #보내는 사람 메일 주소\n",
        "you = ['def1@server.com','def2@server.com','def@server.com'] #받는 사람 메일 주소\n",
        "\n",
        "contents = '12월 20일에 동창회가 있으니 참석해주시기 바랍니다'\n",
        "\n",
        "msg = MIMEText(contents, _charset='euc-kr') #딕셔너리로 구현됨\n",
        "msg['Subject'] = '동창회 모임'\n",
        "msg['From'] = me\n",
        "msg['To'] = you\n",
        "\n",
        "server = smtplib.SMTP('smtp.gmail.com',587) #자신의 구글계정 이용하기\n",
        "server.ehlo()\n",
        "server.starttls()\n",
        "server.ehlo()\n",
        "\n",
        "server.login(\"자신의 아이디\",\"패스워드\")\n",
        "\n",
        "for i in range(len(you)): #너만큼 반복하기\n",
        "  server.sendmail(me,you[i],msg.as_string())\n",
        "  server.quit()\n",
        "\n"
      ],
      "metadata": {
        "colab": {
          "base_uri": "https://localhost:8080/",
          "height": 400
        },
        "id": "W4Oyr02A8C-u",
        "outputId": "148e34be-5f50-4a3d-85dc-26f5f6cc431f"
      },
      "execution_count": 29,
      "outputs": [
        {
          "output_type": "error",
          "ename": "UnicodeEncodeError",
          "evalue": "ignored",
          "traceback": [
            "\u001b[0;31m---------------------------------------------------------------------------\u001b[0m",
            "\u001b[0;31mUnicodeEncodeError\u001b[0m                        Traceback (most recent call last)",
            "\u001b[0;32m<ipython-input-29-e86b0ce2765d>\u001b[0m in \u001b[0;36m<module>\u001b[0;34m()\u001b[0m\n\u001b[1;32m     17\u001b[0m \u001b[0mserver\u001b[0m\u001b[0;34m.\u001b[0m\u001b[0mehlo\u001b[0m\u001b[0;34m(\u001b[0m\u001b[0;34m)\u001b[0m\u001b[0;34m\u001b[0m\u001b[0;34m\u001b[0m\u001b[0m\n\u001b[1;32m     18\u001b[0m \u001b[0;34m\u001b[0m\u001b[0m\n\u001b[0;32m---> 19\u001b[0;31m \u001b[0mserver\u001b[0m\u001b[0;34m.\u001b[0m\u001b[0mlogin\u001b[0m\u001b[0;34m(\u001b[0m\u001b[0;34m\"자신의 아이디\"\u001b[0m\u001b[0;34m,\u001b[0m\u001b[0;34m\"패스워드\"\u001b[0m\u001b[0;34m)\u001b[0m\u001b[0;34m\u001b[0m\u001b[0;34m\u001b[0m\u001b[0m\n\u001b[0m\u001b[1;32m     20\u001b[0m \u001b[0;34m\u001b[0m\u001b[0m\n\u001b[1;32m     21\u001b[0m \u001b[0;32mfor\u001b[0m \u001b[0mi\u001b[0m \u001b[0;32min\u001b[0m \u001b[0mrange\u001b[0m\u001b[0;34m(\u001b[0m\u001b[0mlen\u001b[0m\u001b[0;34m(\u001b[0m\u001b[0myou\u001b[0m\u001b[0;34m)\u001b[0m\u001b[0;34m)\u001b[0m\u001b[0;34m:\u001b[0m\u001b[0;34m\u001b[0m\u001b[0;34m\u001b[0m\u001b[0m\n",
            "\u001b[0;32m/usr/lib/python3.7/smtplib.py\u001b[0m in \u001b[0;36mlogin\u001b[0;34m(self, user, password, initial_response_ok)\u001b[0m\n\u001b[1;32m    724\u001b[0m                 (code, resp) = self.auth(\n\u001b[1;32m    725\u001b[0m                     \u001b[0mauthmethod\u001b[0m\u001b[0;34m,\u001b[0m \u001b[0mgetattr\u001b[0m\u001b[0;34m(\u001b[0m\u001b[0mself\u001b[0m\u001b[0;34m,\u001b[0m \u001b[0mmethod_name\u001b[0m\u001b[0;34m)\u001b[0m\u001b[0;34m,\u001b[0m\u001b[0;34m\u001b[0m\u001b[0;34m\u001b[0m\u001b[0m\n\u001b[0;32m--> 726\u001b[0;31m                     initial_response_ok=initial_response_ok)\n\u001b[0m\u001b[1;32m    727\u001b[0m                 \u001b[0;31m# 235 == 'Authentication successful'\u001b[0m\u001b[0;34m\u001b[0m\u001b[0;34m\u001b[0m\u001b[0;34m\u001b[0m\u001b[0m\n\u001b[1;32m    728\u001b[0m                 \u001b[0;31m# 503 == 'Error: already authenticated'\u001b[0m\u001b[0;34m\u001b[0m\u001b[0;34m\u001b[0m\u001b[0;34m\u001b[0m\u001b[0m\n",
            "\u001b[0;32m/usr/lib/python3.7/smtplib.py\u001b[0m in \u001b[0;36mauth\u001b[0;34m(self, mechanism, authobject, initial_response_ok)\u001b[0m\n\u001b[1;32m    633\u001b[0m         \u001b[0minitial_response\u001b[0m \u001b[0;34m=\u001b[0m \u001b[0;34m(\u001b[0m\u001b[0mauthobject\u001b[0m\u001b[0;34m(\u001b[0m\u001b[0;34m)\u001b[0m \u001b[0;32mif\u001b[0m \u001b[0minitial_response_ok\u001b[0m \u001b[0;32melse\u001b[0m \u001b[0;32mNone\u001b[0m\u001b[0;34m)\u001b[0m\u001b[0;34m\u001b[0m\u001b[0;34m\u001b[0m\u001b[0m\n\u001b[1;32m    634\u001b[0m         \u001b[0;32mif\u001b[0m \u001b[0minitial_response\u001b[0m \u001b[0;32mis\u001b[0m \u001b[0;32mnot\u001b[0m \u001b[0;32mNone\u001b[0m\u001b[0;34m:\u001b[0m\u001b[0;34m\u001b[0m\u001b[0;34m\u001b[0m\u001b[0m\n\u001b[0;32m--> 635\u001b[0;31m             \u001b[0mresponse\u001b[0m \u001b[0;34m=\u001b[0m \u001b[0mencode_base64\u001b[0m\u001b[0;34m(\u001b[0m\u001b[0minitial_response\u001b[0m\u001b[0;34m.\u001b[0m\u001b[0mencode\u001b[0m\u001b[0;34m(\u001b[0m\u001b[0;34m'ascii'\u001b[0m\u001b[0;34m)\u001b[0m\u001b[0;34m,\u001b[0m \u001b[0meol\u001b[0m\u001b[0;34m=\u001b[0m\u001b[0;34m''\u001b[0m\u001b[0;34m)\u001b[0m\u001b[0;34m\u001b[0m\u001b[0;34m\u001b[0m\u001b[0m\n\u001b[0m\u001b[1;32m    636\u001b[0m             \u001b[0;34m(\u001b[0m\u001b[0mcode\u001b[0m\u001b[0;34m,\u001b[0m \u001b[0mresp\u001b[0m\u001b[0;34m)\u001b[0m \u001b[0;34m=\u001b[0m \u001b[0mself\u001b[0m\u001b[0;34m.\u001b[0m\u001b[0mdocmd\u001b[0m\u001b[0;34m(\u001b[0m\u001b[0;34m\"AUTH\"\u001b[0m\u001b[0;34m,\u001b[0m \u001b[0mmechanism\u001b[0m \u001b[0;34m+\u001b[0m \u001b[0;34m\" \"\u001b[0m \u001b[0;34m+\u001b[0m \u001b[0mresponse\u001b[0m\u001b[0;34m)\u001b[0m\u001b[0;34m\u001b[0m\u001b[0;34m\u001b[0m\u001b[0m\n\u001b[1;32m    637\u001b[0m         \u001b[0;32melse\u001b[0m\u001b[0;34m:\u001b[0m\u001b[0;34m\u001b[0m\u001b[0;34m\u001b[0m\u001b[0m\n",
            "\u001b[0;31mUnicodeEncodeError\u001b[0m: 'ascii' codec can't encode characters in position 1-3: ordinal not in range(128)"
          ]
        }
      ]
    }
  ]
}