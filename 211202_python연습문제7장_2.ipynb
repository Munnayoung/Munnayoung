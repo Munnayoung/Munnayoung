{
  "nbformat": 4,
  "nbformat_minor": 0,
  "metadata": {
    "colab": {
      "name": "211202_python연습문제7장-2",
      "provenance": [],
      "authorship_tag": "ABX9TyM6O3sepLYqR7y2Vlidg73p",
      "include_colab_link": true
    },
    "kernelspec": {
      "name": "python3",
      "display_name": "Python 3"
    },
    "language_info": {
      "name": "python"
    }
  },
  "cells": [
    {
      "cell_type": "markdown",
      "metadata": {
        "id": "view-in-github",
        "colab_type": "text"
      },
      "source": [
        "<a href=\"https://colab.research.google.com/github/Munnayoung/Munnayoung/blob/%EC%97%B0%EC%8A%B5%EB%AC%B8%EC%A0%9C-3%EC%9E%A5%EC%9D%B4%ED%9B%84%EB%B6%80%ED%84%B0%EB%9E%91-%EB%8F%84%EC%A0%84%EB%AC%B8%EC%A0%9C%EC%8B%9C%EB%A6%AC%EC%A6%88/211202_python%EC%97%B0%EC%8A%B5%EB%AC%B8%EC%A0%9C7%EC%9E%A5_2.ipynb\" target=\"_parent\"><img src=\"https://colab.research.google.com/assets/colab-badge.svg\" alt=\"Open In Colab\"/></a>"
      ]
    },
    {
      "cell_type": "code",
      "metadata": {
        "id": "iC4VzKf1JoS5"
      },
      "source": [
        "2.\n",
        "import turtle       #터틀그래픽 모듈을 불러온다\n",
        "t = turtle.Turtle() #거북이를 만든다\n",
        "t.shape(\"turtle\")   #커서의 모양을 거북이로 한다\n",
        "t.speed(0)          #스피드를 0으로 한다\n",
        "\n",
        "def hexagon():\n",
        "  for i in range:        #반복한다 \n",
        "    turtle.forward(100)  #거북이를 100만큼 전진한다\n",
        "    turtle.left(360/6)   #거북이를 왼쪽으로 360/6만큼 회전한다\n",
        "  for i in range(6):     #6번 반복한다\n",
        "    hexagon()\n",
        "    turtle.forward(100)  #거북이를 100만큼 전진한다\n",
        "    turtle.right(60)     #거북이를 60만큼 우회전 한다\n"
      ],
      "execution_count": null,
      "outputs": []
    },
    {
      "cell_type": "code",
      "metadata": {
        "id": "URyyJWb-LTHq"
      },
      "source": [
        "3\n",
        "import turtle       #터틀그래픽 모듈을 불러온다\n",
        "t = turtle.Turtle() #거북이를 만든다\n",
        "t.shape(\"turtle\")   #커서의 모양을 거북이로 한다\n",
        "t.speed(0)          #속도를 0으로 한다\n",
        "\n",
        "def f(x):\n",
        "  return x**2+1\n",
        "t.goto(200,0)  #(200,0)이동한다\n",
        "t.goto(0,0)    #(0,0)으로 이동한다\n",
        "t.goto(0,200)  #(0,200)으로 이동한다\n",
        "t.goto(0,0)    #(0,0)으로 이동한다\n",
        "\n",
        "for x in range(150):\n",
        "  t.goto(x,int(0.01*f(x)))"
      ],
      "execution_count": null,
      "outputs": []
    },
    {
      "cell_type": "code",
      "metadata": {
        "id": "bUaJdkVVMROT"
      },
      "source": [
        "4.\n",
        "import turtle       #터틀 그래픽 모듈을 불러온다\n",
        "t = turtle.Turtle() #거북이를 만든다\n",
        "t.shape(\"turtle\")   #커서의 모양을 거북이로 한다\n",
        "t.speed(0)          #속도를 0으로 한다\n",
        " \n",
        "def draw_line():  #선을 그린다\n",
        "  t.forward(100)  #100만큼 전진한다\n",
        "  t.backward(100) #100만큼 뒤로간다\n",
        "\n",
        "for x in range(12):\n",
        "  t.right(30)  #30만큼 우회전한다\n",
        "  draw_line()  #선을 그린다\n"
      ],
      "execution_count": null,
      "outputs": []
    },
    {
      "cell_type": "code",
      "metadata": {
        "colab": {
          "base_uri": "https://localhost:8080/"
        },
        "id": "IxkUNOTGNIQ7",
        "outputId": "817025d1-8ca6-4928-eff7-5efa7c6351fa"
      },
      "source": [
        "5\n",
        "def happyBirthday(person): \n",
        "    print(\"Happy Birthday to you!\")       #너의 생일 축하해를 입력한다\n",
        "    print(\"Happy Birthday to you!\")       #너의 생일 축하해를 입력한다\n",
        "    print(\"Happy Birthday,dear \"+ person) #생일축하해,사람에게\n",
        "    print(\"Happy Birthday to you!\")       #너의 생일 축하해를 입력한다\n",
        "\n",
        "happyBirthday(\"홍길동\")                   #홍길동 생일축하해"
      ],
      "execution_count": 1,
      "outputs": [
        {
          "output_type": "stream",
          "name": "stdout",
          "text": [
            "Happy Birthday to you!\n",
            "Happy Birthday to you!\n",
            "Happy Birthday,dear 홍길동\n",
            "Happy Birthday to you!\n"
          ]
        }
      ]
    },
    {
      "cell_type": "code",
      "metadata": {
        "colab": {
          "base_uri": "https://localhost:8080/"
        },
        "id": "TlsQI_87N1rU",
        "outputId": "d4cb7786-6500-4fa7-eb1b-64e9766f7deb"
      },
      "source": [
        "6\n",
        "def sumProblem(x,y): #(x,y)에 대한 문제\n",
        "  sum = x+y \n",
        "  sentence = \"정수\" + str(x) + \"+\"+str(y)+\"의 합은?\" \n",
        "  print(sentence)    #문장이 입력이된다\n",
        "\n",
        "def main():\n",
        "  a = int(input(\"첫 번째 정수: \")) #첫번째 정수가 입력된다\n",
        "  b = int(input(\"두 번째 정수: \")) #두번째 정수가 입력된다\n",
        "  sumProblem(a,b)                  #(a.b)에 대한 합문제\n",
        "\n",
        "main()\n"
      ],
      "execution_count": 3,
      "outputs": [
        {
          "output_type": "stream",
          "name": "stdout",
          "text": [
            "첫 번째 정수: 10\n",
            "두 번째 정수: 20\n",
            "정수10+20의 합은?\n"
          ]
        }
      ]
    },
    {
      "cell_type": "code",
      "metadata": {
        "colab": {
          "base_uri": "https://localhost:8080/"
        },
        "id": "yDgV1ZwMPUOf",
        "outputId": "d7fc397d-396a-406e-9f39-f1af389b5e52"
      },
      "source": [
        "7\n",
        "PI = 3.14159265358979            #원주율\n",
        "\n",
        "def circleArea(radius):          #원의 넓이\n",
        "  return PI*radius*radius        #파이 곱하기 원의 반지름 곱하기 원의 반지름\n",
        "\n",
        "def circleCircumference(radius): #원의 둘레를 계산하는 함수\n",
        "  return 2*PI*radius             #2 곱하기 파이 곱하기 원의 반지름\n",
        "\n",
        "def main():\n",
        "    print(\"반지름이 5인 원의 면적:\",circleArea(5))          #원의 면적\n",
        "    print(\"반지름이 5인 원의 둘레:\",circleCircumference(5)) #원의 둘레\n",
        "\n",
        "main()"
      ],
      "execution_count": 7,
      "outputs": [
        {
          "output_type": "stream",
          "name": "stdout",
          "text": [
            "반지름이 5인 원의 면적: 78.53981633974475\n",
            "반지름이 5인 원의 둘레: 31.4159265358979\n"
          ]
        }
      ]
    },
    {
      "cell_type": "code",
      "metadata": {
        "colab": {
          "base_uri": "https://localhost:8080/"
        },
        "id": "jYQiJX_aRYUk",
        "outputId": "2a11469d-bb85-438a-8a4e-305b399ecc65"
      },
      "source": [
        "8\n",
        "def add(a,b): #a와 b를 더한다\n",
        "  print(\"(%d + %d)\" % (a,b), end= \"\")\n",
        "  return a + b\n",
        "\n",
        "def subtract(a,b): #a와 b를 뺀다\n",
        " print(\"(%d - %d)\" % (a,b), end= \"\")\n",
        "\n",
        "def multiply (a,b): #a와 b를 곱한다\n",
        "  print(\"(%d * %d)\" % (a,b), end= \"\")\n",
        "  return a * b\n",
        "\n",
        "def divide (a,b): #a와 b를 나눈다\n",
        "  print (\"(%d / %d)\" % (a,b), end=\"\")\n",
        "  return a / b\n",
        "\n",
        "what = add(20,10)\n",
        "print(\"=\",what) #무엇이 출력된다"
      ],
      "execution_count": 14,
      "outputs": [
        {
          "output_type": "stream",
          "name": "stdout",
          "text": [
            "(20 + 10)= 30\n"
          ]
        }
      ]
    }
  ]
}