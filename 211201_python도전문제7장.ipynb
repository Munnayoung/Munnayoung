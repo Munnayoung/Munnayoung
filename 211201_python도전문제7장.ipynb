{
  "nbformat": 4,
  "nbformat_minor": 0,
  "metadata": {
    "colab": {
      "name": "211201_python도전문제7장",
      "provenance": [],
      "authorship_tag": "ABX9TyMQizLP4W+J+F7L8/eXLB8J",
      "include_colab_link": true
    },
    "kernelspec": {
      "name": "python3",
      "display_name": "Python 3"
    },
    "language_info": {
      "name": "python"
    }
  },
  "cells": [
    {
      "cell_type": "markdown",
      "metadata": {
        "id": "view-in-github",
        "colab_type": "text"
      },
      "source": [
        "<a href=\"https://colab.research.google.com/github/Munnayoung/Munnayoung/blob/%EC%97%B0%EC%8A%B5%EB%AC%B8%EC%A0%9C-3%EC%9E%A5%EC%9D%B4%ED%9B%84%EB%B6%80%ED%84%B0%EB%9E%91-%EB%8F%84%EC%A0%84%EB%AC%B8%EC%A0%9C%EC%8B%9C%EB%A6%AC%EC%A6%88/211201_python%EB%8F%84%EC%A0%84%EB%AC%B8%EC%A0%9C7%EC%9E%A5.ipynb\" target=\"_parent\"><img src=\"https://colab.research.google.com/assets/colab-badge.svg\" alt=\"Open In Colab\"/></a>"
      ]
    },
    {
      "cell_type": "code",
      "metadata": {
        "id": "oFCm-RX4yvXb"
      },
      "source": [
        "import turtle       #터틀 그래픽 모듈을 불러온다\n",
        "t = turtle.Turtle() #거북이를 만든다\n",
        "t.shape(\"turtle\")   #커서의 모양을 거북이로 한다\n",
        "\n",
        "def shape(length): #length는 한변의 길이\n",
        "  s = turtle.textinput(\"\",\"몇각형을 원하시나요?: \") #몇각형을 원하는지 입력된다\n",
        "  n = int(s)\n",
        "\n",
        "  for i in range(n):  #n번 반복한다\n",
        "    t.forward(length) #length만큼 전진한다\n",
        "    t.left(360/n)     #360/n만큼 좌회전한다\n",
        "  \n",
        "t.up()         #펜을든다\n",
        "t.goto(-200,0) #(-200,0)으로 이동한다\n",
        "t.down()       #펜을 내린다\n",
        "shape(100);    #100크기 모양을 만든다\n",
        "\n",
        "t.up()         #펜을 든다\n",
        "t.goto(0,0)    #(0,0)만큼 이동한다\n",
        "t.down()       #펜을 내린다\n",
        "shape(100);    #100크기 모양을 만든다\n",
        "\n",
        "t.up()         #펜을 든다\n",
        "t.goto(200,0   #(200,0)만큼 이동한다\n",
        "t.down()       #펜을 내린다\n",
        "shape(100);    #100크기 모양을 만든다"
      ],
      "execution_count": null,
      "outputs": []
    },
    {
      "cell_type": "code",
      "metadata": {
        "id": "KObNSx5S1mr5"
      },
      "source": [
        "import turtle       #터틀 그래픽 모듈을 불러온다\n",
        "t = turtle.Turtle() #거북이를 만든다\n",
        "t.shape(\"turtle\")   #커서의 모양을 거북이로 한다\n",
        "\n",
        "def square(length,index):   #length는 한변의 길이\n",
        "  t.color(colorList[index]) #색깔리스트\n",
        "  t.begin_fill              #채우기 시작한다\n",
        "  for i in range(4):        #4번 반복한다\n",
        "    t.forward(length)       #한변의 길이만큼 전진한다\n",
        "    t.left(90)              #90만큼 좌회전 한다\n",
        "  t.end_fill()              #채우기를 끝낸다\n",
        "\n",
        "colorList = [\"red\",\"blue\",\"green\"] #색깔 리스트는 빨강, 파랑 ,초록이다\n",
        "x = -200\n",
        "\n",
        "for i in range(len(colorList)): \n",
        "  t.up()          #펜을 든다\n",
        "  t.goto(x,0)     #(x,0)으로 이동한다\n",
        "  t.down()        #펜을 내린다\n",
        "  square(100,i);  #square() 함수를 호출한다\n",
        "  x+=200 "
      ],
      "execution_count": null,
      "outputs": []
    },
    {
      "cell_type": "code",
      "metadata": {
        "id": "wXsuqrFU4OSI"
      },
      "source": [
        "import turtle       #터틀그래픽 모듈을 불러온다\n",
        "t = turtle.Turtle() #거북이를 만든다\n",
        "\n",
        "#n-각형을 그리는 함수를 정의한다\n",
        "def n_polygon(n,length): #length는 한변의 길이\n",
        "  for i in range(n):     #n번 반복한다\n",
        "    t.forward(length)    #한변의 길이 만큼 전진한다\n",
        "    t.left(360/n)        #360/n 만큼 좌회전 한다\n",
        "\n",
        "def get_color(index):\n",
        "  list = [\"red\",\"orange\",\"yellow\",\"green\",\"blue\",\"navy\",\"purple\",\"gray\",\"skyblue\",\"pink\"] #색깔은 빨강,노랑,주황,초록,파랑,네이비,보라,회색,스카이블루,핑크색이 있다\n",
        "  t.color(list[index]) #색깔 리스트\n",
        "  t.begin_fill()       #채우기 시작한다\n",
        "  n_polygon(6,100) \n",
        "  t.end_fill()         #채우기를 끝낸다\n",
        "\n",
        "for i in range(10):    #10번 반복한다\n",
        "  t.left(20)           #20만큼 좌회전 한다\n",
        "  get_color(i)         #i색깔이 나타난다"
      ],
      "execution_count": null,
      "outputs": []
    },
    {
      "cell_type": "code",
      "metadata": {
        "id": "9CFS0TtW7Pm8"
      },
      "source": [
        "import turtle       #터틀 그래픽 모듈을 포함한다\n",
        "t = turtle.Turtle() #거북이를 만든다\n",
        "\n",
        "def circle(length): #length는 한변의 길이\n",
        "  t.circle(length) \n",
        "  t.left(60)        #60만큼 좌회전 한다\n",
        "\n",
        "def drawit(x,y): \n",
        "  t.penup()         #펜을 든다\n",
        "  t.goto(x,y)       #(x,y)로 이동한다\n",
        "  t.pendown()       #펜을 내린다\n",
        "  t.begin_fill()    #채우기 시작한다\n",
        "  t.color(\"green\")  #초록색으로\n",
        "  circle(50)        #원 50만큼\n",
        "  t.end_fill()      #채우기를 끝낸다\n",
        "\n",
        "s = turtle.Screen()     #그림이 그려지는 화면을 얻는다\n",
        "s.onscreenclick(drawit) #마우스 클릭 이벤트 처리 함수를 등록한다"
      ],
      "execution_count": null,
      "outputs": []
    },
    {
      "cell_type": "code",
      "metadata": {
        "id": "IJGPvLnY87ay"
      },
      "source": [
        "import turtle #터틀 그래픽 모듈을 포함한다\n",
        "import random #랜덤 모듈을 포함한다\n",
        "\n",
        "def tree(length);                #length는 한변의 길이\n",
        "angle = (random.randint(-20,20)) #-20,부터20사이의 난수를 생성하여 angle 변수에 저장한다\n",
        "if length > 5:                   #한변의 길이가 5 보다 크면 순환 호출을 한다\n",
        "  t.forward(length)              #거북이가 한변의 길이만큼 선을 그린다\n",
        "  t.right(20 +angle)             #오른쪽으로 랜덤한 각도만큼\n",
        "\n",
        "  tree(length-15 *(random.random()+0.4)) #랜덤인 값을 인수로 tree()를 호출한다\n",
        "  t.left(40 + (angle*2))                 #왼쪽으로 랜덤한 각도만큼\n",
        "  tree(length_15 *(random.random()+0.4)) #랜덤한 값을 인수로 tree()를 호출한다\n",
        "  t.right(20 + angle)                    #오른쪽으로 랜덤한 각도만큼\n",
        "  t.backward(length)                     #length만큼 뒤로 간다 제자리로\n",
        " \n",
        "t = turtle.Turtle() #거북이를 만든다\n",
        "t.left(90)          #90만큼 좌회전 한다\n",
        "\n",
        "t.color(\"green\")  #색깔을 초록색으로 한다\n",
        "t.speed(1)        #속도는 1로한다\n",
        "tree(90)          #나무가 90만큼 "
      ],
      "execution_count": null,
      "outputs": []
    }
  ]
}