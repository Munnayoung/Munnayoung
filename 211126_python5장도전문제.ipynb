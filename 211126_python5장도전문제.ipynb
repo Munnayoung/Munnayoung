{
  "nbformat": 4,
  "nbformat_minor": 0,
  "metadata": {
    "colab": {
      "name": "211126_python5장도전문제",
      "provenance": [],
      "authorship_tag": "ABX9TyMeC7kxA6xBrjPbfGurHgFS",
      "include_colab_link": true
    },
    "kernelspec": {
      "name": "python3",
      "display_name": "Python 3"
    },
    "language_info": {
      "name": "python"
    }
  },
  "cells": [
    {
      "cell_type": "markdown",
      "metadata": {
        "id": "view-in-github",
        "colab_type": "text"
      },
      "source": [
        "<a href=\"https://colab.research.google.com/github/Munnayoung/Munnayoung/blob/%EC%97%B0%EC%8A%B5%EB%AC%B8%EC%A0%9C-3%EC%9E%A5%EC%9D%B4%ED%9B%84%EB%B6%80%ED%84%B0%EB%9E%91-%EB%8F%84%EC%A0%84%EB%AC%B8%EC%A0%9C%EC%8B%9C%EB%A6%AC%EC%A6%88/211126_python5%EC%9E%A5%EB%8F%84%EC%A0%84%EB%AC%B8%EC%A0%9C.ipynb\" target=\"_parent\"><img src=\"https://colab.research.google.com/assets/colab-badge.svg\" alt=\"Open In Colab\"/></a>"
      ]
    },
    {
      "cell_type": "code",
      "metadata": {
        "colab": {
          "base_uri": "https://localhost:8080/"
        },
        "id": "FwE1EoM-6NIP",
        "outputId": "48dfdf93-b5ba-4fc1-eb90-9b8b707393dd"
      },
      "source": [
        "age = int(input(\"나이를 입력하시오: \"))                                 #나이를 입력한다\n",
        "if age >= 15:                                                           #만약에 나이가 15보다 같거나 크다면\n",
        "  print(\"이 영화를 보실 수 있습니다. 영화의 가격은 10000원입니다.\")     #참이면 여기서 출력된다\n",
        "else:                                                      \n",
        "  print(\"이 영화를 보실 수 없습니다. 다른 영화를 보시겠어요? \")         #그렇지 않으면 여기서 출력된다. "
      ],
      "execution_count": 2,
      "outputs": [
        {
          "output_type": "stream",
          "name": "stdout",
          "text": [
            "나이를 입력하시오: 20\n",
            "이 영화를 보실 수 있습니다. 영화의 가격은 10000원입니다.\n"
          ]
        }
      ]
    },
    {
      "cell_type": "code",
      "metadata": {
        "id": "G2HtVv9O7y-N"
      },
      "source": [
        "import turtle         #터틀 그래픽 모듈을  불러온다 \n",
        "t. turtle.Turtle()    #거북이를 만든다\n",
        "t.width(3)            #거북이가 그리는 선의 두께를 3으로 한다\n",
        "t.shape(\"turtle\")     #커서의 모양을 거북이로 한다.\n",
        "t.shapesize(3,3)      #거북이를 3배 확대한다\n",
        "while answer:         #무한 루프이다.\n",
        "  command=input(\"명령을 입력하시오: \")    #명령을 입력한다\n",
        "  if command== \"I\" or command == \"left\":  #사용자가 \"I\" 또는 \"left\"을 입력하였으면\n",
        "    t.left(90)                            #왼쪽으로 90만큼\n",
        "    t.forward(100)                        #100만큼 직진한다\n",
        "  if command == \"r\" or command == \"right\":#\"r\" 또는 \"right\"을 입력하였으면\n",
        "    t.right(90)                           #90만큼 오른쪽으로\n",
        "    t.forward(100)                        #100만큼 전진한다."
      ],
      "execution_count": null,
      "outputs": []
    },
    {
      "cell_type": "code",
      "metadata": {
        "id": "_422mu7s-8zs"
      },
      "source": [
        "import turtle       #터틀 그래픽 모듈을 불러온다\n",
        "t = turtle.Turtle() #거북이를 만든다\n",
        "t.width(3)          #거북이가 그리는 선의 두께를 3으로 한다\n",
        "t.shape(\"turtle\")   #커서의 모양을 거북이로 한다\n",
        "t.shapesize(3,3)    #거북이를 3배 확대한다\n",
        "\n",
        "flag = True         #루프 제어 변수인 flag를 둔다\n",
        "while flag:\n",
        "  command =input(\"명령을 입력하시오: \")    #명령을 입력한다\n",
        "  if command ==\"I\" or command == \"left\":   #사용자가 \"I\" 또는 \"left\"을 입력하였으면 \n",
        "       t.left(90) #왼쪽으로 90만큼\n",
        "       t.forward(100) #100만큼 전진한다\n",
        "  if command == \"r\" or command == \"right\": #사용자가 \"r\" 또는 \"right\"을 입력하였으면\n",
        "       t.right(90) #오른쪽으로 90만큼\n",
        "       t.forward(100) #100만큼 전진한다\n",
        "   if command == \"q\" or command == \"quit\":  #사용자가 \"q\" 또는 \"quit\"를 입력하였으면 \n",
        "       flag = False\n"
      ],
      "execution_count": null,
      "outputs": []
    },
    {
      "cell_type": "code",
      "metadata": {
        "colab": {
          "base_uri": "https://localhost:8080/"
        },
        "id": "yT9XRDayB7b2",
        "outputId": "006999b3-276f-44b9-df17-dab1d7335e6a"
      },
      "source": [
        "import random                                   #random module을 불러옵니다\n",
        "print(\"주사위 던지기 게임을 시작합니다.\")       #주사위 던지기 게임을 시작\n",
        "dice = random.randrange(6)+1                    #정수를 랜덤하게 설정한다\n",
        "print(\"주사위 눈은 \"+str(dice)+ \"입니다.\")      #주사위 눈이 입력된다\n",
        "print(\"게임은 종료되었습니다.\")                 #게임이 종료된다"
      ],
      "execution_count": 4,
      "outputs": [
        {
          "output_type": "stream",
          "name": "stdout",
          "text": [
            "주사위 던지기 게임을 시작합니다.\n",
            "주사위 눈은 5입니다.\n",
            "게임은 종료되었습니다.\n"
          ]
        }
      ]
    },
    {
      "cell_type": "code",
      "metadata": {
        "colab": {
          "base_uri": "https://localhost:8080/"
        },
        "id": "E744_Z5_DO77",
        "outputId": "500d0c28-fbdd-4c77-d363-830d6111b712"
      },
      "source": [
        "import random                                                    #random module을 불러옵니다\n",
        "time = random.randint(1,24)                                      #1에서 24사이 시간을 랜덤하게 설정합니다\n",
        "print(\"좋은 아침입니다. 지금 시각은 \"+ str(time)+\" 시 입니다.\")  #시각이 출력됩니다\n",
        "sunny = random.choice([True,False])                              #랜덤하게 출력합니다\n",
        "if sunny:                                 #만약에 날ㄹ씨가 화창하다면\n",
        "      print(\"현재 날씨가 화창합니다\")     #여기서 출력됩니다\n",
        "else:                           \n",
        "  print(\"현재 날씨가 화창하지 않습니다\")  #그렇지 않다면 여기서 출력됩니다\n",
        "\n",
        "#종달새가  노래를 할것인지 판단해보자\n",
        "if time >= 6 and time <9 and True:        #시간이 6시 보다 같거나 크고 9시보다 작다면\n",
        "  print(\"종달새가 노래를 한다.\")          #종달새가 노래합니다\n",
        "\n",
        "elif time >= 14 and time <16 and True:    #시각이 14시볻 크거나 같고 16시 보다 작다면\n",
        "  print(\"종달새가 노래를 한다.\"           #참이면 종달새가 노래합니다\n",
        "else:\n",
        "  print(\"종달새가 노래를 하지 않는다.\")   #그렇지 않다면 여기서 출력됩니다"
      ],
      "execution_count": 9,
      "outputs": [
        {
          "output_type": "stream",
          "name": "stdout",
          "text": [
            "좋은 아침입니다. 지금 시각은 12 시 입니다.\n",
            "현재 날씨가 화창합니다\n",
            "종달새가 노래를 하지 않는다.\n"
          ]
        }
      ]
    },
    {
      "cell_type": "code",
      "metadata": {
        "colab": {
          "base_uri": "https://localhost:8080/"
        },
        "id": "OZ-PnQkDGuFW",
        "outputId": "1713c0a3-c720-4bcb-e433-9b72631416fa"
      },
      "source": [
        "id = \"ilovepython\"                 #아이디는 illovepython이다\n",
        "pw = \"123456\"                      #패스워드는 123456이다\n",
        "s = input(\"아이디를 입력하시오:\")  #아이디를 입력하라\n",
        "if s ==id:                         #만약 s 랑id랑 같다면\n",
        "     p = input(\"패스워드를 입력하시오: \")  #패스워드를 입력하라\n",
        "     if p == pw:                           #만약 p랑 pw가 같다면\n",
        "       print(\"환영합니다\")                 #환영합니다가 출력된다\n",
        "     else: \n",
        "       print(\"q비밀번호가 잘못되었습니다.\") #그렇지 않다면 여기서 출력된다\n",
        "else:                                       \n",
        "  print(\"아이디를 찾을 수 없습니다.\")       #그렇지 않으면 아이디를 찾을 수 없다\n",
        "\n"
      ],
      "execution_count": 11,
      "outputs": [
        {
          "output_type": "stream",
          "name": "stdout",
          "text": [
            "아이디를 입력하시오:ilovepython\n",
            "패스워드를 입력하시오: 123456\n",
            "환영합니다\n"
          ]
        }
      ]
    },
    {
      "cell_type": "code",
      "metadata": {
        "colab": {
          "base_uri": "https://localhost:8080/"
        },
        "id": "B_uM5BoeIi2A",
        "outputId": "870e7dee-59ef-470b-d46c-44eb8ad2c69e"
      },
      "source": [
        "import random       #random module을 불러옵니다.\n",
        "\n",
        "options = [\"왼쪽 상단\",\"왼쪽하단\",\"중앙\",\"오른쪽 상단\",\"오른쪽하단\"] #왼쪽상단,왼족하단,중앙,오른족 상단,오른쪽 하단을 선택합니다\n",
        "computer_choice = random.choice(options)                             #컴퓨터가 랜덤으로 선택합니다\n",
        "user_choice = input(\"어디를 수비하시겠어요?(왼쪽상단,왼쪽하단,중앙,오른쪽상단,오른쪽하단)\") #사용자가 랜덤으로 고릅니다\n",
        "if computer_choice == user_choice:                                   #컴퓨터랑 사용자가 고른것이 일치하다면\n",
        "  print(\"수비에 성공하였습니다\")                                     #수비에 성공합니다가 출력됩니다\n",
        "else:\n",
        "  print(\"페널티 킥이 성공하였습니다\")                                #그렇지 않다면 여기서 출력됩니다"
      ],
      "execution_count": 12,
      "outputs": [
        {
          "output_type": "stream",
          "name": "stdout",
          "text": [
            "어디를 수비하시겠어요?(왼쪽상단,왼쪽하단,중앙,오른쪽상단,오른쪽하단)중앙\n",
            "페널티 킥이 성공하였습니다\n"
          ]
        }
      ]
    },
    {
      "cell_type": "code",
      "metadata": {
        "id": "AWauLCBmKZAh"
      },
      "source": [
        "import turtle       #터틀 그래픽 모듈을 불러옵니다\n",
        "t = turtle.Turtle() #거북이를 만들어낸다\n",
        "t.shape(\"turtle\")   #커서의 모양을 거북이로 한다\n",
        "\n",
        "s = turtle.textinput(\"\",\"도형을 입력하시오: \") #도형을 입력한다\n",
        "if s ==\"사각형\":                               #s가사각형이라면\n",
        "  s =turtle.textinut(\"\",\"가로: \")              #가로를 입력한다\n",
        "  w = int(s)                                   #w에s입력\n",
        "  s = turtle.textinput(\"\",\"세로: \")            #세로를 입력한다\n",
        "  h = int(s)   #h는 s입력\n",
        "  t.forward(w) #w만큼 앞으로간다\n",
        "  t.left(90)   #90만큼 왼쪽으로\n",
        "  t.forward(h) #h만큼 앞으로\n",
        "  t.left(90)   #90만큼 왼쪽으로\n",
        "  t.forward(w) #w만큼 앞으로\n",
        "  t.left(90)   #90만큼 왼쪽으로\n",
        "  t.forward(h) #h만큼 앞으로\n",
        "elif s== \"삼각형\":              #s가 삼각형 이라면\n",
        "  s = turtle.textinput(\"\",\"변\") #변을 입력한다\n",
        "  I = int(s)   #ㅣ에s입력\n",
        "  t.forward(I) #I만큼 전진한다\n",
        "  t.left(120)  #120만큼 왼쪽으로\n",
        "  t.forward(I) #l만큼 전진한다\n",
        "  t.left(120)  #왼쪽으로 120만큼\n",
        "  t.forward(I) #ㅣ만큼 직진한다\n",
        "elif s== \"원\": #s가원이라면\n",
        "  s= turtle.textinput(\"\",\"반지름:\") #반지름입력\n",
        "  r = int(s)  #r이s면\n",
        "  t.circle(r) #원이 생성된다\n",
        "else: \n",
        "  pass        #그렇지 않으면 패쓰다"
      ],
      "execution_count": null,
      "outputs": []
    }
  ]
}