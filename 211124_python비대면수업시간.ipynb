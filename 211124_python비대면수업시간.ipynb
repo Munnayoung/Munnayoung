{
  "nbformat": 4,
  "nbformat_minor": 0,
  "metadata": {
    "colab": {
      "name": "211124_python비대면수업시간",
      "provenance": [],
      "authorship_tag": "ABX9TyOd0uNkggUUgnUnVsFe+Zxu",
      "include_colab_link": true
    },
    "kernelspec": {
      "name": "python3",
      "display_name": "Python 3"
    },
    "language_info": {
      "name": "python"
    }
  },
  "cells": [
    {
      "cell_type": "markdown",
      "metadata": {
        "id": "view-in-github",
        "colab_type": "text"
      },
      "source": [
        "<a href=\"https://colab.research.google.com/github/Munnayoung/Munnayoung/blob/%EC%97%B0%EC%8A%B5%EB%AC%B8%EC%A0%9C-1%EC%9E%A5%2Ba/211124_python%EB%B9%84%EB%8C%80%EB%A9%B4%EC%88%98%EC%97%85%EC%8B%9C%EA%B0%84.ipynb\" target=\"_parent\"><img src=\"https://colab.research.google.com/assets/colab-badge.svg\" alt=\"Open In Colab\"/></a>"
      ]
    },
    {
      "cell_type": "code",
      "metadata": {
        "colab": {
          "base_uri": "https://localhost:8080/"
        },
        "id": "sN0UlPEZIkvm",
        "outputId": "a181062f-cca1-45c6-f2c6-ee57313b3b4e"
      },
      "source": [
        "score = int(input(\"점수를 입력하시오: \"))    #사용자가 입력을 요구합니다.\n",
        "if score >= 90:                              #score,즉 점수가 90 보다 크거나 같다면 이라면\n",
        "   print(\"A학점 입니다\")                     #출력하라 A학점을\n",
        "elif score >= 80:                            #score,즉 점수가 80보다 크거나 같다면 이라면\n",
        "  print(\"B학점 입니다\")                      #출력하라 B학점을\n",
        "elif score >= 70:                            #score,즉 점수가 70보다 크거나 같다면 이라면\n",
        "  print(\"C학점 입니다\")                      #출력하라 c학점을\n",
        "elif score >= 60:                            #score,즉 점수가 60 보다 크거나 같다면 이라면\n",
        "  print(\"D학점 입니다\")                      #출력하라 D학점을\n",
        "else:                                        #그렇지않으면\n",
        "  print(\"F학점 입니다.\")                     #출력하라 F학점을"
      ],
      "execution_count": 5,
      "outputs": [
        {
          "output_type": "stream",
          "name": "stdout",
          "text": [
            "점수를 입력하시오: 55\n",
            "F학점 입니다.\n"
          ]
        }
      ]
    },
    {
      "cell_type": "code",
      "metadata": {
        "colab": {
          "base_uri": "https://localhost:8080/"
        },
        "id": "8AV6L0ttK1lI",
        "outputId": "20e37a00-ded1-4807-f2e6-b762a0ba7219"
      },
      "source": [
        "import random                                         #random module을 불러옵니다\n",
        "x = random.randint(1,100)                             #x 의 값을 random의 정수 형태로 1에서 100사이의 값을 임의로 받습니다\n",
        "y = random.randint(1,100)                             #y 의 값을 random의 정수 형태로 1에서 100사이의 값을 임의로 받습니다\n",
        "\n",
        "answer = int(input(str(x)+\"-\"+str(y)+\"=\"))           #answer로 x,y 임의의 값 뺄셈한값 즉 답을 입력 받습니다\n",
        "\n",
        "if answer ==x-y:\n",
        "  print(\"맞았습니다\")                                #맞으면 이부분이 출력이 됩니다\n",
        "else:\n",
        "  print(\"틀렸습니다.\")                               #그렇지 않으면 이부분이 출력됩니다"
      ],
      "execution_count": 10,
      "outputs": [
        {
          "output_type": "stream",
          "name": "stdout",
          "text": [
            "94-71=23\n",
            "맞았습니다\n"
          ]
        }
      ]
    },
    {
      "cell_type": "code",
      "metadata": {
        "colab": {
          "base_uri": "https://localhost:8080/"
        },
        "id": "xpoEzIycNcPQ",
        "outputId": "cd79d970-c3da-4739-cd99-d360c97945b7"
      },
      "source": [
        "n = int(input(\"정수를 입력하시오\"))         #정수를 입력합니다\n",
        "\n",
        "if n%2 ==0 and n%3==0:                      #2와 3으로 계산해서 0이 되는 식이다. and 두조건이 모두 참일때 실행합니다\n",
        "  print(\"2와3으로 나누어 떨어집니다.\")      #참이면 여기서 실행됩니다\n",
        "else:\n",
        "  print(\"2와3으로 나누어 떨어지지 않습니다\")   #그렇지 않으면 여기서 실행됩니다"
      ],
      "execution_count": 11,
      "outputs": [
        {
          "output_type": "stream",
          "name": "stdout",
          "text": [
            "정수를 입력하시오50\n",
            "2와3으로 나누어 떨어지지 않습니다\n"
          ]
        }
      ]
    },
    {
      "cell_type": "code",
      "metadata": {
        "colab": {
          "base_uri": "https://localhost:8080/"
        },
        "id": "PiWEBRxaPOph",
        "outputId": "5a29f4b1-ba0a-4844-fcf5-a569dde0c4ac"
      },
      "source": [
        "import random                                               #random module을 불러옵니다\n",
        "    \n",
        "sol = random.randint(0,99)                                  #sol의 값을 random 정수형태로 0에서 99사이의 값을 임의로 받습니다\n",
        "user = int(input(\"복권번호를 입력하시오(0에서 99사이):\"))   #0에서 99사이 복권번호를 입력합니다\n",
        "\n",
        "digit1 = sol //10\n",
        "digit2 = sol%10\n",
        "\n",
        "u_digit1 = user //10\n",
        "u_digit2 = user %10\n",
        "\n",
        "print(\"당첨번호는\",sol,\"입니다.\")                           # 당첨번호를 입력합니다\n",
        "\n",
        "if (digit1 == u_digit1 and digit2 ==u_digit2 ):             #만약에 ()사이 주어진 글이 맞다면\n",
        "  print(\"상금은 100만원 입니다\")                            #상금은 100만원으로 출력됩니다\n",
        "\n",
        "elif (digit1 == u_digit1                                    #()사이 글이 맞다면\n",
        "     or digit1 == u_digit2\n",
        "     or digit2 == u_digit1\n",
        "     or digit2 == u_digit2):\n",
        "  print(\"상금은 50만원 입니다\")                             #상금이 50만원으로 출력됩니다\n",
        "else:\n",
        "  print(\"안타깝지만 상금은 없습니다\")                       #그렇지 않다면 이렇게 출력됩니다.\n"
      ],
      "execution_count": 13,
      "outputs": [
        {
          "output_type": "stream",
          "name": "stdout",
          "text": [
            "복권번호를 입력하시오(0에서 99사이):56\n",
            "당첨번호는 28 입니다.\n",
            "안타깝지만 상금은 없습니다\n"
          ]
        }
      ]
    },
    {
      "cell_type": "code",
      "metadata": {
        "id": "1jpO6MonSZ2Y"
      },
      "source": [
        "import turtle                                    #터틀그래픽 모듈을 불러옵니다\n",
        "t = turtle.turtle()                              #화면에 그릴 캔버스가 필요합니다\n",
        "t.shape(\"turtle\")                                #거북이 모양으로 생성합니다\n",
        "                                                                     \n",
        "x1 = int(input(\"큰원의 중심좌표 x1: \"))\n",
        "y1 = int(input(\"큰원의 중심좌표 y1: \"))\n",
        "r1 = int(input(\"큰원의 반지름:\"))\n",
        "x2 = int(input(\"작은원의 중심좌표 x2: \"))\n",
        "y2 = int(input(\"작은원의 중심좌표 y2: \"))\n",
        "r2 = int(input(\"작은원의 반지름: \"))\n",
        "\n",
        "t.penup()              #펜을 그립니다\n",
        "t.goto(x1,y1)          #x1,y1로 갑니다\n",
        "t.pendown()            #펜을그립니다\n",
        "t.circle(r1)            #r1이 생성됩니다\n",
        " \n",
        "t.penup()              #펜을 그립니다\n",
        "t.goto(x2,y2)          #x2,y2로 갑니다\n",
        "t.pendown()            #펜을 그립니다\n",
        "t.circle(r2)           #원r2를 그립니다\n",
        "\n",
        "dist = ((x1-x2)*(x1-x2)+(y1-y2)&(y1-y2))**0.5\n",
        "if dist <= r1 - r2:                          #만약거리가\n",
        "  turtle.write(\"두번째 원이 첫번째 원의 내부에 있습니다\")\n",
        "elif dist <= r1+r2:                          #만약거리가\n",
        "  turtle.write(\"두번째 원이 첫번째 원과 겹칩니다\")\n",
        "else:                                         #그렇지 않다면\n",
        "   turtle.write(\"두번째 원이 첫번째 원과 겹치지 않습니다\")\n",
        "t._screen.exitonclick()"
      ],
      "execution_count": null,
      "outputs": []
    }
  ]
}