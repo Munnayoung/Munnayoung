{
  "nbformat": 4,
  "nbformat_minor": 0,
  "metadata": {
    "colab": {
      "name": "211209_python연습문제10장_1",
      "provenance": [],
      "authorship_tag": "ABX9TyOLqhDRxNV7rEJBu3MPRcvn",
      "include_colab_link": true
    },
    "kernelspec": {
      "name": "python3",
      "display_name": "Python 3"
    },
    "language_info": {
      "name": "python"
    }
  },
  "cells": [
    {
      "cell_type": "markdown",
      "metadata": {
        "id": "view-in-github",
        "colab_type": "text"
      },
      "source": [
        "<a href=\"https://colab.research.google.com/github/Munnayoung/Munnayoung/blob/%EC%97%B0%EC%8A%B5%EB%AC%B8%EC%A0%9C-3%EC%9E%A5%EC%9D%B4%ED%9B%84%EB%B6%80%ED%84%B0%EB%9E%91-%EB%8F%84%EC%A0%84%EB%AC%B8%EC%A0%9C%EC%8B%9C%EB%A6%AC%EC%A6%88/211209_python%EC%97%B0%EC%8A%B5%EB%AC%B8%EC%A0%9C10%EC%9E%A5_1.ipynb\" target=\"_parent\"><img src=\"https://colab.research.google.com/assets/colab-badge.svg\" alt=\"Open In Colab\"/></a>"
      ]
    },
    {
      "cell_type": "code",
      "execution_count": 7,
      "metadata": {
        "colab": {
          "base_uri": "https://localhost:8080/",
          "height": 394
        },
        "id": "TB4Pyi4mGRVj",
        "outputId": "ecc83720-4a50-41f3-90ab-84cdf88fb038"
      },
      "outputs": [
        {
          "output_type": "error",
          "ename": "ImportError",
          "evalue": "ignored",
          "traceback": [
            "\u001b[0;31m---------------------------------------------------------------------------\u001b[0m",
            "\u001b[0;31mImportError\u001b[0m                               Traceback (most recent call last)",
            "\u001b[0;32m<ipython-input-7-0dc4e25a459f>\u001b[0m in \u001b[0;36m<module>\u001b[0;34m()\u001b[0m\n\u001b[1;32m      3\u001b[0m \u001b[0;31m#레이블은 간단한GUI프로그램\u001b[0m\u001b[0;34m\u001b[0m\u001b[0;34m\u001b[0m\u001b[0;34m\u001b[0m\u001b[0m\n\u001b[1;32m      4\u001b[0m \u001b[0;31m# 버튼 : (1)환영합니다. (2) 종료\u001b[0m\u001b[0;34m\u001b[0m\u001b[0;34m\u001b[0m\u001b[0;34m\u001b[0m\u001b[0m\n\u001b[0;32m----> 5\u001b[0;31m \u001b[0;32mfrom\u001b[0m \u001b[0mtkinter\u001b[0m \u001b[0;32mimport\u001b[0m \u001b[0mTK\u001b[0m\u001b[0;34m,\u001b[0m\u001b[0mLabel\u001b[0m\u001b[0;34m,\u001b[0m\u001b[0mButton\u001b[0m \u001b[0;31m#tkinter 모듈에 있는 모든 함수 포함 시키기\u001b[0m\u001b[0;34m\u001b[0m\u001b[0;34m\u001b[0m\u001b[0m\n\u001b[0m\u001b[1;32m      6\u001b[0m \u001b[0;34m\u001b[0m\u001b[0m\n\u001b[1;32m      7\u001b[0m \u001b[0;32mdef\u001b[0m \u001b[0mgreet\u001b[0m\u001b[0;34m(\u001b[0m\u001b[0;34m)\u001b[0m\u001b[0;34m:\u001b[0m  \u001b[0;31m#만난다\u001b[0m\u001b[0;34m\u001b[0m\u001b[0;34m\u001b[0m\u001b[0m\n",
            "\u001b[0;31mImportError\u001b[0m: cannot import name 'TK' from 'tkinter' (/usr/lib/python3.7/tkinter/__init__.py)",
            "",
            "\u001b[0;31m---------------------------------------------------------------------------\u001b[0;32m\nNOTE: If your import is failing due to a missing package, you can\nmanually install dependencies using either !pip or !apt.\n\nTo view examples of installing some common dependencies, click the\n\"Open Examples\" button below.\n\u001b[0;31m---------------------------------------------------------------------------\u001b[0m\n"
          ],
          "errorDetails": {
            "actions": [
              {
                "action": "open_url",
                "actionText": "Open Examples",
                "url": "/notebooks/snippets/importing_libraries.ipynb"
              }
            ]
          }
        }
      ],
      "source": [
        "1\n",
        "#하나의 레이블 2개의 버튼을 가지는 GUI프로그램을 작성하라\n",
        "#레이블은 간단한GUI프로그램\n",
        "# 버튼 : (1)환영합니다. (2) 종료\n",
        "from tkinter import TK,Label,Button #tkinter 모듈에 있는 모든 함수 포함 시키기\n",
        "\n",
        "def greet():  #만난다\n",
        "  print(\"파이썬에 오신 것을 환영합니다.\") #파이썬에 오신 것을 환영합니다\n",
        "\n",
        "window = Tk() #최상의 윈도우 생성하기\n",
        "label = Label(window,text=\"간단한 GUI 프로그램!\") #간단한 GUI프로그램 #버튼위젯 생성하기\n",
        "label.pack()\n",
        "\n",
        "greet_button = Button(window,text=\"환영합니다.\",command=greet) #환영합니다 #버튼위젯 생성하기\n",
        "greet_button.pack() #pack()메소드가 호출된다\n",
        "\n",
        "close_button = Button(window,text=\"종료\",command=window.quit) #종료한다 #버튼위젯 생성하기\n",
        "close_button.pack()  #pack() 메소드를 호출한걸 닫는다\n",
        "\n",
        "window.mainloop() #여러가지 이벤트를 처리하는 함수\n",
        "\n"
      ]
    },
    {
      "cell_type": "code",
      "source": [
        "2\n",
        "#사용자가 입력하면 값을 entry.get()으로 읽어서 정수로 변환한후 변수에 total에 합친다. 이 값을 레이블에 표시하면 된다\n",
        "from tkinter import Tk,Label,Entry,Intvar,END,W,E #tkinter 모듈에 있는 함수를 포함시키기\n",
        "def update_add(): \n",
        "  update(\"add\")\n",
        "\n",
        "def update_subtract():\n",
        "  update(\"subtract\")\n",
        "\n",
        "def update_reset():\n",
        "  update(\"reset\")\n",
        "\n",
        "window = Tk() #최상위 윈도우를 생성한다\n",
        "total = 0\n",
        "sum = Label(window) \n",
        "sum.grid(row=0,column=1,columnspan=2)\n",
        "\n",
        "label = Label(window,text=\"현재 합계: \") #현재합계\n",
        "label.grid(row=0, column=0)\n",
        "\n",
        "entry = Entry(window)\n",
        "entry.grid(row=1,column=0,columnspan=3)\n",
        "\n",
        "add_button = Button(window,text\"더하기(+)\",command=update_add)          #버튼 위젯 생성하기\n",
        "subtract_button = Button(window,text=\"빼기(-)\",command=update_subtract) #버튼 위젯 생성하기\n",
        "reset_button = Button(window,text=\"초기화\",command=update_reset)        #버튼 위젯 생성하기\n",
        "\n",
        "add_button.grid(row=2,column=0)\n",
        "subtract_button.grid(row=2,column=1)\n",
        "reset_button.grid(row=2,column=2)\n",
        "\n",
        "def update(method):\n",
        "  global total\n",
        "  if method==\"add\": #방법이 더하기랑 같다면\n",
        "    total+= int(entry.get())\n",
        "  elif method == \"subtract\": #method랑 subtract랑 같다면\n",
        "    total -= int(entry.get())\n",
        "  else:\n",
        "    total=0\n",
        "  sum['text']=str(total)\n",
        "  entry.delete(0,END)\n",
        "window.mainloop() #여러가지 이벤트를 처리하는 함수"
      ],
      "metadata": {
        "colab": {
          "base_uri": "https://localhost:8080/",
          "height": 137
        },
        "id": "RB13Vr3qKAiN",
        "outputId": "d59a8dfd-6a12-4779-979b-c35a5c00411c"
      },
      "execution_count": 5,
      "outputs": [
        {
          "output_type": "error",
          "ename": "SyntaxError",
          "evalue": "ignored",
          "traceback": [
            "\u001b[0;36m  File \u001b[0;32m\"<ipython-input-5-75c37c6342d3>\"\u001b[0;36m, line \u001b[0;32m23\u001b[0m\n\u001b[0;31m    add_button = Button(window,text\"더하기(+)\",command=update_add)\u001b[0m\n\u001b[0m                                          ^\u001b[0m\n\u001b[0;31mSyntaxError\u001b[0m\u001b[0;31m:\u001b[0m invalid syntax\n"
          ]
        }
      ]
    },
    {
      "cell_type": "code",
      "source": [
        "3\n",
        "import random #랜덤 모듈을 불러온다\n",
        "from tkinter import * #tkinter 모듈에 있는 함수를 포함시키기\n",
        "\n",
        "window = TK() #최상위의 윈도우를 생성한다\n",
        "secret_number = random.randint(1,100) #1부터 100사이의 랜덤난수를 생성하여 secret_number변수에 저장한다\n",
        "guess = None\n",
        "num_guesses = 0\n",
        "\n",
        "def guess_number(): #숫자 추측하기\n",
        "  global num_guesses\n",
        "  guess = int(entry.get())\n",
        "  num_guesses +=1\n",
        "  if guess == secret_number: #추측이 비밀 숫자 라면\n",
        "    message = \"축하합니다.!\" #축하합니다 라는 메서지가 출력된다\n",
        "  elif guess < secret_number: #추측보다 비밀숫자가 더 크다면\n",
        "    message = \"너무 낮아요.!\" #너무 낮다고 출력된다\n",
        "  else:                       #그렇지 않다면 너무 높다고 출력된다\n",
        "    message = \"너무 높아여.!\"\n",
        "  label['text'] = message\n",
        "\n",
        "def reset():\n",
        "    global num_guesses\n",
        "    entry.delete(0,END)\n",
        "    secret_number = random.randint(1,100) #1부터 100사이의 랜덤난수를 생성하여 secret_number라는 변수에 저장한다\n",
        "    guess = 0\n",
        "    message = \"1부터 100사이의 숫자를 추측하시오\" #숫자 추측하기\n",
        "    label['text'] = message\n",
        "\n",
        "message = \"1부터 100사이의 숫자를 추측하시오\" #숫자 추측하기\n",
        "label = Label(window,text=message)\n",
        "entry = Entry(window)\n",
        "\n",
        "guess_button = Button(window,text=\"숫자를 입력\",command=guess_number) #버튼위젯 생성하기\n",
        "reset_button = Button(window,text=\"게임을 다시 실행,command=reset\")   #버튼위젯 생성하기\n",
        "\n",
        "label.grid(row=0,column=0,columnspan=2,sticky=W+E)\n",
        "entry.grid(row=1,column=0 columnspan=2,sticky=W+E)\n",
        "guess.button.grid(row=2,column=0)\n",
        "reset_button.grid(row=2,column=1)\n",
        "\n",
        "window.mainloop() #여러가지 이벤트 항수를 처리하는 함수\n",
        "\n",
        "\n",
        "\n",
        "\n",
        "\n"
      ],
      "metadata": {
        "colab": {
          "base_uri": "https://localhost:8080/",
          "height": 137
        },
        "id": "5zuwFYH2Rr9o",
        "outputId": "f52ae9bb-1b65-4660-9d26-51adc3ac92c1"
      },
      "execution_count": 10,
      "outputs": [
        {
          "output_type": "error",
          "ename": "SyntaxError",
          "evalue": "ignored",
          "traceback": [
            "\u001b[0;36m  File \u001b[0;32m\"<ipython-input-10-8a8f1050ce0f>\"\u001b[0;36m, line \u001b[0;32m38\u001b[0m\n\u001b[0;31m    entry.grid(row=1,column=0 columnspan=2,sticky=W+E)\u001b[0m\n\u001b[0m                                       ^\u001b[0m\n\u001b[0;31mSyntaxError\u001b[0m\u001b[0;31m:\u001b[0m invalid syntax\n"
          ]
        }
      ]
    },
    {
      "cell_type": "code",
      "source": [
        "4\n",
        "import tkinter import* #tkinter 모듈에 있는 함수를 포함하라\n",
        "def do_convert():\n",
        "  inch_val = float(cut_from.get())\n",
        "  centimeters_val = inch_vql * 2.54\n",
        "  cvt_to.set('%s 센티미터' % centimeters_val)\n",
        "\n",
        "root = TK() #최상위 root생성하기\n",
        "cvt_from = StringVar()\n",
        "cvt_to = StringVar()\n",
        "\n",
        "lbl = Label(root,text=\"인치를 센티미터로 변환하는 프로그램\") #버튼위젯 생성하기\n",
        "lbl.grid(row=0,column=0,colmnspan=2)\n",
        "from_lbl = Label(root,text='인치를 입력하시오: ') #인치 입력하기\n",
        "from_lbl.grid(row=1,column=0)\n",
        "from_entry = Entry(root,textvariable=cvt_from)\n",
        "from_entry.grid(row=1,column=1)\n",
        "\n",
        "to_lbl = Label(root,text='변환결과:')\n",
        "to_lbl.grid(row=2,column=0)\n",
        "result_lbl = Label(root,textvariable=cvt_to)\n",
        "result_lbl.grid(row=2,column=1)\n",
        "\n",
        "convert_btn = Button(root,text='변환!',command=do_convert) #버튼 위젯 생성하기\n",
        "convert_btn.grid(row=3,column=1)\n",
        "\n",
        "root.mainloop() #여러가지 이벤트를 처리하는 함수\n"
      ],
      "metadata": {
        "id": "Cnj8_pYSX_Wl"
      },
      "execution_count": null,
      "outputs": []
    }
  ]
}