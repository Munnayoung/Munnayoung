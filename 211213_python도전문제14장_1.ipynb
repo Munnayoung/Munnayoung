{
  "nbformat": 4,
  "nbformat_minor": 0,
  "metadata": {
    "colab": {
      "name": "211213_python도전문제14장-1",
      "provenance": [],
      "authorship_tag": "ABX9TyNKeo48TyNhi1oRXYzGz8IO",
      "include_colab_link": true
    },
    "kernelspec": {
      "name": "python3",
      "display_name": "Python 3"
    },
    "language_info": {
      "name": "python"
    }
  },
  "cells": [
    {
      "cell_type": "markdown",
      "metadata": {
        "id": "view-in-github",
        "colab_type": "text"
      },
      "source": [
        "<a href=\"https://colab.research.google.com/github/Munnayoung/Munnayoung/blob/%EC%97%B0%EC%8A%B5%EB%AC%B8%EC%A0%9C-3%EC%9E%A5%EC%9D%B4%ED%9B%84%EB%B6%80%ED%84%B0%EB%9E%91-%EB%8F%84%EC%A0%84%EB%AC%B8%EC%A0%9C%EC%8B%9C%EB%A6%AC%EC%A6%88/211213_python%EB%8F%84%EC%A0%84%EB%AC%B8%EC%A0%9C14%EC%9E%A5_1.ipynb\" target=\"_parent\"><img src=\"https://colab.research.google.com/assets/colab-badge.svg\" alt=\"Open In Colab\"/></a>"
      ]
    },
    {
      "cell_type": "code",
      "execution_count": null,
      "metadata": {
        "id": "6kuRPjBYSp3O"
      },
      "outputs": [],
      "source": [
        "from tkinter import* #tkinter 모듈에 있는 모든 함수를 포함시키라는 의미\n",
        "import time\n",
        "\n",
        "class Ball:\n",
        "  def__init(self,canvas,color,size,x,y,xspeed,yspeed):\n",
        "    self.canvas=canvas\n",
        "    self.color=color\n",
        "    self.size=size\n",
        "    self.x=x\n",
        "    self.y=y\n",
        "    self.xspeed=xspeed\n",
        "    self.yspeed=yspeed\n",
        "    self.id = canvas.create_oval(x,y,z+size,Y+size,fill=color)\n",
        "\n",
        "def move(self):\n",
        "  self.canvas.move(self.id,self.xspeed,self.yspeed)\n",
        "  (x1,y1,x2,y2) = self.canvas.coords(self.id)\n",
        "  (self.x,self.y) = (x1,y1)\n",
        "if x1<=0 or x2>WIDTH:\n",
        "  self.xspeed=-self.xspeed\n",
        "if y1<=0 or y2>=HEIGHT:\n",
        "  self.yspeed = - self.yspeed\n",
        "\n",
        "WIDTH=800\n",
        "HEIGHT = 400\n",
        "\n",
        "window = Tk() #최상위 함수를 포함하라\n",
        "canvas = Canvas(window,width=WIDTH,height = HEIGHT) #캔버스위젯을 생성한다\n",
        "canvas.pack() #canvas에대하여 pack() 메소드를 출력하라\n",
        "ball = Ball(canvas,\"red\",30,0,0,30,20)\n",
        "\n",
        "while True:\n",
        "  ball.move()\n",
        "  window.update()\n",
        "  time.sleep(0.03)\n"
      ]
    }
  ]
}