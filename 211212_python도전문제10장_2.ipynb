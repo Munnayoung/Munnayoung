{
  "nbformat": 4,
  "nbformat_minor": 0,
  "metadata": {
    "colab": {
      "name": "211212_python도전문제10장_2",
      "provenance": [],
      "authorship_tag": "ABX9TyOzkmRsg70weUL3yiHnedlr",
      "include_colab_link": true
    },
    "kernelspec": {
      "name": "python3",
      "display_name": "Python 3"
    },
    "language_info": {
      "name": "python"
    }
  },
  "cells": [
    {
      "cell_type": "markdown",
      "metadata": {
        "id": "view-in-github",
        "colab_type": "text"
      },
      "source": [
        "<a href=\"https://colab.research.google.com/github/Munnayoung/Munnayoung/blob/%EC%97%B0%EC%8A%B5%EB%AC%B8%EC%A0%9C-1%EC%9E%A5%2Ba/211212_python%EB%8F%84%EC%A0%84%EB%AC%B8%EC%A0%9C10%EC%9E%A5_2.ipynb\" target=\"_parent\"><img src=\"https://colab.research.google.com/assets/colab-badge.svg\" alt=\"Open In Colab\"/></a>"
      ]
    },
    {
      "cell_type": "code",
      "execution_count": null,
      "metadata": {
        "id": "D1vLzMgbCUi9"
      },
      "outputs": [],
      "source": [
        "from tkinter import * #tkinter 모듈에 있는 모든함수를 포함시키라는 의미이다\n",
        "window = Tk() #최상위 윈도우를 생성하여야한다\n",
        "\n",
        "w =Button(window,text=\"버튼 1\",bg=\"red\",fg=\"white\") #버튼위젯을 생성한다\n",
        "w.place(x=0,y=0)\n",
        "w=Button(window,text=\"버튼2\",bg=\"orange\",fg=\"white\") #버튼위젯을 생성한다\n",
        "w.place(x=20,y=20)\n",
        "w = Button(window,text=\"버튼3\",bg=\"yellow\",fg=\"white\") #버튼위젯을 생성한다\n",
        "\n",
        "w.place(x=40,y=40)\n",
        "w = Button(window,text=\"버튼 4\",bg=\"green\",fg=\"white\") #버튼위젯을 생성한다\n",
        "w.place(x=60,y=60)\n",
        "w=Button(window,text=\"버튼5\",bg=\"blue\",fg=\"white\") #버튼위젯을 생성한다\n",
        "w.place(x=80,y=80)\n",
        "window.mainloop() #여러가지 이벤트를 처리하는 함수이다"
      ]
    },
    {
      "cell_type": "code",
      "source": [
        "from tkinter import* #tkinter모듈에 있는 함수를 포함시키라는 의미이다\n",
        "\n",
        "def paint(event):\n",
        "  global lastx,lasty\n",
        "  x,y = (event.x),(event.y)\n",
        "  canvas.create_line(lastx,lasty,x,y,fill=\"black\")\n",
        "  lastx,lasty=x,y\n",
        "\n",
        "def activate_paint(event):\n",
        "  global lastx,lasty\n",
        "  lastx,lasty = (event.x)(event.y)\n",
        "\n",
        "def release(event):\n",
        "  global lastx,lasty\n",
        "\n",
        "  if(lastx,lasty)==(event.x,event.y):\n",
        "    canvas.create_line(lastx,lasty,lastx+1,lasty+1)\n",
        "\n",
        "lastx,lasty=None,None\n",
        "window=Tk() #최상위 윈도우를 생성한다\n",
        "canvas = Canvas(window)\n",
        "canvas.pack()\n",
        "canvas.baind('<B1-Motion>',paint)\n",
        "canvas.bind('ButtonRelease-1>',release)\n",
        "window.mainloop() #여러가지 이벤트함수를 처리한다"
      ],
      "metadata": {
        "id": "BWUSERivFO5M"
      },
      "execution_count": null,
      "outputs": []
    }
  ]
}