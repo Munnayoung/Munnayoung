{
  "nbformat": 4,
  "nbformat_minor": 0,
  "metadata": {
    "colab": {
      "name": "211214_python도전문제14장-2",
      "provenance": [],
      "authorship_tag": "ABX9TyM5qt5KKcitLr+K8w8DX0cp",
      "include_colab_link": true
    },
    "kernelspec": {
      "name": "python3",
      "display_name": "Python 3"
    },
    "language_info": {
      "name": "python"
    }
  },
  "cells": [
    {
      "cell_type": "markdown",
      "metadata": {
        "id": "view-in-github",
        "colab_type": "text"
      },
      "source": [
        "<a href=\"https://colab.research.google.com/github/Munnayoung/Munnayoung/blob/%EC%97%B0%EC%8A%B5%EB%AC%B8%EC%A0%9C-3%EC%9E%A5%EC%9D%B4%ED%9B%84%EB%B6%80%ED%84%B0%EB%9E%91-%EB%8F%84%EC%A0%84%EB%AC%B8%EC%A0%9C%EC%8B%9C%EB%A6%AC%EC%A6%88/211214_python%EB%8F%84%EC%A0%84%EB%AC%B8%EC%A0%9C14%EC%9E%A5_2.ipynb\" target=\"_parent\"><img src=\"https://colab.research.google.com/assets/colab-badge.svg\" alt=\"Open In Colab\"/></a>"
      ]
    },
    {
      "cell_type": "code",
      "execution_count": null,
      "metadata": {
        "id": "oEEMftc1WQRo"
      },
      "outputs": [],
      "source": [
        "from tkinter import *\n",
        "import time\n",
        "import random\n",
        "\n",
        "WIDTH=800\n",
        "HEIGHT=400\n",
        "class Ball:\n",
        "  def__init__(self,canvas,color,size,x,y,xspeed,yspeed):\n",
        "    self.canvas = canvas #캔버스 객체\n",
        "    self.color = color #Ball의 색상\n",
        "    self.size = size #Ball의 크기\n",
        "    self.x = x #Ball의 x좌표\n",
        "    self.y = y #Ball의 y좌표\n",
        "    self.xspeed = xspeed #Ball의 수평 방향 속도\n",
        "    self.yspeed = yspeed #Ball의 수직 방향 속도\n",
        "    self.id = canvas.create_oval(x,y,x+size,y+size,fill=color)\n",
        "\n",
        "def move(self): #Ball을 이동시키는 함수\n",
        "    self.canvas.move(self.id,self.xspeed,self.yspeed)\n",
        "    (x1,y1,x2,y2) = self.canvas.coords(self.id) #공의 현재 위치를 얻는다\n",
        "  (self.x,self.y) = (x1,y1)\n",
        "if x1 <=0 or x2 >= WIDTH: #공의 x좌표가 음수이거나,x좌표가 오른쪽 경계를 넘으면\n",
        "  self.canvas.move(self.id,self.xspeed,self.yspeed)\n",
        "  (x1,y1,x2,y2)= self.canvas.coords(self.id) # 공의 현재위치를 얻는다\n",
        "  (self.x,self.y)=(x1,y1)\n",
        "  if x1 <=0 or x2 >= WIDTH: #공의 x좌표가 음수이거나 ,x좌표가 오른쪽 경계를 넘으면\n",
        "  self.xspeed = -self.xspeed #속도의 부호를 반전시킨다\n",
        "  if y1 <= 0 or y2 >= HEIGHT: #공의 y좌표가 음수이거나, y좌표가 오른쪽 경계를 넘으면\n",
        "  self.yspeed = -self.yspeed #속도의 부호를 반전시킨다\n",
        "\n",
        "#생성된 포탄을 저장하는 리스트\n",
        "bullets = []\n",
        "\n",
        "#이벤트를 처리하는 함수\n",
        "def fire (event):\n",
        "  bullets.append(Ball(canvas,\"red\",10,150,250,10.0))\n",
        "\n",
        "#적을 맞추면 점수가 올라가도록\n",
        "def getScore(score)\n",
        "score = score +1\n",
        "return score\n",
        "\n",
        "#윈도우를 생성한다\n",
        "window = Tk()\n",
        "canvas = canvas(window,width=WIDTH,height=HEIGHT)\n",
        "canvas.pack()\n",
        "canvas.bind(\"<Button-1>\",fire) #마우스 버튼을 클릭해 이벤트 함수를 연결한다\n",
        "score = 0\n",
        "var = StringVar()\n",
        "label = Label(window,textvariable = var,reliff = RALSED)\n",
        "\n",
        "#우리 우주선과 외계 우주선을 생성한다\n",
        "spaceship = Ball(canvas,\"green\",100,100,200,0,0)\n",
        "enemy = Ball(canvas,\"red\",100,500,200,0.5)\n",
        "\n",
        "#리스트에 저장된 각각의 객체들을 이동시킨다\n",
        "while True:\n",
        "  var.set(\"score:\"+str(score))\n",
        "  label.pack()\n",
        "  for bullet in bullets:\n",
        "    bullet.move()\n",
        "    #포탄이 화면을 벗어나면 삭제한다\n",
        "    if(bullet.x +bullet.size)>= WIDTH:\n",
        "      canvas.delete(bullet.id)\n",
        "      bullets.remove(bullet)\n",
        "    #적을 맞추면 점수가 올라간다\n",
        "    if bullet.x > enemy.x and bullet.x < enemy.x+enemy.size and bullet.y> enemy.y and bullet.y<enemy.y+enemy,size:\n",
        "      score = getScore(score)\n",
        "      enemy.move()\n",
        "      window.update()\n",
        "      time.sleep(0.03)\n"
      ]
    }
  ]
}