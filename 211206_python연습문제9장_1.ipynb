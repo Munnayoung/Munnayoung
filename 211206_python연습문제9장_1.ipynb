{
  "nbformat": 4,
  "nbformat_minor": 0,
  "metadata": {
    "colab": {
      "name": "211206_python연습문제9장-1",
      "provenance": [],
      "authorship_tag": "ABX9TyORPNUBUF8J0WqRcmsNRvYn",
      "include_colab_link": true
    },
    "kernelspec": {
      "name": "python3",
      "display_name": "Python 3"
    },
    "language_info": {
      "name": "python"
    }
  },
  "cells": [
    {
      "cell_type": "markdown",
      "metadata": {
        "id": "view-in-github",
        "colab_type": "text"
      },
      "source": [
        "<a href=\"https://colab.research.google.com/github/Munnayoung/Munnayoung/blob/%EC%97%B0%EC%8A%B5%EB%AC%B8%EC%A0%9C-3%EC%9E%A5%EC%9D%B4%ED%9B%84%EB%B6%80%ED%84%B0%EB%9E%91-%EB%8F%84%EC%A0%84%EB%AC%B8%EC%A0%9C%EC%8B%9C%EB%A6%AC%EC%A6%88/211206_python%EC%97%B0%EC%8A%B5%EB%AC%B8%EC%A0%9C9%EC%9E%A5_1.ipynb\" target=\"_parent\"><img src=\"https://colab.research.google.com/assets/colab-badge.svg\" alt=\"Open In Colab\"/></a>"
      ]
    },
    {
      "cell_type": "code",
      "metadata": {
        "colab": {
          "base_uri": "https://localhost:8080/"
        },
        "id": "Rb-FnThl8xP8",
        "outputId": "c011dbf1-c610-4246-d5eb-1cf4b6120d7a"
      },
      "source": [
        "1\n",
        "#리스트를 생성하고 사용자에게 받은 정수를 append()로 리스트에 추가한다. 리스트의 크기는 len(alist)을 사용,len은  내장함수로 사용\n",
        "alist = []                              #리스트\n",
        "sum = 0 \n",
        "\n",
        "for i in range(5):                      #5번 반복한다\n",
        "  i = int(input(\"정수를 입력하시오: \")) #정수를 입력한다\n",
        "  alist.append(i)                       #사용자에게 받은 정수를 append(i)로 리스트에 추가한다\n",
        "\n",
        "for i in alist:\n",
        "  sum += i\n",
        "  avg = sum / len(alist)                #리스트의 크기\n",
        "print(\"평균=\",avg)                      #평균이 출력된다\n"
      ],
      "execution_count": 1,
      "outputs": [
        {
          "output_type": "stream",
          "name": "stdout",
          "text": [
            "정수를 입력하시오: 10\n",
            "정수를 입력하시오: 20\n",
            "정수를 입력하시오: 30\n",
            "정수를 입력하시오: 40\n",
            "정수를 입력하시오: 50\n",
            "평균= 30.0\n"
          ]
        }
      ]
    },
    {
      "cell_type": "code",
      "metadata": {
        "colab": {
          "base_uri": "https://localhost:8080/"
        },
        "id": "9p2Apj_N-pZ-",
        "outputId": "047d20f7-6095-4866-9444-980ae17a199d"
      },
      "source": [
        "2\n",
        "#주사위 값이 나오는 빈도를 다음 같은 리스트에 저장해보자\n",
        "#counters = [0,0,0,0,0,0]\n",
        "#주사위를 던져서 값이 나오면 해당되는 리스트의 요소를 증가시킨다\n",
        "#value = random.randint(0,5)\n",
        "#counters[value] = counters[value] + 1\n",
        "\n",
        "import random         #랜덤 모듈을 불러온다\n",
        "counters = [0,0,0,0,0,0] \n",
        "\n",
        "for i in range(1000):                     #1000번을 반복한다\n",
        "    value = random.randint(0,5)           #0부터 5까지의 난수를 생성하여 value변수에 저장한다\n",
        "    counters[value] = counters[value] + 1 #counters[value]를 1 만큼 증가시킨다\n",
        "\n",
        "for i in range(6):                        #6번 증가시킨다\n",
        "  print(\"주사위가\",i + 1,\"인 경우는\", counters[i],\"번\") \n",
        "\n",
        "\n",
        "\n"
      ],
      "execution_count": 5,
      "outputs": [
        {
          "output_type": "stream",
          "name": "stdout",
          "text": [
            "주사위가 1 인 경우는 184 번\n",
            "주사위가 2 인 경우는 161 번\n",
            "주사위가 3 인 경우는 180 번\n",
            "주사위가 4 인 경우는 156 번\n",
            "주사위가 5 인 경우는 179 번\n",
            "주사위가 6 인 경우는 140 번\n"
          ]
        }
      ]
    },
    {
      "cell_type": "code",
      "metadata": {
        "colab": {
          "base_uri": "https://localhost:8080/",
          "height": 749
        },
        "id": "NqsqvD53CBjr",
        "outputId": "c37f1879-e677-4661-f4e8-06d76a20f2b4"
      },
      "source": [
        "3\n",
        "#공백 딕셔너리를 생성하고 사용자가 입력하는대로 딕셔너리에 추가되게 한다\n",
        "\n",
        "contacts = {}\n",
        "\n",
        "while True:\n",
        "  name = input(\"(입력모드) 이름을 입력하시오: \") #이름 입력하기\n",
        "  if not name:                                   #이름이 아니라면\n",
        "    break;                                       #멈춰 \n",
        "  tel = input(\"전화번호를 입력하시오: \")         #전화번호 입력\n",
        "  contacts[name] = tel                           #전화번호를 contacts[name]변수를 저장한다\n",
        "\n",
        "while True:\n",
        "  name = input(\"(검색모드)이름을 입력하시오: \")  #이름 입력하기\n",
        "  if not name:                                   #이름이 아니라면\n",
        "    break;                                       #멈춰\n",
        "  if name in contacts:\n",
        "    print(name,\"의 전화번호는\",contact[name],\"입니다.\")"
      ],
      "execution_count": 15,
      "outputs": [
        {
          "name": "stdout",
          "output_type": "stream",
          "text": [
            "(입력모드) 이름을 입력하시오: 유재석\n",
            "전화번호를 입력하시오: 01041804180\n",
            "(입력모드) 이름을 입력하시오: 나경은\n",
            "전화번호를 입력하시오: 01053035303\n",
            "(입력모드) 이름을 입력하시오: 유재석\n",
            "전화번호를 입력하시오: 01041804180\n",
            "(입력모드) 이름을 입력하시오: 나경은\n",
            "전화번호를 입력하시오: 01053035303\n",
            "(입력모드) 이름을 입력하시오: 문나영\n",
            "전화번호를 입력하시오: 01053034180\n"
          ]
        },
        {
          "output_type": "error",
          "ename": "KeyboardInterrupt",
          "evalue": "ignored",
          "traceback": [
            "\u001b[0;31m---------------------------------------------------------------------------\u001b[0m",
            "\u001b[0;31mKeyboardInterrupt\u001b[0m                         Traceback (most recent call last)",
            "\u001b[0;32m/usr/local/lib/python3.7/dist-packages/ipykernel/kernelbase.py\u001b[0m in \u001b[0;36m_input_request\u001b[0;34m(self, prompt, ident, parent, password)\u001b[0m\n\u001b[1;32m    728\u001b[0m             \u001b[0;32mtry\u001b[0m\u001b[0;34m:\u001b[0m\u001b[0;34m\u001b[0m\u001b[0;34m\u001b[0m\u001b[0m\n\u001b[0;32m--> 729\u001b[0;31m                 \u001b[0mident\u001b[0m\u001b[0;34m,\u001b[0m \u001b[0mreply\u001b[0m \u001b[0;34m=\u001b[0m \u001b[0mself\u001b[0m\u001b[0;34m.\u001b[0m\u001b[0msession\u001b[0m\u001b[0;34m.\u001b[0m\u001b[0mrecv\u001b[0m\u001b[0;34m(\u001b[0m\u001b[0mself\u001b[0m\u001b[0;34m.\u001b[0m\u001b[0mstdin_socket\u001b[0m\u001b[0;34m,\u001b[0m \u001b[0;36m0\u001b[0m\u001b[0;34m)\u001b[0m\u001b[0;34m\u001b[0m\u001b[0;34m\u001b[0m\u001b[0m\n\u001b[0m\u001b[1;32m    730\u001b[0m             \u001b[0;32mexcept\u001b[0m \u001b[0mException\u001b[0m\u001b[0;34m:\u001b[0m\u001b[0;34m\u001b[0m\u001b[0;34m\u001b[0m\u001b[0m\n",
            "\u001b[0;32m/usr/local/lib/python3.7/dist-packages/jupyter_client/session.py\u001b[0m in \u001b[0;36mrecv\u001b[0;34m(self, socket, mode, content, copy)\u001b[0m\n\u001b[1;32m    802\u001b[0m         \u001b[0;32mtry\u001b[0m\u001b[0;34m:\u001b[0m\u001b[0;34m\u001b[0m\u001b[0;34m\u001b[0m\u001b[0m\n\u001b[0;32m--> 803\u001b[0;31m             \u001b[0mmsg_list\u001b[0m \u001b[0;34m=\u001b[0m \u001b[0msocket\u001b[0m\u001b[0;34m.\u001b[0m\u001b[0mrecv_multipart\u001b[0m\u001b[0;34m(\u001b[0m\u001b[0mmode\u001b[0m\u001b[0;34m,\u001b[0m \u001b[0mcopy\u001b[0m\u001b[0;34m=\u001b[0m\u001b[0mcopy\u001b[0m\u001b[0;34m)\u001b[0m\u001b[0;34m\u001b[0m\u001b[0;34m\u001b[0m\u001b[0m\n\u001b[0m\u001b[1;32m    804\u001b[0m         \u001b[0;32mexcept\u001b[0m \u001b[0mzmq\u001b[0m\u001b[0;34m.\u001b[0m\u001b[0mZMQError\u001b[0m \u001b[0;32mas\u001b[0m \u001b[0me\u001b[0m\u001b[0;34m:\u001b[0m\u001b[0;34m\u001b[0m\u001b[0;34m\u001b[0m\u001b[0m\n",
            "\u001b[0;32m/usr/local/lib/python3.7/dist-packages/zmq/sugar/socket.py\u001b[0m in \u001b[0;36mrecv_multipart\u001b[0;34m(self, flags, copy, track)\u001b[0m\n\u001b[1;32m    624\u001b[0m         \"\"\"\n\u001b[0;32m--> 625\u001b[0;31m         \u001b[0mparts\u001b[0m \u001b[0;34m=\u001b[0m \u001b[0;34m[\u001b[0m\u001b[0mself\u001b[0m\u001b[0;34m.\u001b[0m\u001b[0mrecv\u001b[0m\u001b[0;34m(\u001b[0m\u001b[0mflags\u001b[0m\u001b[0;34m,\u001b[0m \u001b[0mcopy\u001b[0m\u001b[0;34m=\u001b[0m\u001b[0mcopy\u001b[0m\u001b[0;34m,\u001b[0m \u001b[0mtrack\u001b[0m\u001b[0;34m=\u001b[0m\u001b[0mtrack\u001b[0m\u001b[0;34m)\u001b[0m\u001b[0;34m]\u001b[0m\u001b[0;34m\u001b[0m\u001b[0;34m\u001b[0m\u001b[0m\n\u001b[0m\u001b[1;32m    626\u001b[0m         \u001b[0;31m# have first part already, only loop while more to receive\u001b[0m\u001b[0;34m\u001b[0m\u001b[0;34m\u001b[0m\u001b[0;34m\u001b[0m\u001b[0m\n",
            "\u001b[0;32mzmq/backend/cython/socket.pyx\u001b[0m in \u001b[0;36mzmq.backend.cython.socket.Socket.recv\u001b[0;34m()\u001b[0m\n",
            "\u001b[0;32mzmq/backend/cython/socket.pyx\u001b[0m in \u001b[0;36mzmq.backend.cython.socket.Socket.recv\u001b[0;34m()\u001b[0m\n",
            "\u001b[0;32mzmq/backend/cython/socket.pyx\u001b[0m in \u001b[0;36mzmq.backend.cython.socket._recv_copy\u001b[0;34m()\u001b[0m\n",
            "\u001b[0;32m/usr/local/lib/python3.7/dist-packages/zmq/backend/cython/checkrc.pxd\u001b[0m in \u001b[0;36mzmq.backend.cython.checkrc._check_rc\u001b[0;34m()\u001b[0m\n",
            "\u001b[0;31mKeyboardInterrupt\u001b[0m: ",
            "\nDuring handling of the above exception, another exception occurred:\n",
            "\u001b[0;31mKeyboardInterrupt\u001b[0m                         Traceback (most recent call last)",
            "\u001b[0;32m<ipython-input-15-876774fb68da>\u001b[0m in \u001b[0;36m<module>\u001b[0;34m()\u001b[0m\n\u001b[1;32m      5\u001b[0m \u001b[0;34m\u001b[0m\u001b[0m\n\u001b[1;32m      6\u001b[0m \u001b[0;32mwhile\u001b[0m \u001b[0;32mTrue\u001b[0m\u001b[0;34m:\u001b[0m\u001b[0;34m\u001b[0m\u001b[0;34m\u001b[0m\u001b[0m\n\u001b[0;32m----> 7\u001b[0;31m   \u001b[0mname\u001b[0m \u001b[0;34m=\u001b[0m \u001b[0minput\u001b[0m\u001b[0;34m(\u001b[0m\u001b[0;34m\"(입력모드) 이름을 입력하시오: \"\u001b[0m\u001b[0;34m)\u001b[0m\u001b[0;34m\u001b[0m\u001b[0;34m\u001b[0m\u001b[0m\n\u001b[0m\u001b[1;32m      8\u001b[0m   \u001b[0;32mif\u001b[0m \u001b[0;32mnot\u001b[0m \u001b[0mname\u001b[0m\u001b[0;34m:\u001b[0m\u001b[0;34m\u001b[0m\u001b[0;34m\u001b[0m\u001b[0m\n\u001b[1;32m      9\u001b[0m     \u001b[0;32mbreak\u001b[0m\u001b[0;34m;\u001b[0m\u001b[0;34m\u001b[0m\u001b[0;34m\u001b[0m\u001b[0m\n",
            "\u001b[0;32m/usr/local/lib/python3.7/dist-packages/ipykernel/kernelbase.py\u001b[0m in \u001b[0;36mraw_input\u001b[0;34m(self, prompt)\u001b[0m\n\u001b[1;32m    702\u001b[0m             \u001b[0mself\u001b[0m\u001b[0;34m.\u001b[0m\u001b[0m_parent_ident\u001b[0m\u001b[0;34m,\u001b[0m\u001b[0;34m\u001b[0m\u001b[0;34m\u001b[0m\u001b[0m\n\u001b[1;32m    703\u001b[0m             \u001b[0mself\u001b[0m\u001b[0;34m.\u001b[0m\u001b[0m_parent_header\u001b[0m\u001b[0;34m,\u001b[0m\u001b[0;34m\u001b[0m\u001b[0;34m\u001b[0m\u001b[0m\n\u001b[0;32m--> 704\u001b[0;31m             \u001b[0mpassword\u001b[0m\u001b[0;34m=\u001b[0m\u001b[0;32mFalse\u001b[0m\u001b[0;34m,\u001b[0m\u001b[0;34m\u001b[0m\u001b[0;34m\u001b[0m\u001b[0m\n\u001b[0m\u001b[1;32m    705\u001b[0m         )\n\u001b[1;32m    706\u001b[0m \u001b[0;34m\u001b[0m\u001b[0m\n",
            "\u001b[0;32m/usr/local/lib/python3.7/dist-packages/ipykernel/kernelbase.py\u001b[0m in \u001b[0;36m_input_request\u001b[0;34m(self, prompt, ident, parent, password)\u001b[0m\n\u001b[1;32m    732\u001b[0m             \u001b[0;32mexcept\u001b[0m \u001b[0mKeyboardInterrupt\u001b[0m\u001b[0;34m:\u001b[0m\u001b[0;34m\u001b[0m\u001b[0;34m\u001b[0m\u001b[0m\n\u001b[1;32m    733\u001b[0m                 \u001b[0;31m# re-raise KeyboardInterrupt, to truncate traceback\u001b[0m\u001b[0;34m\u001b[0m\u001b[0;34m\u001b[0m\u001b[0;34m\u001b[0m\u001b[0m\n\u001b[0;32m--> 734\u001b[0;31m                 \u001b[0;32mraise\u001b[0m \u001b[0mKeyboardInterrupt\u001b[0m\u001b[0;34m\u001b[0m\u001b[0;34m\u001b[0m\u001b[0m\n\u001b[0m\u001b[1;32m    735\u001b[0m             \u001b[0;32melse\u001b[0m\u001b[0;34m:\u001b[0m\u001b[0;34m\u001b[0m\u001b[0;34m\u001b[0m\u001b[0m\n\u001b[1;32m    736\u001b[0m                 \u001b[0;32mbreak\u001b[0m\u001b[0;34m\u001b[0m\u001b[0;34m\u001b[0m\u001b[0m\n",
            "\u001b[0;31mKeyboardInterrupt\u001b[0m: "
          ]
        }
      ]
    },
    {
      "cell_type": "code",
      "metadata": {
        "id": "HvlHwbAoGJxJ"
      },
      "source": [
        "4\n",
        "#draw_square(x,y,c)를 작성하고 for c in [\"yellow\",\"red\",\"purple\",\"blue\"]: t.draw_square(x,y,c)를 호출한다.\n",
        "\n",
        "import turtle      #터틀그래픽 모듈을 불러온다\n",
        "import random      #랜덤 모듈을 불러온다\n",
        "\n",
        "t = turle.Turtle() #거북이를 만든다\n",
        "t.shape(\"turtle\")  #커서의 모양을 거북이로 한다\n",
        "\n",
        "def draw_square(x,y,c): #그리는 공간\n",
        "  t.up()                #펜을 올린다\n",
        "  t.goto(x,y)           #(x,y)로 이동한다\n",
        "  t.down()              #펜을 내린다\n",
        "  t.color(\"black\",c)    #색깔을 검정으로 한다\n",
        "  t.begin_fill()        #채우기 시작한다\n",
        "  t.fd(100)             #100만큼 전진하라\n",
        "  t.left(90)            #90만큼 좌회전 해라\n",
        "  t.forward(100)        #100만큼 전진한다\n",
        "  t.left(90)            #90만큼 좌회전 한다\n",
        "  t.forward(100)        #100만큼 전진한다\n",
        "  t.left(90)            #90만큼 좌회전 한다\n",
        "  t.forward(100)        #100만큼 전진한다\n",
        "  t.left(90)            #90만큼 죄회전 한다\n",
        "  t.end_fill()          #채우기를 끝낸다\n",
        "for c in [\"yellow\",\"red\",\"purple\",\"blue\"]: #색깔은 노랑,빨강,보라,파랑이 있다\n",
        "  x = random.randint(-100,100)             #-100부터 100사이의 랜덤난수를 생성하여 x변수에 저장한다\n",
        "  y = random.randint(-100,100)             #-100부터 100사이의 랜덤난수를 생성하여 y변수에 저장한다\n",
        "  draw_square(x,y,c)                       #(x,y,c)그린다"
      ],
      "execution_count": null,
      "outputs": []
    },
    {
      "cell_type": "code",
      "metadata": {
        "id": "Y866C81SFd6W"
      },
      "source": [
        ""
      ],
      "execution_count": null,
      "outputs": []
    }
  ]
}